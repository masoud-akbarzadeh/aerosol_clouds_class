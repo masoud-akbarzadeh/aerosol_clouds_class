{
 "cells": [
  {
   "cell_type": "code",
   "execution_count": null,
   "id": "initial_id",
   "metadata": {
    "collapsed": true
   },
   "outputs": [],
   "source": []
  },
  {
   "cell_type": "code",
   "outputs": [],
   "source": [
    "# Function to convert N to DN/DlogDp # need to check the formula\n",
    "def dn_ddp_to_dn_dlogdp(dn_ddp_input, bins_geom_mean_input):  \n",
    "    # Convert the number distribution to dN/dlogDp\n",
    "    dn_dlogdp_out = dn_ddp_input * bins_geom_mean_input * np.log(10) # dN/dlogDp\n",
    "    return dn_dlogdp_out\n",
    "\n",
    "def num_dis_to_mass_dis(number_in_bins_input, bins_geom_mean_input, rho_p_input=1E3): # Convert the number distribution to mass distribution\n",
    "    # Convert the number distribution to mass distribution\n",
    "    # binsGeomMeanInput is the geometric mean of the bins\n",
    "    # numberInBinsInput is the number of particles in each bin\n",
    "    # rho_p_input is the density of the particle in kg/m^3\n",
    "    # massInBins is the mass of particles in each bin\n",
    "    m_p = dp_to_mp(bins_geom_mean_input, rho_p_input=rho_p_input)\n",
    "    mass_in_bins_out = number_in_bins_input * m_p\n",
    "    return mass_in_bins_out\n",
    "\n",
    "def mass_dis_to_num_dis(mass_in_bins_input, bins_geom_mean_input, rho_p_input=1E3):\n",
    "    # Convert the mass distribution to number distribution\n",
    "    # binsGeomMeanInput is the geometric mean of the bins\n",
    "    # massInBinsInput is the mass of particles in each bin\n",
    "    # rho_p_input is the density of the particle in kg/m^3\n",
    "    # numberInBins is the number of particles in each bin\n",
    "    number_in_bins_out = mass_in_bins_input / dp_to_mp(bins_geom_mean_input, rho_p_input=rho_p_input)\n",
    "    return number_in_bins_out\n",
    "\n",
    "def dp_to_mp(d_p, rho_p_input=1E3): #calculate the mass of the particle from the diameter\n",
    "    # Dp is the particle diameter in meters\n",
    "    # rho_p_input is the density of the particle in kg/m^3\n",
    "    # m_p is the mass of the particle in kg\n",
    "    m_p = np.pi * rho_p_input * d_p ** 3 / 6\n",
    "    return m_p\n",
    "\n",
    "def mp_to_dp(m_p, rho_p_input=1E3): #calculate the diameter of the particle from the mass\n",
    "    d_p = (6 * m_p / (np.pi * rho_p_input)) ** (1 / 3)\n",
    "    return d_p\n"
   ],
   "metadata": {
    "collapsed": false
   },
   "id": "96ded8829f4ab7bb"
  }
 ],
 "metadata": {
  "kernelspec": {
   "display_name": "Python 3",
   "language": "python",
   "name": "python3"
  },
  "language_info": {
   "codemirror_mode": {
    "name": "ipython",
    "version": 2
   },
   "file_extension": ".py",
   "mimetype": "text/x-python",
   "name": "python",
   "nbconvert_exporter": "python",
   "pygments_lexer": "ipython2",
   "version": "2.7.6"
  }
 },
 "nbformat": 4,
 "nbformat_minor": 5
}
