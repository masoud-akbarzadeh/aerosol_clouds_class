{
 "cells": [
  {
   "cell_type": "code",
   "outputs": [],
   "source": [
    "import numpy as np\n",
    "import pandas as pd\n",
    "from scipy import constants as const\n",
    "from pyfluids import Fluid, FluidsList, Input\n",
    "import matplotlib.pyplot as plt\n",
    "from icecream import ic"
   ],
   "metadata": {
    "collapsed": false,
    "ExecuteTime": {
     "end_time": "2024-03-08T22:49:51.652419Z",
     "start_time": "2024-03-08T22:49:51.648927Z"
    }
   },
   "id": "c8e5f5741df05878",
   "execution_count": 234
  },
  {
   "cell_type": "code",
   "outputs": [
    {
     "name": "stdout",
     "output_type": "stream",
     "text": [
      "This is a module that contains the functions that are could be useful for my projects\n"
     ]
    }
   ],
   "source": [
    "# For testing the module functions\n",
    "if __name__ == '__main__': # This is to test the module functions\n",
    "    print(\"This is a module that contains the functions that are could be useful for my projects\")\n",
    "\n",
    "\n",
    "# importing libraries"
   ],
   "metadata": {
    "collapsed": false,
    "ExecuteTime": {
     "end_time": "2024-03-08T22:49:52.466335Z",
     "start_time": "2024-03-08T22:49:52.462908Z"
    }
   },
   "id": "e76c1ddc3cf84063",
   "execution_count": 235
  },
  {
   "cell_type": "code",
   "outputs": [],
   "source": [
    "import numpy as np\n",
    "from pyfluids import Fluid, FluidsList, Input\n",
    "from scipy import constants as const\n",
    "import pandas as pd\n",
    "\n",
    "\n",
    "# Global constants"
   ],
   "metadata": {
    "collapsed": false,
    "ExecuteTime": {
     "end_time": "2024-03-08T22:49:53.394590Z",
     "start_time": "2024-03-08T22:49:53.390484Z"
    }
   },
   "id": "968b8c28ca71e51d",
   "execution_count": 236
  },
  {
   "cell_type": "code",
   "outputs": [],
   "source": [
    "h = const.Planck  # J s Planck constant\n",
    "r_gas_c = const.R  # J/(mol K) molar gas constant \n",
    "k_Boltzmann = const.Boltzmann  # J/K Boltzmann constant\n",
    "g = const.g  # m/s^2 acceleration due to gravity\n",
    "n_avo = const.Avogadro  # 1/mol Avogadro's number\n",
    "\n",
    "\n",
    "# Default air standard properties"
   ],
   "metadata": {
    "collapsed": false,
    "ExecuteTime": {
     "end_time": "2024-03-08T22:49:54.266140Z",
     "start_time": "2024-03-08T22:49:54.261950Z"
    }
   },
   "id": "fe761e153dcbefb9",
   "execution_count": 237
  },
  {
   "cell_type": "code",
   "outputs": [],
   "source": [
    "pressure_std = 101325  # Pa\n",
    "temperature_std = 273.15 + 25  # K #??????? need to make sure this is the right temperature\n",
    "air_std = Fluid(FluidsList.Air).with_state(Input.pressure(pressure_std), Input.temperature(temperature_std - 273.15))\n",
    "rho_h2so4_std = 1840 # density of H2SO4 in kg/m^3 at 25 C\n",
    "# Functions"
   ],
   "metadata": {
    "collapsed": false,
    "ExecuteTime": {
     "end_time": "2024-03-08T22:49:55.793870Z",
     "start_time": "2024-03-08T22:49:55.789231Z"
    }
   },
   "id": "953677f748a3fee8",
   "execution_count": 238
  },
  {
   "cell_type": "code",
   "outputs": [],
   "source": [
    "\n",
    "\n",
    "def c_cunningham(d_p, lamda=65E-9):\n",
    "    # defining the function\n",
    "    # Cunningham correction factor\n",
    "    # Dp is the particle diameter in meters\n",
    "    # lamda is the mean free path of the gas in meters\n",
    "    # C is the Cunningham correction factor\n",
    "    kn = 2 * lamda / d_p\n",
    "    return 1 + kn * (1.257 + 0.4 * np.exp(-1.1 / kn))\n"
   ],
   "metadata": {
    "collapsed": false,
    "ExecuteTime": {
     "end_time": "2024-03-08T22:49:57.345719Z",
     "start_time": "2024-03-08T22:49:57.341901Z"
    }
   },
   "id": "ea17cb18336d4901",
   "execution_count": 239
  },
  {
   "cell_type": "code",
   "outputs": [],
   "source": [
    "\n",
    "\n",
    "def mean_free_path(temperature: float, pressure: float):\n",
    "    # mean free path of air calculator\n",
    "    # T is the temperature in Kelvin\n",
    "    # P is the pressure in Pascals\n",
    "    # lamda is the mean free path of the gas in meters\n",
    "    r_gas_constant = const.R  # J/(mol K) gas constant\n",
    "    M = 0.0289647  # kg/mol molar mass of air\n",
    "    air = Fluid(FluidsList.Air).with_state(Input.pressure(pressure), Input.temperature(temperature - 273.15))\n",
    "    viscosity = air.dynamic_viscosity  # Pa s dynamic viscosity\n",
    "    return 2 * viscosity / (pressure * np.sqrt(8 * M / (np.pi * r_gas_constant * temperature)))\n"
   ],
   "metadata": {
    "collapsed": false,
    "ExecuteTime": {
     "end_time": "2024-03-08T22:30:48.099792Z",
     "start_time": "2024-03-08T22:30:48.096433Z"
    }
   },
   "id": "49b68a1a8212b15",
   "execution_count": 210
  },
  {
   "cell_type": "code",
   "outputs": [],
   "source": [
    "\n",
    "\n",
    "def reynolds_number(d_p: float, velocity: float, fluid_density=air_std.density, \n",
    "                    dynamic_viscosity=air_std.dynamic_viscosity):\n",
    "    # Reynolds number calculator\n",
    "    # Dp is the particle diameter in meters\n",
    "    # rho_f is the density of the fluid in kg/m^3\n",
    "    # g is the acceleration due to gravity in m/s^2\n",
    "    # C is the Cunningham correction factor\n",
    "    # Re is the Reynolds number\n",
    "    return (d_p * fluid_density * velocity) / dynamic_viscosity\n"
   ],
   "metadata": {
    "collapsed": false,
    "ExecuteTime": {
     "end_time": "2024-03-08T22:30:48.135254Z",
     "start_time": "2024-03-08T22:30:48.131530Z"
    }
   },
   "id": "f7a1513f22bf8287",
   "execution_count": 211
  },
  {
   "cell_type": "code",
   "outputs": [],
   "source": [
    "\n",
    "\n",
    "def settling_velocity(d_p, rho_p: float, temperature: float, pressure: float):\n",
    "    # Check if Dp_input is an array or a single value\n",
    "    if np.isscalar(d_p):\n",
    "        d_p_array = np.array([d_p])  # Convert to array for uniform processing\n",
    "    else:\n",
    "        d_p_array = d_p  # Use the array as is\n",
    "\n",
    "    velocities = []  # Empty list to store calculated velocities\n",
    "    for d_p in d_p_array:  # Process each Dp individually\n",
    "        g = 9.81  # m/s^2\n",
    "        l_mfp = mean_free_path(temperature, pressure)\n",
    "        c_cun = c_cunningham(d_p, l_mfp)\n",
    "        air = Fluid(FluidsList.Air).with_state(Input.pressure(pressure), Input.temperature(temperature - 273.15))\n",
    "        mu_f = air.dynamic_viscosity\n",
    "        rho_f = air.density\n",
    "        s_velocity = c_cun * (rho_p * g * d_p ** 2) / (18 * mu_f)  # Stokes settling velocity\n",
    "        Re = reynolds_number(d_p, s_velocity, fluid_density=rho_f, dynamic_viscosity=mu_f)\n",
    "        if Re < 1:\n",
    "            velocities.append(s_velocity)\n",
    "        else:\n",
    "            # Adjusted iterative approach for Re > 1, similar to before\n",
    "            m_p = np.pi * rho_p * d_p ** 3 / 6\n",
    "            for i in range(100):\n",
    "                # c_d = 24 / Re * (1 + 0.15 * Re**(0.687))  # Updated drag coefficient expression\n",
    "                c_d = 24 / Re * (1 + 3 / 16 * 0.43 * Re)\n",
    "                # s_velocity = np.sqrt((4 * m_p * g) / (3 * np.pi * c_d * rho_f * Dp**2))\n",
    "                s_velocity = np.sqrt((m_p * g) / (1 / 8 * np.pi * c_d * rho_f * d_p ** 2))\n",
    "                Re_new = reynolds_number(d_p, s_velocity, fluid_density=rho_f, dynamic_viscosity=mu_f)\n",
    "                if abs(Re_new - Re) < 0.01:\n",
    "                    break  # Exit the loop if the change in Reynolds number is small enough\n",
    "                else:\n",
    "                    Re = Re_new\n",
    "            velocities.append(s_velocity)\n",
    "\n",
    "    velocities_array = np.array(velocities)  # Convert list to array\n",
    "\n",
    "    if np.isscalar(d_p):\n",
    "        return velocities_array[0]  # Return a single value if input was scalar\n",
    "    else:\n",
    "        return velocities_array  # Return array if input was array\n"
   ],
   "metadata": {
    "collapsed": false,
    "ExecuteTime": {
     "end_time": "2024-03-08T22:30:48.185280Z",
     "start_time": "2024-03-08T22:30:48.177834Z"
    }
   },
   "id": "9725383f6e6b1870",
   "execution_count": 212
  },
  {
   "cell_type": "code",
   "outputs": [],
   "source": [
    "\n",
    "\n",
    "def cond_dia_growth_rate(d_p, c_inf, c_sat, diff_coefficient, rho_p=1E3):\n",
    "    # condensation diameter growth rate\n",
    "    # Dp is the particle diameter in meters\n",
    "    b_factor = beta_corr_cond(d_p)\n",
    "    d_dp_dt = b_factor * 4 * diff_coefficient * (c_inf - c_sat) / (rho_p * d_p)\n",
    "    return d_dp_dt\n",
    "    # # if np.isscalar(d_p):\n",
    "    # #     d_p_array = np.array([d_p])  # Convert to array for uniform processing\n",
    "    # # else:\n",
    "    # #     d_p_array = d_p  # Use the array as is\n",
    "    # # dia_growth_rate = []  # Empty list to store calculated velocities\n",
    "    #\n",
    "    # return dia_growth_rate\n"
   ],
   "metadata": {
    "collapsed": false,
    "ExecuteTime": {
     "end_time": "2024-03-08T22:30:48.199179Z",
     "start_time": "2024-03-08T22:30:48.195814Z"
    }
   },
   "id": "67c9d9a6681ec088",
   "execution_count": 213
  },
  {
   "cell_type": "code",
   "outputs": [],
   "source": [
    "\n",
    "\n",
    "def condensation_mass_growth_rate(d_p, c_inf, c_sat, diff_coefficient_vapor, rho_p=1E3):\n",
    "    # condensation mass growth rate\n",
    "    # Dp is the particle diameter in meters\n",
    "    # c_inf is the concentration of the condensing vapor in the bulk gas in molec/m^3\n",
    "    # c_sat is the saturation concentration of the condensing vapor in molec/m^3\n",
    "    # diff_coefficient is the diffusion coefficient of the condensing vapor in m^2/s\n",
    "    # rho_p is the density of the particle in kg/m^3 (default is 1E3 kg/m^3)\n",
    "    # m_p is the mass of the particle in kg\n",
    "    # particle mass\n",
    "    # J is the same as condensation mass growth rate\n",
    "    j_cond_calculated = 2 * np.pi * diff_coefficient_vapor * d_p * (c_inf - c_sat) * beta_corr_cond(d_p)  # kg/s\n",
    "    return j_cond_calculated\n"
   ],
   "metadata": {
    "collapsed": false,
    "ExecuteTime": {
     "end_time": "2024-03-08T22:30:48.218774Z",
     "start_time": "2024-03-08T22:30:48.214783Z"
    }
   },
   "id": "713ee588d030e210",
   "execution_count": 214
  },
  {
   "cell_type": "code",
   "outputs": [],
   "source": [
    "\n",
    "\n",
    "def beta_corr_cond(d_p, lamda=65E-9):\n",
    "    # Dahneke correction factor\n",
    "    # Dp is the particle diameter in meters\n",
    "    # B is the Darkener correction factor\n",
    "    # kn is the Knudsen number\n",
    "    # lamda is the mean free path of the gas in meters\n",
    "    kn = 2 * lamda / d_p\n",
    "    b_factor = (1 + kn) / (1 + 2 * kn * (1 + kn))\n",
    "    return b_factor\n"
   ],
   "metadata": {
    "collapsed": false,
    "ExecuteTime": {
     "end_time": "2024-03-08T22:30:48.272790Z",
     "start_time": "2024-03-08T22:30:48.269367Z"
    }
   },
   "id": "ef46e142b3363b6c",
   "execution_count": 215
  },
  {
   "cell_type": "code",
   "outputs": [],
   "source": [
    "\n",
    "\n",
    "def unit_conversion(conversion, variable=1):\n",
    "    switcher = {\n",
    "        # Volume\n",
    "        'cm3_to_m3': variable * 1E-6,\n",
    "        'm3_to_cm3': variable * 1E6,\n",
    "        'm3_to_L': variable * 1000,\n",
    "        'L_to_m3': variable * 1 / 1000,\n",
    "        # time\n",
    "        'hr_to_s': variable * 3600,\n",
    "        's_to_hr': variable * 1 / 3600,\n",
    "\n",
    "        # mass\n",
    "        'kg_to_g': variable * 1000,\n",
    "        'g_to_kg': variable * 1 / 1000,\n",
    "        'kg_to_ug': variable * 1E9,\n",
    "        'ug_to_kg': variable * 1E-9,\n",
    "\n",
    "        # pressure\n",
    "        'Pa_to_kPa': variable * 1E-3,\n",
    "        'kPa_to_Pa': variable * 1E3,\n",
    "        'atm_to_Pa': variable * 101325,\n",
    "        'Pa_to_atm': variable * 1 / 101325,\n",
    "        # temperature\n",
    "        'C_to_K': variable + 273.15,\n",
    "        'K_to_C': variable - 273.15,\n",
    "\n",
    "    }\n",
    "    return switcher.get(conversion, 'Invalid conversion')\n"
   ],
   "metadata": {
    "collapsed": false,
    "ExecuteTime": {
     "end_time": "2024-03-08T22:30:48.294090Z",
     "start_time": "2024-03-08T22:30:48.289569Z"
    }
   },
   "id": "870716b154a20",
   "execution_count": 216
  },
  {
   "cell_type": "code",
   "outputs": [],
   "source": [
    "# Function to convert N to DN/DlogDp # need to check the formula\n",
    "def dn_ddp_to_dn_dlogdp(dn_ddp_input, bins_geom_mean_input):  \n",
    "    # Convert the number distribution to dN/dlogDp\n",
    "    dn_dlogdp_out = dn_ddp_input * bins_geom_mean_input * np.log(10) # dN/dlogDp\n",
    "    return dn_dlogdp_out\n",
    "\n",
    "def dia_dis_to_mass_dis(number_in_bins_input,bins_geom_mean_input, rho_p=1E3):\n",
    "    # Convert the number distribution to mass distribution\n",
    "    # binsGeomMeanInput is the geometric mean of the bins\n",
    "    # numberInBinsInput is the number of particles in each bin\n",
    "    # rho_p is the density of the particle in kg/m^3\n",
    "    # massInBins is the mass of particles in each bin\n",
    "    m_p = dp_to_mp(bins_geom_mean_input, rho_p=rho_p)\n",
    "    mass_in_bins_out = number_in_bins_input * m_p\n",
    "    return mass_in_bins_out\n",
    "\n",
    "def dp_to_mp(d_p, rho_p=1E3): #calculate the mass of the particle from the diameter\n",
    "    # Dp is the particle diameter in meters\n",
    "    # rho_p is the density of the particle in kg/m^3\n",
    "    # m_p is the mass of the particle in kg\n",
    "    m_p = np.pi * rho_p * d_p ** 3 / 6\n",
    "    return m_p\n",
    "\n",
    "def mp_to_dp(m_p, rho_p=1E3): #calculate the diameter of the particle from the mass\n",
    "    d_p = (6 * m_p / (np.pi * rho_p)) ** (1 / 3)\n",
    "    return d_p\n"
   ],
   "metadata": {
    "collapsed": false,
    "ExecuteTime": {
     "end_time": "2024-03-08T22:30:48.301720Z",
     "start_time": "2024-03-08T22:30:48.296261Z"
    }
   },
   "id": "216e6e2bed942e65",
   "execution_count": 217
  },
  {
   "cell_type": "code",
   "outputs": [],
   "source": [
    "\n",
    "\n",
    "def vol_sphere(d_p):\n",
    "    # Dp is the particle diameter in meters\n",
    "    # V is the volume of the sphere in m^3\n",
    "    return (4 / 3) * np.pi * (d_p / 2) ** 3\n"
   ],
   "metadata": {
    "collapsed": false,
    "ExecuteTime": {
     "end_time": "2024-03-08T22:30:48.317406Z",
     "start_time": "2024-03-08T22:30:48.314259Z"
    }
   },
   "id": "ad704894d20dd350",
   "execution_count": 218
  },
  {
   "cell_type": "code",
   "outputs": [],
   "source": [
    "\n",
    "\n",
    "def surf_sphere(d_p):\n",
    "    # Dp is the particle diameter in meters\n",
    "    # A is the surface area of the sphere in m^2\n",
    "    return 4 * np.pi * (d_p / 2) ** 2\n"
   ],
   "metadata": {
    "collapsed": false,
    "ExecuteTime": {
     "end_time": "2024-03-08T22:30:48.367886Z",
     "start_time": "2024-03-08T22:30:48.364397Z"
    }
   },
   "id": "bea389cc69f25566",
   "execution_count": 219
  },
  {
   "cell_type": "code",
   "outputs": [],
   "source": [
    "\n",
    "\n",
    "def k_coag(d_p_1, d_p_2, temp=temperature_std, rho_1=1000, rho_2=1000):  #\n",
    "    # Source: Sienfeld, J. H., & Pandis, S. N. (2006). Atmospheric chemistry and physics:\n",
    "    # :from air pollution to climate change. John Wiley & Sons.\n",
    "    # 2nd Edition Table 13.1\n",
    "    # coagulation coefficient\n",
    "    # Dp1 is the diameter of particle 1 in meters\n",
    "    # Dp2 is the diameter of particle 2 in meters\n",
    "    # c1 is the concentration of particle 1 in molec/m^3\n",
    "    # c2 is the concentration of particle 2 in molec/m^3\n",
    "    # d_diff1 is the diffusion coefficient of particle 1 in m^2/s\n",
    "    # d_diff2 is the diffusion coefficient of particle 2 in m^2/s\n",
    "    # temp is the temperature in Kelvin\n",
    "    # rho_1 is the density of particle 1 in kg/m^3\n",
    "    # rho_2 is the density of particle 2 in kg/m^3\n",
    "    # k_bolt is the Boltzmann constant in J/K defined in the global constants\n",
    "\n",
    "    # Convert dp_1 and dp_2 to numpy arrays if they are not already\n",
    "    dp_1_np = np.array([d_p_1])\n",
    "    dp_2_np = np.array([d_p_2])\n",
    "\n",
    "    # k is the coagulation coefficient\n",
    "    # used the mass of a particle because the c_1 and c_2 are velocity of the particles\n",
    "    air_01 = Fluid(FluidsList.Air).with_state(Input.pressure(pressure_std), Input.temperature(temp - 273.15))\n",
    "    vis_air = air_01.dynamic_viscosity  # Pa s dynamic viscosity\n",
    "    d_diff1 = k_Boltzmann * temp * np.array([c_cunningham(dp) for dp in dp_1_np]) / (3 * np.pi * vis_air * dp_1_np)\n",
    "    d_diff2 = k_Boltzmann * temp * np.array([c_cunningham(dp) for dp in dp_2_np]) / (3 * np.pi * vis_air * dp_2_np)\n",
    "    m_1 = rho_1 * np.pi * dp_1_np ** 3 / 6  # mass of one particle in kg\n",
    "    m_2 = rho_2 * np.pi * dp_2_np ** 3 / 6  # mass of one particle in kg\n",
    "    c_1 = np.sqrt(8 * k_Boltzmann * temp / (np.pi * m_1))\n",
    "    c_2 = np.sqrt(8 * k_Boltzmann * temp / (np.pi * m_2))\n",
    "    l_1 = 8 * d_diff1 / (np.pi * c_1)\n",
    "    l_2 = 8 * d_diff2 / (np.pi * c_1)\n",
    "    g_1 = 1 / (3 * dp_1_np * l_1) * ((dp_1_np + l_1) ** 3 - (dp_1_np ** 2 + l_1 ** 2) ** (3 / 2)) - dp_1_np\n",
    "    g_2 = 1 / (3 * dp_2_np * l_2) * ((dp_2_np + l_2) ** 3 - (dp_2_np ** 2 + l_2 ** 2) ** (3 / 2)) - dp_2_np\n",
    "    denominator = (((dp_1_np + dp_2_np) / (dp_1_np + dp_2_np + 2 * np.sqrt(g_1 ** 2 + g_2 ** 2))) + 8 * (\n",
    "            d_diff1 + d_diff2) / (c_1 ** 2 + c_2 ** 2) ** 0.5 / (dp_1_np + dp_2_np))\n",
    "\n",
    "    k_coag_fuchs = 2 * np.pi * (dp_1_np + dp_2_np) * (d_diff1 + d_diff2) / denominator\n",
    "    return k_coag_fuchs\n"
   ],
   "metadata": {
    "collapsed": false,
    "ExecuteTime": {
     "end_time": "2024-03-08T22:30:48.392048Z",
     "start_time": "2024-03-08T22:30:48.384846Z"
    }
   },
   "id": "64f9920a0fe608fc",
   "execution_count": 220
  },
  {
   "cell_type": "code",
   "outputs": [],
   "source": [
    "def bins_generator_dp(bins_number_input : int, d_p_min_input : float, d_p_max_input: float):\n",
    "    # This function generates the lower limits of the bins for the particle diameter\n",
    "    # bins_number is the number of bins\n",
    "    # d_p_min is the minimum particle diameter in meters\n",
    "    # d_p_max is the maximum particle diameter in meters\n",
    "    bins_lower_generated = np.geomspace(d_p_min_input, d_p_max_input, bins_number_input + 1)\n",
    "    bins_upper_generated = bins_lower_generated[1:]\n",
    "    bins_lower_generated = bins_lower_generated[:-1]\n",
    "    bins_g_mean_generated = np.sqrt(bins_lower_generated * bins_upper_generated)  # geometric mean\n",
    "    return bins_lower_generated, bins_upper_generated, bins_g_mean_generated\n",
    "\n",
    "def bins_generator_dp_lower(bins_number: int, d_p_min: float, d_p_max: float):\n",
    "    # This function generates the lower limits of the bins for the particle diameter\n",
    "    # bins_number is the number of bins\n",
    "    # d_p_min is the minimum particle diameter in meters\n",
    "    # d_p_max is the maximum particle diameter in meters\n",
    "    bins_lower_generated = bins_generator_dp(bins_number, d_p_min, d_p_max)[0]\n",
    "    return bins_lower_generated\n",
    "\n",
    "\n",
    "def bins_generator_dp_upper(bins_number: int, d_p_min: float, d_p_max: float):\n",
    "    # This function generates the upper limits of the bins for the particle diameter\n",
    "    # bins_number is the number of bins\n",
    "    # d_p_min is the minimum particle diameter in meters\n",
    "    # d_p_max is the maximum particle diameter in meters\n",
    "    bins_upper_generated = bins_generator_dp(bins_number, d_p_min, d_p_max)[1]\n",
    "    return bins_upper_generated\n",
    "\n",
    "def bins_generator_dp_g_mean(bins_number: int, d_p_min: float, d_p_max: float):\n",
    "    # This function generates the geometric mean of the bins for the particle diameter\n",
    "    # bins_number is the number of bins\n",
    "    # d_p_min is the minimum particle diameter in meters\n",
    "    # d_p_max is the maximum particle diameter in meters\n",
    "    bins_g_mean_generated = bins_generator_dp(bins_number, d_p_min, d_p_max)[2]\n",
    "    return bins_g_mean_generated"
   ],
   "metadata": {
    "collapsed": false,
    "ExecuteTime": {
     "end_time": "2024-03-08T22:30:48.430523Z",
     "start_time": "2024-03-08T22:30:48.425521Z"
    }
   },
   "id": "bac4972809e09aea",
   "execution_count": 221
  },
  {
   "cell_type": "code",
   "outputs": [],
   "source": [
    "def coagulation_init():\n",
    "    ...\n",
    "\n",
    "def condensation_init():\n",
    "    ...\n"
   ],
   "metadata": {
    "collapsed": false,
    "ExecuteTime": {
     "end_time": "2024-03-08T22:30:48.460914Z",
     "start_time": "2024-03-08T22:30:48.457167Z"
    }
   },
   "id": "272dde0f9e192b68",
   "execution_count": 222
  },
  {
   "cell_type": "code",
   "outputs": [],
   "source": [
    "def simulation_general_dynamic_equation(\n",
    "        bins_lower_sim_gde: np.array , # in meters\n",
    "        bins_geom_mean_sim_gde: np.array , # in meters\n",
    "        initial_mass_in_bins: np.array, # in kg\n",
    "        time_step_size: float = 1 , # in seconds\n",
    "        time_end: float = 3600 , # in seconds\n",
    "        c_inf: float = 1E6, # in molec/m^3\n",
    "        c_sat: float = 1E9, # in molec/m^3\n",
    "        diff_coefficient: float = 1E-9, # in m^2/s\n",
    "        rho_p: float = 1E3, # in kg/m^3\n",
    "        temperature_sim_gde: float = temperature_std, # in Kelvin\n",
    "        pressure_sim_gde: float = pressure_std, # in Pascals\n",
    "        coagulation: bool = False,\n",
    "        condensation: bool = False\n",
    "        ):\n",
    "    \n",
    "    bin_number_sim = len(bins_lower_sim_gde)\n",
    "    # This function simulates the growth of particles in a gas phase using the General Dynamic Equation (GDE)\n",
    "    total_time_steps: int = time_end // time_step_size # total number of time steps\n",
    "    # Create a dataframe to store the results for each time step\n",
    "    if condensation:\n",
    "        \n",
    "        mass_per_particle_in_bins_all = dp_to_mp(bins_geom_mean_sim_gde, rho_p = rho_p)\n",
    "        mass_growth_rate_all_bins = condensation_mass_growth_rate(\n",
    "                bins_geom_mean_sim_gde,\n",
    "                c_inf = c_inf,\n",
    "                c_sat = c_sat, \n",
    "                diff_coefficient_vapor= diff_coefficient,\n",
    "                rho_p= rho_p \n",
    "        ) # in kg # mass growth rate in each bin in one time step\n",
    "    if coagulation:\n",
    "        coag_kernel_sim_gde_all = coagulation_init(bins_geom_mean_sim_gde, temperature = temperature_sim_gde, rho_p = rho_p)\n",
    "    \n",
    "    # Create a dataframe to store the results for each time step\n",
    "    mass_per_particle_in_bins_sim = np.zeros((total_time_steps, bin_number_sim))\n",
    "    mass_per_particle_in_bins_sim[0, :] = initial_mass_in_bins\n",
    "    number_par_in_bins_all = np.zeros((total_time_steps, bin_number_sim))\n",
    "    number_par_in_bins_all[0, :] = mp_to_dp(initial_mass_in_bins, rho_p) # make sure\n",
    "    ic(number_par_in_bins_all[0, :])\n",
    "    # start the simulation\n",
    "    # loop through each time step\n",
    "    for time_step in range(1, total_time_steps):\n",
    "        # calculate the condensation and coagulation rates\n",
    "        # calculate the new mass in each bin\n",
    "        # store the results in the dataframe\n",
    "        # update the initial conditions for the next time step\n",
    "        # repeat the process for the next time step\n",
    "        \n",
    "        # Condensation\n",
    "        if condensation:\n",
    "            j_condensation_mass_growth_all_bins = condensation_mass_growth_rate(\n",
    "                bins_geom_mean_sim_gde,\n",
    "                c_inf = c_inf,\n",
    "                c_sat = c_sat,\n",
    "                diff_coefficient_vapor= diff_coefficient,\n",
    "                rho_p= rho_p \n",
    "            )\n",
    "            \n",
    "            mass_per_particle_final_in_bins =\\\n",
    "                (mass_per_particle_in_bins_sim[time_step - 1, :] \n",
    "                 + j_condensation_mass_growth_all_bins * time_step_size)\n",
    "            \n",
    "            ic(mass_per_particle_final_in_bins)\n",
    "            \n",
    "            number_particle_in_bins_temp = np.zeros(bin_number_sim)\n",
    "            for bin_i in range(bin_number_sim-1):\n",
    "                number_particle_in_bins_temp[bin_i+1] = (\n",
    "                        number_particle_in_bins_temp[bin_i+1] +\n",
    "                        number_par_in_bins_all[time_step -1,bin_i] * \n",
    "                        ((mass_per_particle_final_in_bins[bin_i] -  mass_per_particle_in_bins_all[bin_i]) / (mass_per_particle_in_bins_all[bin_i + 1] - mass_per_particle_in_bins_all[bin_i])))\n",
    "                \n",
    "                number_particle_in_bins_temp[bin_i] = (\n",
    "                        number_particle_in_bins_temp[bin_i] + \n",
    "                        number_par_in_bins_all[time_step -1,bin_i] * \n",
    "                        (1 - (mass_per_particle_final_in_bins[bin_i] -  mass_per_particle_in_bins_all[bin_i]) / (mass_per_particle_in_bins_all[bin_i + 1] - mass_per_particle_in_bins_all[bin_i])))\n",
    "                \n",
    "            # Update the mass in the last bin\n",
    "            number_particle_in_bins_temp[-1] = number_particle_in_bins_temp[-1] + number_par_in_bins_all[time_step -1,-1]\n",
    "            number_par_in_bins_all[time_step, :] = number_particle_in_bins_temp\n",
    "            ic(number_par_in_bins_all[time_step, :])\n",
    "\n",
    "        # Coagulation\n",
    "        if coagulation:\n",
    "            pass\n",
    "        \n",
    "        \n",
    "    \n",
    "    # return the results\n",
    "    print('Simulation is done')\n",
    "    return mass_per_particle_in_bins_sim\n",
    "    \n",
    "\n"
   ],
   "metadata": {
    "collapsed": false,
    "ExecuteTime": {
     "end_time": "2024-03-08T22:30:48.516673Z",
     "start_time": "2024-03-08T22:30:48.507605Z"
    }
   },
   "id": "97aaa4721d53e3e1",
   "execution_count": 223
  },
  {
   "cell_type": "code",
   "outputs": [],
   "source": [
    "# Function to gives the number of particles in each bin\n",
    "# Using total number of particles, geometric mean diameter, and standard deviation\n",
    "def number_in_bins(total_number_input, dia_par_geom_input, st_dev_input, bins_g_mean_input):\n",
    "    # totalNumberInput is the total number of particles in the distribution\n",
    "    # diaPgInput is the geometric mean diameter of the distribution\n",
    "    # stdInput is the standard deviation of the distribution\n",
    "    # binsGMeanInput is the geometric mean of the bins\n",
    "    # numberInBins is the number of particles in each bin \n",
    "    # number of particles in the distribution\n",
    "    number_in_bins_out = total_number_input / (np.sqrt(2 * np.pi) * np.log(st_dev_input) * bins_g_mean_input) * np.exp(-(np.log(bins_g_mean_input / dia_par_geom_input)) ** 2 / (2 * (np.log(st_dev_input)) ** 2))\n",
    "    \n",
    "    return number_in_bins_out"
   ],
   "metadata": {
    "collapsed": false,
    "ExecuteTime": {
     "end_time": "2024-03-08T22:30:48.528339Z",
     "start_time": "2024-03-08T22:30:48.523984Z"
    }
   },
   "id": "513953332efc3059",
   "execution_count": 224
  },
  {
   "cell_type": "code",
   "outputs": [],
   "source": [
    "# Urban aerosol distribution numbered as 1\n",
    "S_g_1 = 2 # standard deviation of the lognormal distribution\n",
    "N_1 = 30000 * 1e6 # number of particles in the distribution from (cm^-3) to (m^-3)\n",
    "D_pg_1 = 30e-9 # geometric mean diameter (nm) to (m)\n",
    "\n",
    "# Local pollution aerosol distribution numbered as 2\n",
    "S_g_2 = 2 # standard deviation of the lognormal distribution\n",
    "N_2 = 3000 * 1e6 # number of particles in the distribution from (cm^-3) to (m^-3)\n",
    "D_pg_2 = 200e-9 # geometric mean diameter (nm) to (m)\n",
    "\n",
    "bin_number = 40\n",
    "dp_min = 1E-9\n",
    "dp_max = 10.3E-6\n",
    "\n",
    "\n",
    "Dp = bins_generator_dp_g_mean(bins_number=bin_number, d_p_min=dp_min, d_p_max=dp_max)\n",
    "dN_dDp_1 = N_1 / (np.sqrt(2 * np.pi) * np.log(S_g_1) * Dp) * np.exp(-(np.log(Dp / D_pg_1)) ** 2 / (2 * (np.log(S_g_1)) ** 2))\n",
    "number_in_bins_1 = dN_dDp_1 * (bins_generator_dp_upper(bins_number=bin_number, d_p_min=dp_min, d_p_max=dp_max) -\n",
    "                bins_generator_dp_lower(bins_number=bin_number, d_p_min=dp_min, d_p_max=dp_max))\n",
    "mass_in_bins_1 = dp_to_mp(number_in_bins_1)\n",
    "\n"
   ],
   "metadata": {
    "collapsed": false,
    "ExecuteTime": {
     "end_time": "2024-03-08T22:30:48.549341Z",
     "start_time": "2024-03-08T22:30:48.544020Z"
    }
   },
   "id": "5d14a7cf2074d2f5",
   "execution_count": 225
  },
  {
   "cell_type": "code",
   "outputs": [],
   "source": [
    "# Urban aerosol distribution numbered as 1\n",
    "N1 = number_in_bins(N_1, D_pg_1, S_g_1, Dp)\n",
    "N2 = number_in_bins(N_2, D_pg_2, S_g_2, Dp)\n",
    "N_in_bins = number_in_bins(N_1, D_pg_1, S_g_1, Dp) + number_in_bins(N_2, D_pg_2, S_g_2, Dp)\n",
    "mass_in_bins = dia_dis_to_mass_dis(N_in_bins, Dp)"
   ],
   "metadata": {
    "collapsed": false,
    "ExecuteTime": {
     "end_time": "2024-03-08T22:30:48.600804Z",
     "start_time": "2024-03-08T22:30:48.597355Z"
    }
   },
   "id": "f55b479a117a6be9",
   "execution_count": 226
  },
  {
   "cell_type": "code",
   "outputs": [
    {
     "data": {
      "text/plain": "<Figure size 640x480 with 1 Axes>",
      "image/png": "[encoded data removed]"
     },
     "metadata": {},
     "output_type": "display_data"
    }
   ],
   "source": [
    "# plot the distribution\n",
    "plt.plot(Dp, N_in_bins)\n",
    "plt.xscale('log')"
   ],
   "metadata": {
    "collapsed": false,
    "ExecuteTime": {
     "end_time": "2024-03-08T22:30:48.896640Z",
     "start_time": "2024-03-08T22:30:48.616737Z"
    }
   },
   "id": "510a561cf27b2acb",
   "execution_count": 227
  },
  {
   "cell_type": "code",
   "outputs": [
    {
     "data": {
      "text/plain": "<Figure size 640x480 with 1 Axes>",
      "image/png": "[encoded data removed]"
     },
     "metadata": {},
     "output_type": "display_data"
    }
   ],
   "source": [
    "# plot the distribution\n",
    "plt.plot(Dp, number_in_bins_1)\n",
    "plt.xscale('log')"
   ],
   "metadata": {
    "collapsed": false,
    "ExecuteTime": {
     "end_time": "2024-03-08T22:30:49.184168Z",
     "start_time": "2024-03-08T22:30:48.897755Z"
    }
   },
   "id": "8a8b99a6063a8584",
   "execution_count": 228
  },
  {
   "cell_type": "code",
   "outputs": [
    {
     "data": {
      "text/plain": "<Figure size 640x480 with 1 Axes>",
      "image/png": "[encoded data removed]"
     },
     "metadata": {},
     "output_type": "display_data"
    }
   ],
   "source": [
    "# plot the mass distribution\n",
    "plt.plot(Dp, mass_in_bins_1)\n",
    "plt.xscale('log')\n"
   ],
   "metadata": {
    "collapsed": false,
    "ExecuteTime": {
     "end_time": "2024-03-08T22:30:49.458376Z",
     "start_time": "2024-03-08T22:30:49.185222Z"
    }
   },
   "id": "8102da88e92ca150",
   "execution_count": 229
  },
  {
   "cell_type": "code",
   "outputs": [
    {
     "data": {
      "text/plain": "<Figure size 640x480 with 1 Axes>",
      "image/png": "[encoded data removed]"
     },
     "metadata": {},
     "output_type": "display_data"
    }
   ],
   "source": [
    "# plot DN/DlogDp\n",
    "dN_dlogDp = dn_ddp_to_dn_dlogdp(N_in_bins, Dp)\n",
    "plt.plot(Dp, dN_dlogDp * 1E-6) # convert m^-3 to cm^-3\n",
    "plt.xscale('log')"
   ],
   "metadata": {
    "collapsed": false,
    "ExecuteTime": {
     "end_time": "2024-03-08T22:30:49.904586Z",
     "start_time": "2024-03-08T22:30:49.459936Z"
    }
   },
   "id": "299f73a6335b6afb",
   "execution_count": 230
  },
  {
   "cell_type": "code",
   "outputs": [],
   "source": [
    "# \n",
    "bins_lower = bins_generator_dp_lower(bin_number, dp_min, dp_max)\n",
    "bins_upper = bins_generator_dp_upper(bin_number, dp_min, dp_max)\n",
    "bins_geom_mean = bins_generator_dp_g_mean(bin_number, dp_min, dp_max)"
   ],
   "metadata": {
    "collapsed": false,
    "ExecuteTime": {
     "end_time": "2024-03-08T22:30:49.909375Z",
     "start_time": "2024-03-08T22:30:49.905666Z"
    }
   },
   "id": "43ba9bf0563da393",
   "execution_count": 231
  },
  {
   "cell_type": "code",
   "outputs": [
    {
     "name": "stderr",
     "output_type": "stream",
     "text": [
      "ic| number_par_in_bins_all[0, :]: array([4.69960314e-05, 4.69960314e-05, 4.69960314e-05, 4.69960314e-05,\n",
      "                                         4.69960314e-05, 4.69960314e-05, 4.69960314e-05, 4.69960314e-05,\n",
      "                                         4.69960314e-05, 4.69960314e-05, 4.69960314e-05, 4.69960314e-05,\n",
      "                                         4.69960314e-05, 4.69960314e-05, 4.69960314e-05, 4.69960314e-05,\n",
      "                                         4.69960314e-05, 4.69960314e-05, 4.69960314e-05, 4.69960314e-05,\n",
      "                                         4.69960314e-05, 4.69960314e-05, 4.69960314e-05, 4.69960314e-05,\n",
      "                                         4.69960314e-05, 4.69960314e-05, 4.69960314e-05, 4.69960314e-05,\n",
      "                                         4.69960314e-05, 4.69960314e-05, 4.69960314e-05, 4.69960314e-05,\n",
      "                                         4.69960314e-05, 4.69960314e-05, 4.69960314e-05, 4.69960314e-05,\n",
      "                                         4.69960314e-05, 4.69960314e-05, 4.69960314e-05, 4.69960314e-05])\n",
      "ic| mass_per_particle_final_in_bins: array([ 6.95857655e-11,  5.17264338e-11,  2.33810083e-11, -2.16059696e-11,\n",
      "                                            -9.30011244e-11, -2.06297566e-10, -3.86064577e-10, -6.71245111e-10,\n",
      "                                            -1.12351707e-09, -1.84045044e-09, -2.97611634e-09, -4.77314838e-09,\n",
      "                                            -7.61211621e-09, -1.20864370e-08, -1.91136130e-08, -3.00953991e-08,\n",
      "                                            -4.71385693e-08, -7.33410883e-08, -1.13132426e-07, -1.72631775e-07,\n",
      "                                            -2.59964008e-07, -3.85473141e-07, -5.61822010e-07, -8.04063532e-07,\n",
      "                                            -1.12986371e-06, -1.56007815e-06, -2.11980935e-06, -2.83995986e-06,\n",
      "                                            -3.75923325e-06, -4.92655529e-06, -6.40396407e-06, -8.27010270e-06,\n",
      "                                            -1.06245182e-05, -1.35930251e-05, -1.73344464e-05, -2.20491110e-05,\n",
      "                                            -2.79895729e-05, -3.54741306e-05, -4.49038742e-05, -5.67841724e-05])\n",
      "ic| number_par_in_bins_all[time_step, :]: array([-2.40114380e+09,  1.50856307e+09,  6.90820571e+08,  2.94996056e+08,\n",
      "                                                  1.07458291e+08,  2.19328498e+07, -1.42830522e+07, -2.71935610e+07,\n",
      "                                                 -2.95239259e+07, -2.74164406e+07, -2.37670407e+07, -1.98844023e+07,\n",
      "                                                 -1.63120852e+07, -1.32336589e+07, -1.06704949e+07, -8.57685361e+06,\n",
      "                                                 -6.88442665e+06, -5.52232987e+06, -4.42550578e+06, -3.53796749e+06,\n",
      "                                                 -2.81395104e+06, -2.21817474e+06, -1.72533321e+06, -1.31855264e+06,\n",
      "                                                 -9.86806167e+05, -7.21923626e+05, -5.16185948e+05, -3.61177741e+05,\n",
      "                                                 -2.47854780e+05, -1.67263795e+05, -1.11309861e+05, -7.32334157e+04,\n",
      "                                                 -4.77425592e+04, -3.08988027e+04, -1.98831093e+04, -1.27370028e+04,\n",
      "                                                 -8.13040866e+03, -5.17548509e+03, -3.28732551e+03, -5.67016221e+03])\n",
      "ic| mass_per_particle_final_in_bins: array([-3.04142345e-11, -4.82735662e-11, -7.66189917e-11, -1.21605970e-10,\n",
      "                                            -1.93001124e-10, -3.06297566e-10, -4.86064577e-10, -7.71245111e-10,\n",
      "                                            -1.22351707e-09, -1.94045044e-09, -3.07611634e-09, -4.87314838e-09,\n",
      "                                            -7.71211621e-09, -1.21864370e-08, -1.92136130e-08, -3.01953991e-08,\n",
      "                                            -4.72385693e-08, -7.34410883e-08, -1.13232426e-07, -1.72731775e-07,\n",
      "                                            -2.60064008e-07, -3.85573141e-07, -5.61922010e-07, -8.04163532e-07,\n",
      "                                            -1.12996371e-06, -1.56017815e-06, -2.11990935e-06, -2.84005986e-06,\n",
      "                                            -3.75933325e-06, -4.92665529e-06, -6.40406407e-06, -8.27020270e-06,\n",
      "                                            -1.06246182e-05, -1.35931251e-05, -1.73345464e-05, -2.20492110e-05,\n",
      "                                            -2.79896729e-05, -3.54742306e-05, -4.49039742e-05, -5.67842724e-05])\n",
      "ic| number_par_in_bins_all[time_step, :]: array([-5.36205961e+22,  8.03596873e+22, -1.70202902e+22, -6.42483348e+21,\n",
      "                                                 -2.34164248e+21, -7.98062181e+20, -2.33984188e+20, -4.07144006e+19,\n",
      "                                                  1.67024379e+19,  2.73348023e+19,  2.38952520e+19,  1.77041884e+19,\n",
      "                                                  1.22065072e+19,  8.10898044e+18,  5.27591622e+18,  3.39117525e+18,\n",
      "                                                  2.16397118e+18,  1.37467356e+18,  8.70405628e+17,  5.49112651e+17,\n",
      "                                                  3.44343210e+17,  2.13602841e+17,  1.30118317e+17,  7.71563302e+16,\n",
      "                                                  4.41587606e+16,  2.42389521e+16,  1.27212170e+16,  6.38569146e+15,\n",
      "                                                  3.07525979e+15,  1.42762428e+15,  6.42347197e+14,  2.81640684e+14,\n",
      "                                                  1.20927117e+14,  5.10608689e+13,  2.12768229e+13,  8.77415457e+12,\n",
      "                                                  3.58887290e+12,  1.45858658e+12,  5.89832030e+11,  3.96623071e+11])\n",
      "ic| mass_per_particle_final_in_bins: array([-3.04142345e-11, -4.82735662e-11, -7.66189917e-11, -1.21605970e-10,\n",
      "                                            -1.93001124e-10, -3.06297566e-10, -4.86064577e-10, -7.71245111e-10,\n",
      "                                            -1.22351707e-09, -1.94045044e-09, -3.07611634e-09, -4.87314838e-09,\n",
      "                                            -7.71211621e-09, -1.21864370e-08, -1.92136130e-08, -3.01953991e-08,\n",
      "                                            -4.72385693e-08, -7.34410883e-08, -1.13232426e-07, -1.72731775e-07,\n",
      "                                            -2.60064008e-07, -3.85573141e-07, -5.61922010e-07, -8.04163532e-07,\n",
      "                                            -1.12996371e-06, -1.56017815e-06, -2.11990935e-06, -2.84005986e-06,\n",
      "                                            -3.75933325e-06, -4.92665529e-06, -6.40406407e-06, -8.27020270e-06,\n",
      "                                            -1.06246182e-05, -1.35931251e-05, -1.73345464e-05, -2.20492110e-05,\n",
      "                                            -2.79896729e-05, -3.54742306e-05, -4.49039742e-05, -5.67842724e-05])\n",
      "ic| number_par_in_bins_all[time_step, :]: array([-1.19741613e+36,  2.62178150e+36, -1.66381512e+36,  1.67709155e+35,\n",
      "                                                  5.09883138e+34,  1.51391794e+34,  4.30711010e+33,  1.12567403e+33,\n",
      "                                                  2.39001944e+32,  1.74864508e+31, -2.33845303e+31, -2.18029449e+31,\n",
      "                                                 -1.40772950e+31, -8.03138362e+30, -4.32224454e+30, -2.25287474e+30,\n",
      "                                                 -1.15167584e+30, -5.81068754e+29, -2.90211433e+29, -1.43598478e+29,\n",
      "                                                 -7.03221178e+28, -3.39713823e+28, -1.60857951e+28, -7.39294522e+27,\n",
      "                                                 -3.25829750e+27, -1.36113029e+27, -5.34476024e+26, -1.96617355e+26,\n",
      "                                                 -6.78675923e+25, -2.20969820e+25, -6.83628652e+24, -2.02583454e+24,\n",
      "                                                 -5.79474100e+23, -1.61100496e+23, -4.37849358e+22, -1.16894560e+22,\n",
      "                                                 -3.07731544e+21, -8.01265878e+20, -2.06844223e+20, -7.11645356e+19])\n",
      "ic| mass_per_particle_final_in_bins: array([-3.04142345e-11, -4.82735662e-11, -7.66189917e-11, -1.21605970e-10,\n",
      "                                            -1.93001124e-10, -3.06297566e-10, -4.86064577e-10, -7.71245111e-10,\n",
      "                                            -1.22351707e-09, -1.94045044e-09, -3.07611634e-09, -4.87314838e-09,\n",
      "                                            -7.71211621e-09, -1.21864370e-08, -1.92136130e-08, -3.01953991e-08,\n",
      "                                            -4.72385693e-08, -7.34410883e-08, -1.13232426e-07, -1.72731775e-07,\n",
      "                                            -2.60064008e-07, -3.85573141e-07, -5.61922010e-07, -8.04163532e-07,\n",
      "                                            -1.12996371e-06, -1.56017815e-06, -2.11990935e-06, -2.84005986e-06,\n",
      "                                            -3.75933325e-06, -4.92665529e-06, -6.40406407e-06, -8.27020270e-06,\n",
      "                                            -1.06246182e-05, -1.35931251e-05, -1.73345464e-05, -2.20492110e-05,\n",
      "                                            -2.79896729e-05, -3.54742306e-05, -4.49039742e-05, -5.67842724e-05])\n",
      "ic| number_par_in_bins_all[time_step, :]: array([-2.67398257e+49,  7.32105738e+49, -6.98781112e+49,  2.52800271e+49,\n",
      "                                                 -1.42079153e+48, -3.45392374e+47, -8.24398179e+46, -1.90548698e+46,\n",
      "                                                 -4.14568237e+45, -7.91014006e+44, -1.00385968e+44,  1.35016077e+43,\n",
      "                                                  1.86593252e+43,  1.07073916e+43,  5.06025327e+42,  2.20189571e+42,\n",
      "                                                  9.16796270e+41,  3.71342710e+41,  1.47384313e+41,  5.74588703e+40,\n",
      "                                                  2.19934371e+40,  8.24470818e+39,  3.01312925e+39,  1.06549846e+39,\n",
      "                                                  3.60493027e+38,  1.15079025e+38,  3.42022560e+37,  9.37902270e+36,\n",
      "                                                  2.36664924e+36,  5.51337983e+35,  1.19478336e+35,  2.43207413e+34,\n",
      "                                                  4.69812965e+33,  8.69589679e+32,  1.55530679e+32,  2.70714440e+31,\n",
      "                                                  4.61222410e+30,  7.72712517e+29,  1.27766249e+29,  2.49562118e+28])\n"
     ]
    },
    {
     "name": "stdout",
     "output_type": "stream",
     "text": [
      "Simulation is done\n",
      "[[1.e-10 1.e-10 1.e-10 1.e-10 1.e-10 1.e-10 1.e-10 1.e-10 1.e-10 1.e-10\n",
      "  1.e-10 1.e-10 1.e-10 1.e-10 1.e-10 1.e-10 1.e-10 1.e-10 1.e-10 1.e-10\n",
      "  1.e-10 1.e-10 1.e-10 1.e-10 1.e-10 1.e-10 1.e-10 1.e-10 1.e-10 1.e-10\n",
      "  1.e-10 1.e-10 1.e-10 1.e-10 1.e-10 1.e-10 1.e-10 1.e-10 1.e-10 1.e-10]\n",
      " [0.e+00 0.e+00 0.e+00 0.e+00 0.e+00 0.e+00 0.e+00 0.e+00 0.e+00 0.e+00\n",
      "  0.e+00 0.e+00 0.e+00 0.e+00 0.e+00 0.e+00 0.e+00 0.e+00 0.e+00 0.e+00\n",
      "  0.e+00 0.e+00 0.e+00 0.e+00 0.e+00 0.e+00 0.e+00 0.e+00 0.e+00 0.e+00\n",
      "  0.e+00 0.e+00 0.e+00 0.e+00 0.e+00 0.e+00 0.e+00 0.e+00 0.e+00 0.e+00]\n",
      " [0.e+00 0.e+00 0.e+00 0.e+00 0.e+00 0.e+00 0.e+00 0.e+00 0.e+00 0.e+00\n",
      "  0.e+00 0.e+00 0.e+00 0.e+00 0.e+00 0.e+00 0.e+00 0.e+00 0.e+00 0.e+00\n",
      "  0.e+00 0.e+00 0.e+00 0.e+00 0.e+00 0.e+00 0.e+00 0.e+00 0.e+00 0.e+00\n",
      "  0.e+00 0.e+00 0.e+00 0.e+00 0.e+00 0.e+00 0.e+00 0.e+00 0.e+00 0.e+00]\n",
      " [0.e+00 0.e+00 0.e+00 0.e+00 0.e+00 0.e+00 0.e+00 0.e+00 0.e+00 0.e+00\n",
      "  0.e+00 0.e+00 0.e+00 0.e+00 0.e+00 0.e+00 0.e+00 0.e+00 0.e+00 0.e+00\n",
      "  0.e+00 0.e+00 0.e+00 0.e+00 0.e+00 0.e+00 0.e+00 0.e+00 0.e+00 0.e+00\n",
      "  0.e+00 0.e+00 0.e+00 0.e+00 0.e+00 0.e+00 0.e+00 0.e+00 0.e+00 0.e+00]\n",
      " [0.e+00 0.e+00 0.e+00 0.e+00 0.e+00 0.e+00 0.e+00 0.e+00 0.e+00 0.e+00\n",
      "  0.e+00 0.e+00 0.e+00 0.e+00 0.e+00 0.e+00 0.e+00 0.e+00 0.e+00 0.e+00\n",
      "  0.e+00 0.e+00 0.e+00 0.e+00 0.e+00 0.e+00 0.e+00 0.e+00 0.e+00 0.e+00\n",
      "  0.e+00 0.e+00 0.e+00 0.e+00 0.e+00 0.e+00 0.e+00 0.e+00 0.e+00 0.e+00]]\n"
     ]
    }
   ],
   "source": [
    "    \n",
    "\n",
    "result = simulation_general_dynamic_equation(\n",
    "            bins_lower_sim_gde = bins_generator_dp_lower(bins_number=bin_number, d_p_min=dp_min, d_p_max=dp_max),\n",
    "            bins_geom_mean_sim_gde = bins_generator_dp_g_mean(bins_number=bin_number, d_p_min=dp_min, d_p_max=dp_max),\n",
    "            initial_mass_in_bins=np.ones(bin_number)*1e-10, # in kg\n",
    "            time_step_size=1, # in seconds\n",
    "            time_end=5, # in seconds\n",
    "            c_inf=1E6, # in molec/m^3\n",
    "            c_sat=1E9, # in molec/m^3\n",
    "            diff_coefficient=1E-9, # in m^2/s\n",
    "            rho_p= rho_h2so4_std, # in kg/m^3\n",
    "            temperature_sim_gde =273.15 + 25, \n",
    "            pressure_sim_gde=101325, \n",
    "            coagulation=False,\n",
    "            condensation=True\n",
    "            )\n",
    "\n",
    "print(result)"
   ],
   "metadata": {
    "collapsed": false,
    "ExecuteTime": {
     "end_time": "2024-03-08T22:30:50.531099Z",
     "start_time": "2024-03-08T22:30:49.909877Z"
    }
   },
   "id": "572b3ce790e28d27",
   "execution_count": 232
  },
  {
   "cell_type": "code",
   "outputs": [
    {
     "data": {
      "text/plain": "array([[1.e-10, 1.e-10, 1.e-10, 1.e-10, 1.e-10, 1.e-10, 1.e-10, 1.e-10,\n        1.e-10, 1.e-10, 1.e-10, 1.e-10, 1.e-10, 1.e-10, 1.e-10, 1.e-10,\n        1.e-10, 1.e-10, 1.e-10, 1.e-10, 1.e-10, 1.e-10, 1.e-10, 1.e-10,\n        1.e-10, 1.e-10, 1.e-10, 1.e-10, 1.e-10, 1.e-10, 1.e-10, 1.e-10,\n        1.e-10, 1.e-10, 1.e-10, 1.e-10, 1.e-10, 1.e-10, 1.e-10, 1.e-10],\n       [0.e+00, 0.e+00, 0.e+00, 0.e+00, 0.e+00, 0.e+00, 0.e+00, 0.e+00,\n        0.e+00, 0.e+00, 0.e+00, 0.e+00, 0.e+00, 0.e+00, 0.e+00, 0.e+00,\n        0.e+00, 0.e+00, 0.e+00, 0.e+00, 0.e+00, 0.e+00, 0.e+00, 0.e+00,\n        0.e+00, 0.e+00, 0.e+00, 0.e+00, 0.e+00, 0.e+00, 0.e+00, 0.e+00,\n        0.e+00, 0.e+00, 0.e+00, 0.e+00, 0.e+00, 0.e+00, 0.e+00, 0.e+00],\n       [0.e+00, 0.e+00, 0.e+00, 0.e+00, 0.e+00, 0.e+00, 0.e+00, 0.e+00,\n        0.e+00, 0.e+00, 0.e+00, 0.e+00, 0.e+00, 0.e+00, 0.e+00, 0.e+00,\n        0.e+00, 0.e+00, 0.e+00, 0.e+00, 0.e+00, 0.e+00, 0.e+00, 0.e+00,\n        0.e+00, 0.e+00, 0.e+00, 0.e+00, 0.e+00, 0.e+00, 0.e+00, 0.e+00,\n        0.e+00, 0.e+00, 0.e+00, 0.e+00, 0.e+00, 0.e+00, 0.e+00, 0.e+00],\n       [0.e+00, 0.e+00, 0.e+00, 0.e+00, 0.e+00, 0.e+00, 0.e+00, 0.e+00,\n        0.e+00, 0.e+00, 0.e+00, 0.e+00, 0.e+00, 0.e+00, 0.e+00, 0.e+00,\n        0.e+00, 0.e+00, 0.e+00, 0.e+00, 0.e+00, 0.e+00, 0.e+00, 0.e+00,\n        0.e+00, 0.e+00, 0.e+00, 0.e+00, 0.e+00, 0.e+00, 0.e+00, 0.e+00,\n        0.e+00, 0.e+00, 0.e+00, 0.e+00, 0.e+00, 0.e+00, 0.e+00, 0.e+00],\n       [0.e+00, 0.e+00, 0.e+00, 0.e+00, 0.e+00, 0.e+00, 0.e+00, 0.e+00,\n        0.e+00, 0.e+00, 0.e+00, 0.e+00, 0.e+00, 0.e+00, 0.e+00, 0.e+00,\n        0.e+00, 0.e+00, 0.e+00, 0.e+00, 0.e+00, 0.e+00, 0.e+00, 0.e+00,\n        0.e+00, 0.e+00, 0.e+00, 0.e+00, 0.e+00, 0.e+00, 0.e+00, 0.e+00,\n        0.e+00, 0.e+00, 0.e+00, 0.e+00, 0.e+00, 0.e+00, 0.e+00, 0.e+00]])"
     },
     "execution_count": 233,
     "metadata": {},
     "output_type": "execute_result"
    }
   ],
   "source": [
    "result"
   ],
   "metadata": {
    "collapsed": false
   },
   "id": "fcaf68ae0e4aa3cc",
   "execution_count": 233
  }
 ],
 "metadata": {
  "kernelspec": {
   "display_name": "Python 3",
   "language": "python",
   "name": "python3"
  },
  "language_info": {
   "codemirror_mode": {
    "name": "ipython",
    "version": 2
   },
   "file_extension": ".py",
   "mimetype": "text/x-python",
   "name": "python",
   "nbconvert_exporter": "python",
   "pygments_lexer": "ipython2",
   "version": "2.7.6"
  }
 },
 "nbformat": 4,
 "nbformat_minor": 5
}
