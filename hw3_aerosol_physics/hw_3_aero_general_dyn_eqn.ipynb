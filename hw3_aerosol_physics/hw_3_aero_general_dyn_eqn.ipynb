{
 "cells": [
  {
   "cell_type": "code",
   "execution_count": 58,
   "id": "initial_id",
   "metadata": {
    "collapsed": true,
    "ExecuteTime": {
     "end_time": "2024-03-04T23:40:26.339307Z",
     "start_time": "2024-03-04T23:40:26.334638Z"
    }
   },
   "outputs": [],
   "source": [
    "import aerosol_module as am # This is a module that I wrote for this class\n",
    "import numpy as np\n",
    "import pandas as pd\n",
    "from scipy import constants as const\n",
    "from pyfluids import Fluid, FluidsList, Input\n",
    "import matplotlib.pyplot as plt\n",
    "from icecream import ic"
   ]
  },
  {
   "cell_type": "code",
   "outputs": [
    {
     "name": "stdout",
     "output_type": "stream",
     "text": [
      "This is a module that contains the functions that are could be useful for my projects\n"
     ]
    }
   ],
   "source": [
    "# For testing the module functions\n",
    "if __name__ == '__main__': # This is to test the module functions\n",
    "    print(\"This is a module that contains the functions that are could be useful for my projects\")\n",
    "\n",
    "\n",
    "# importing libraries"
   ],
   "metadata": {
    "collapsed": false,
    "ExecuteTime": {
     "end_time": "2024-03-04T23:40:26.356663Z",
     "start_time": "2024-03-04T23:40:26.352545Z"
    }
   },
   "id": "e76c1ddc3cf84063",
   "execution_count": 59
  },
  {
   "cell_type": "code",
   "outputs": [],
   "source": [
    "import numpy as np\n",
    "from pyfluids import Fluid, FluidsList, Input\n",
    "from scipy import constants as const\n",
    "import pandas as pd\n",
    "\n",
    "\n",
    "# Global constants"
   ],
   "metadata": {
    "collapsed": false,
    "ExecuteTime": {
     "end_time": "2024-03-04T23:40:26.370738Z",
     "start_time": "2024-03-04T23:40:26.367890Z"
    }
   },
   "id": "968b8c28ca71e51d",
   "execution_count": 60
  },
  {
   "cell_type": "code",
   "outputs": [],
   "source": [
    "h = const.Planck  # J s Planck constant\n",
    "r_gas_c = const.R  # J/(mol K) molar gas constant \n",
    "k_Boltzmann = const.Boltzmann  # J/K Boltzmann constant\n",
    "g = const.g  # m/s^2 acceleration due to gravity\n",
    "n_avo = const.Avogadro  # 1/mol Avogadro's number\n",
    "\n",
    "\n",
    "# Default air standard properties"
   ],
   "metadata": {
    "collapsed": false,
    "ExecuteTime": {
     "end_time": "2024-03-04T23:40:26.425519Z",
     "start_time": "2024-03-04T23:40:26.421780Z"
    }
   },
   "id": "fe761e153dcbefb9",
   "execution_count": 61
  },
  {
   "cell_type": "code",
   "outputs": [],
   "source": [
    "pressure_std = 101325  # Pa\n",
    "temperature_std = 273.15 + 25  # K #??????? need to make sure this is the right temperature\n",
    "air_std = Fluid(FluidsList.Air).with_state(Input.pressure(pressure_std), Input.temperature(temperature_std - 273.15))\n",
    "\n",
    "\n",
    "# Functions"
   ],
   "metadata": {
    "collapsed": false,
    "ExecuteTime": {
     "end_time": "2024-03-04T23:40:26.444708Z",
     "start_time": "2024-03-04T23:40:26.440692Z"
    }
   },
   "id": "953677f748a3fee8",
   "execution_count": 62
  },
  {
   "cell_type": "code",
   "outputs": [],
   "source": [
    "\n",
    "\n",
    "def c_cunningham(d_p, lamda=65E-9):\n",
    "    # defining the function\n",
    "    # Cunningham correction factor\n",
    "    # Dp is the particle diameter in meters\n",
    "    # lamda is the mean free path of the gas in meters\n",
    "    # C is the Cunningham correction factor\n",
    "    kn = 2 * lamda / d_p\n",
    "    return 1 + kn * (1.257 + 0.4 * np.exp(-1.1 / kn))\n"
   ],
   "metadata": {
    "collapsed": false,
    "ExecuteTime": {
     "end_time": "2024-03-04T23:40:26.449543Z",
     "start_time": "2024-03-04T23:40:26.446095Z"
    }
   },
   "id": "ea17cb18336d4901",
   "execution_count": 63
  },
  {
   "cell_type": "code",
   "outputs": [],
   "source": [
    "\n",
    "\n",
    "def mean_free_path(temperature: float, pressure: float):\n",
    "    # mean free path of air calculator\n",
    "    # T is the temperature in Kelvin\n",
    "    # P is the pressure in Pascals\n",
    "    # lamda is the mean free path of the gas in meters\n",
    "    R = 8.314  # J/(mol K) gas constant\n",
    "    M = 0.0289647  # kg/mol molar mass of air\n",
    "    air = Fluid(FluidsList.Air).with_state(Input.pressure(pressure), Input.temperature(temperature - 273.15))\n",
    "    viscosity = air.dynamic_viscosity  # Pa s dynamic viscosity\n",
    "    return 2 * viscosity / (pressure * np.sqrt(8 * M / (np.pi * R * temperature)))\n"
   ],
   "metadata": {
    "collapsed": false,
    "ExecuteTime": {
     "end_time": "2024-03-04T23:40:26.458608Z",
     "start_time": "2024-03-04T23:40:26.454829Z"
    }
   },
   "id": "49b68a1a8212b15",
   "execution_count": 64
  },
  {
   "cell_type": "code",
   "outputs": [],
   "source": [
    "\n",
    "\n",
    "def reynolds_number(d_p: float, velocity: float, fluid_density=air_std.density, \n",
    "                    dynamic_viscosity=air_std.dynamic_viscosity):\n",
    "    # Reynolds number calculator\n",
    "    # Dp is the particle diameter in meters\n",
    "    # rho_f is the density of the fluid in kg/m^3\n",
    "    # g is the acceleration due to gravity in m/s^2\n",
    "    # C is the Cunningham correction factor\n",
    "    # Re is the Reynolds number\n",
    "    return (d_p * fluid_density * velocity) / dynamic_viscosity\n"
   ],
   "metadata": {
    "collapsed": false,
    "ExecuteTime": {
     "end_time": "2024-03-04T23:40:26.478579Z",
     "start_time": "2024-03-04T23:40:26.474531Z"
    }
   },
   "id": "f7a1513f22bf8287",
   "execution_count": 65
  },
  {
   "cell_type": "code",
   "outputs": [],
   "source": [
    "\n",
    "\n",
    "def settling_velocity(d_p, rho_p: float, temperature: float, pressure: float):\n",
    "    # Check if Dp_input is an array or a single value\n",
    "    if np.isscalar(d_p):\n",
    "        d_p_array = np.array([d_p])  # Convert to array for uniform processing\n",
    "    else:\n",
    "        d_p_array = d_p  # Use the array as is\n",
    "\n",
    "    velocities = []  # Empty list to store calculated velocities\n",
    "    for d_p in d_p_array:  # Process each Dp individually\n",
    "        g = 9.81  # m/s^2\n",
    "        l_mfp = mean_free_path(temperature, pressure)\n",
    "        c_cun = c_cunningham(d_p, l_mfp)\n",
    "        air = Fluid(FluidsList.Air).with_state(Input.pressure(pressure), Input.temperature(temperature - 273.15))\n",
    "        mu_f = air.dynamic_viscosity\n",
    "        rho_f = air.density\n",
    "        s_velocity = c_cun * (rho_p * g * d_p ** 2) / (18 * mu_f)  # Stokes settling velocity\n",
    "        Re = reynolds_number(d_p, s_velocity, fluid_density=rho_f, dynamic_viscosity=mu_f)\n",
    "        if Re < 1:\n",
    "            velocities.append(s_velocity)\n",
    "        else:\n",
    "            # Adjusted iterative approach for Re > 1, similar to before\n",
    "            m_p = np.pi * rho_p * d_p ** 3 / 6\n",
    "            for i in range(100):\n",
    "                # c_d = 24 / Re * (1 + 0.15 * Re**(0.687))  # Updated drag coefficient expression\n",
    "                c_d = 24 / Re * (1 + 3 / 16 * 0.43 * Re)\n",
    "                # s_velocity = np.sqrt((4 * m_p * g) / (3 * np.pi * c_d * rho_f * Dp**2))\n",
    "                s_velocity = np.sqrt((m_p * g) / (1 / 8 * np.pi * c_d * rho_f * d_p ** 2))\n",
    "                Re_new = reynolds_number(d_p, s_velocity, fluid_density=rho_f, dynamic_viscosity=mu_f)\n",
    "                if abs(Re_new - Re) < 0.01:\n",
    "                    break  # Exit the loop if the change in Reynolds number is small enough\n",
    "                else:\n",
    "                    Re = Re_new\n",
    "            velocities.append(s_velocity)\n",
    "\n",
    "    velocities_array = np.array(velocities)  # Convert list to array\n",
    "\n",
    "    if np.isscalar(d_p):\n",
    "        return velocities_array[0]  # Return a single value if input was scalar\n",
    "    else:\n",
    "        return velocities_array  # Return array if input was array\n"
   ],
   "metadata": {
    "collapsed": false,
    "ExecuteTime": {
     "end_time": "2024-03-04T23:40:26.500721Z",
     "start_time": "2024-03-04T23:40:26.494456Z"
    }
   },
   "id": "9725383f6e6b1870",
   "execution_count": 66
  },
  {
   "cell_type": "code",
   "outputs": [],
   "source": [
    "\n",
    "\n",
    "def cond_dia_growth_rate(d_p, c_inf, c_sat, diff_coefficient, rho_p=1E3):\n",
    "    # condensation diameter growth rate\n",
    "    # Dp is the particle diameter in meters\n",
    "    b_factor = beta_corr_cond(d_p)\n",
    "    d_dp_dt = b_factor * 4 * diff_coefficient * (c_inf - c_sat) / (rho_p * d_p)\n",
    "    return d_dp_dt\n",
    "    # # if np.isscalar(d_p):\n",
    "    # #     d_p_array = np.array([d_p])  # Convert to array for uniform processing\n",
    "    # # else:\n",
    "    # #     d_p_array = d_p  # Use the array as is\n",
    "    # # dia_growth_rate = []  # Empty list to store calculated velocities\n",
    "    #\n",
    "    # return dia_growth_rate\n"
   ],
   "metadata": {
    "collapsed": false,
    "ExecuteTime": {
     "end_time": "2024-03-04T23:40:26.510598Z",
     "start_time": "2024-03-04T23:40:26.506044Z"
    }
   },
   "id": "67c9d9a6681ec088",
   "execution_count": 67
  },
  {
   "cell_type": "code",
   "outputs": [],
   "source": [
    "\n",
    "\n",
    "def condensation_mass_growth_rate(d_p, c_inf, c_sat, diff_coefficient_vapor, rho_p=1E3):\n",
    "    # condensation mass growth rate\n",
    "    # Dp is the particle diameter in meters\n",
    "    # c_inf is the concentration of the condensing vapor in the bulk gas in molec/m^3\n",
    "    # c_sat is the saturation concentration of the condensing vapor in molec/m^3\n",
    "    # diff_coefficient is the diffusion coefficient of the condensing vapor in m^2/s\n",
    "    # rho_p is the density of the particle in kg/m^3 (default is 1E3 kg/m^3)\n",
    "    # m_p is the mass of the particle in kg\n",
    "    # particle mass\n",
    "    # J is the same as condensation mass growth rate\n",
    "    j_cond_calculated = 2 * np.pi * diff_coefficient_vapor * d_p * (c_inf - c_sat) * beta_corr_cond(d_p)  # kg/s\n",
    "    return j_cond_calculated\n"
   ],
   "metadata": {
    "collapsed": false,
    "ExecuteTime": {
     "end_time": "2024-03-04T23:40:26.529233Z",
     "start_time": "2024-03-04T23:40:26.525173Z"
    }
   },
   "id": "713ee588d030e210",
   "execution_count": 68
  },
  {
   "cell_type": "code",
   "outputs": [],
   "source": [
    "\n",
    "\n",
    "def beta_corr_cond(d_p, lamda=65E-9):\n",
    "    # Dahneke correction factor\n",
    "    # Dp is the particle diameter in meters\n",
    "    # B is the Darkener correction factor\n",
    "    # kn is the Knudsen number\n",
    "    # lamda is the mean free path of the gas in meters\n",
    "    kn = 2 * lamda / d_p\n",
    "    b_factor = (1 + kn) / (1 + 2 * kn * (1 + kn))\n",
    "    return b_factor\n"
   ],
   "metadata": {
    "collapsed": false,
    "ExecuteTime": {
     "end_time": "2024-03-04T23:40:26.543949Z",
     "start_time": "2024-03-04T23:40:26.539849Z"
    }
   },
   "id": "ef46e142b3363b6c",
   "execution_count": 69
  },
  {
   "cell_type": "code",
   "outputs": [],
   "source": [
    "\n",
    "\n",
    "def unit_conversion(conversion, variable=1):\n",
    "    switcher = {\n",
    "        # length\n",
    "        'cm3_to_m3': variable * 1E-6,\n",
    "        'm3_to_cm3': variable * 1E6,\n",
    "        # time\n",
    "        'hr_to_s': variable * 3600,\n",
    "        's_to_hr': variable * 1 / 3600,\n",
    "        # volume\n",
    "        'm3_to_L': variable * 1000,\n",
    "        'L_to_m3': variable * 1 / 1000,\n",
    "        # mass\n",
    "        'kg_to_g': variable * 1000,\n",
    "        'g_to_kg': variable * 1 / 1000,\n",
    "        'kg_to_ug': variable * 1E9,\n",
    "        'ug_to_kg': variable * 1E-9,\n",
    "\n",
    "        # pressure\n",
    "        'Pa_to_kPa': variable * 1E-3,\n",
    "        'kPa_to_Pa': variable * 1E3,\n",
    "        'atm_to_Pa': variable * 101325,\n",
    "        'Pa_to_atm': variable * 1 / 101325,\n",
    "        # temperature\n",
    "        'C_to_K': variable + 273.15,\n",
    "        'K_to_C': variable - 273.15,\n",
    "\n",
    "    }\n",
    "    return switcher.get(conversion, 'Invalid conversion')\n"
   ],
   "metadata": {
    "collapsed": false,
    "ExecuteTime": {
     "end_time": "2024-03-04T23:40:26.549705Z",
     "start_time": "2024-03-04T23:40:26.545093Z"
    }
   },
   "id": "870716b154a20",
   "execution_count": 70
  },
  {
   "cell_type": "code",
   "outputs": [],
   "source": [
    "\n",
    "\n",
    "def dp_to_mp_distribution(d_p, rho_p=1E3):\n",
    "    # Dp is the particle diameter in meters\n",
    "    # rho_p is the density of the particle in kg/m^3\n",
    "    # m_p is the mass of the particle in kg\n",
    "    m_p = np.pi * rho_p * d_p ** 3 / 6\n",
    "    return m_p\n",
    "\n",
    "def mp_to_dp_distribution(m_p, rho_p=1E3):\n",
    "    d_p = (6 * m_p / (np.pi * rho_p)) ** (1 / 3)\n",
    "    return d_p\n"
   ],
   "metadata": {
    "collapsed": false,
    "ExecuteTime": {
     "end_time": "2024-03-04T23:40:26.554361Z",
     "start_time": "2024-03-04T23:40:26.550874Z"
    }
   },
   "id": "216e6e2bed942e65",
   "execution_count": 71
  },
  {
   "cell_type": "code",
   "outputs": [],
   "source": [
    "\n",
    "\n",
    "def vol_sphere(d_p):\n",
    "    # Dp is the particle diameter in meters\n",
    "    # V is the volume of the sphere in m^3\n",
    "    return (4 / 3) * np.pi * (d_p / 2) ** 3\n"
   ],
   "metadata": {
    "collapsed": false,
    "ExecuteTime": {
     "end_time": "2024-03-04T23:40:26.569061Z",
     "start_time": "2024-03-04T23:40:26.566087Z"
    }
   },
   "id": "ad704894d20dd350",
   "execution_count": 72
  },
  {
   "cell_type": "code",
   "outputs": [],
   "source": [
    "\n",
    "\n",
    "def surf_sphere(d_p):\n",
    "    # Dp is the particle diameter in meters\n",
    "    # A is the surface area of the sphere in m^2\n",
    "    return 4 * np.pi * (d_p / 2) ** 2\n"
   ],
   "metadata": {
    "collapsed": false,
    "ExecuteTime": {
     "end_time": "2024-03-04T23:40:26.581350Z",
     "start_time": "2024-03-04T23:40:26.577606Z"
    }
   },
   "id": "bea389cc69f25566",
   "execution_count": 73
  },
  {
   "cell_type": "code",
   "outputs": [],
   "source": [
    "\n",
    "\n",
    "def k_coag(d_p_1, d_p_2, temp=temperature_std, rho_1=1000, rho_2=1000):  #\n",
    "    # Source: Sienfeld, J. H., & Pandis, S. N. (2006). Atmospheric chemistry and physics:\n",
    "    # :from air pollution to climate change. John Wiley & Sons.\n",
    "    # 2nd Edition Table 13.1\n",
    "    # coagulation coefficient\n",
    "    # Dp1 is the diameter of particle 1 in meters\n",
    "    # Dp2 is the diameter of particle 2 in meters\n",
    "    # c1 is the concentration of particle 1 in molec/m^3\n",
    "    # c2 is the concentration of particle 2 in molec/m^3\n",
    "    # d_diff1 is the diffusion coefficient of particle 1 in m^2/s\n",
    "    # d_diff2 is the diffusion coefficient of particle 2 in m^2/s\n",
    "    # temp is the temperature in Kelvin\n",
    "    # rho_1 is the density of particle 1 in kg/m^3\n",
    "    # rho_2 is the density of particle 2 in kg/m^3\n",
    "    # k_bolt is the Boltzmann constant in J/K defined in the global constants\n",
    "\n",
    "    # Convert dp_1 and dp_2 to numpy arrays if they are not already\n",
    "    dp_1_np = np.array([d_p_1])\n",
    "    dp_2_np = np.array([d_p_2])\n",
    "\n",
    "    # k is the coagulation coefficient\n",
    "    # used the mass of a particle because the c_1 and c_2 are velocity of the particles\n",
    "    air_01 = Fluid(FluidsList.Air).with_state(Input.pressure(pressure_std), Input.temperature(temp - 273.15))\n",
    "    vis_air = air_01.dynamic_viscosity  # Pa s dynamic viscosity\n",
    "    d_diff1 = k_Boltzmann * temp * np.array([c_cunningham(dp) for dp in dp_1_np]) / (3 * np.pi * vis_air * dp_1_np)\n",
    "    d_diff2 = k_Boltzmann * temp * np.array([c_cunningham(dp) for dp in dp_2_np]) / (3 * np.pi * vis_air * dp_2_np)\n",
    "    m_1 = rho_1 * np.pi * dp_1_np ** 3 / 6  # mass of one particle in kg\n",
    "    m_2 = rho_2 * np.pi * dp_2_np ** 3 / 6  # mass of one particle in kg\n",
    "    c_1 = np.sqrt(8 * k_Boltzmann * temp / (np.pi * m_1))\n",
    "    c_2 = np.sqrt(8 * k_Boltzmann * temp / (np.pi * m_2))\n",
    "    l_1 = 8 * d_diff1 / (np.pi * c_1)\n",
    "    l_2 = 8 * d_diff2 / (np.pi * c_1)\n",
    "    g_1 = 1 / (3 * dp_1_np * l_1) * ((dp_1_np + l_1) ** 3 - (dp_1_np ** 2 + l_1 ** 2) ** (3 / 2)) - dp_1_np\n",
    "    g_2 = 1 / (3 * dp_2_np * l_2) * ((dp_2_np + l_2) ** 3 - (dp_2_np ** 2 + l_2 ** 2) ** (3 / 2)) - dp_2_np\n",
    "    denominator = (((dp_1_np + dp_2_np) / (dp_1_np + dp_2_np + 2 * np.sqrt(g_1 ** 2 + g_2 ** 2))) + 8 * (\n",
    "            d_diff1 + d_diff2) / (c_1 ** 2 + c_2 ** 2) ** 0.5 / (dp_1_np + dp_2_np))\n",
    "\n",
    "    k_coag_fuchs = 2 * np.pi * (dp_1_np + dp_2_np) * (d_diff1 + d_diff2) / denominator\n",
    "    return k_coag_fuchs\n"
   ],
   "metadata": {
    "collapsed": false,
    "ExecuteTime": {
     "end_time": "2024-03-04T23:40:26.590003Z",
     "start_time": "2024-03-04T23:40:26.582551Z"
    }
   },
   "id": "64f9920a0fe608fc",
   "execution_count": 74
  },
  {
   "cell_type": "code",
   "outputs": [],
   "source": [
    "def bins_generator_dp(bins_number: int, d_p_min: float, d_p_max: float):\n",
    "    # This function generates the lower limits of the bins for the particle diameter\n",
    "    # bins_number is the number of bins\n",
    "    # d_p_min is the minimum particle diameter in meters\n",
    "    # d_p_max is the maximum particle diameter in meters\n",
    "    bins_lower_generated = np.geomspace(1e-9, 10.3e-6, bin_number + 1)\n",
    "    bins_upper_generated = bins_lower_generated[1:]\n",
    "    bins_lower_generated = bins_lower_generated[:-1]\n",
    "    bins_g_mean_generated = np.sqrt(bins_lower_generated * bins_upper_generated)  # geometric mean\n",
    "    return bins_lower_generated, bins_upper_generated, bins_g_mean_generated\n",
    "\n",
    "def bins_generator_dp_lower(bins_number: int, d_p_min: float, d_p_max: float):\n",
    "    # This function generates the lower limits of the bins for the particle diameter\n",
    "    # bins_number is the number of bins\n",
    "    # d_p_min is the minimum particle diameter in meters\n",
    "    # d_p_max is the maximum particle diameter in meters\n",
    "    bins_lower_generated = bins_generator_dp(bins_number, d_p_min, d_p_max)[0]\n",
    "    return bins_lower_generated\n",
    "\n",
    "\n",
    "def bins_generator_dp_upper(bins_number: int, d_p_min: float, d_p_max: float):\n",
    "    # This function generates the upper limits of the bins for the particle diameter\n",
    "    # bins_number is the number of bins\n",
    "    # d_p_min is the minimum particle diameter in meters\n",
    "    # d_p_max is the maximum particle diameter in meters\n",
    "    bins_upper_generated = bins_generator_dp(bins_number, d_p_min, d_p_max)[1]\n",
    "    return bins_upper_generated\n",
    "\n",
    "def bins_generator_dp_g_mean(bins_number: int, d_p_min: float, d_p_max: float):\n",
    "    # This function generates the geometric mean of the bins for the particle diameter\n",
    "    # bins_number is the number of bins\n",
    "    # d_p_min is the minimum particle diameter in meters\n",
    "    # d_p_max is the maximum particle diameter in meters\n",
    "    bins_g_mean_generated = bins_generator_dp(bins_number, d_p_min, d_p_max)[2]\n",
    "    return bins_g_mean_generated"
   ],
   "metadata": {
    "collapsed": false,
    "ExecuteTime": {
     "end_time": "2024-03-04T23:40:26.596938Z",
     "start_time": "2024-03-04T23:40:26.591143Z"
    }
   },
   "id": "bac4972809e09aea",
   "execution_count": 75
  },
  {
   "cell_type": "code",
   "outputs": [],
   "source": [
    "def coagulation_init():\n",
    "    ...\n",
    "\n",
    "def condensation_init():\n",
    "    ...\n"
   ],
   "metadata": {
    "collapsed": false,
    "ExecuteTime": {
     "end_time": "2024-03-04T23:40:26.601331Z",
     "start_time": "2024-03-04T23:40:26.598072Z"
    }
   },
   "id": "272dde0f9e192b68",
   "execution_count": 76
  },
  {
   "cell_type": "code",
   "outputs": [],
   "source": [
    "def simulation_general_dynamic_equation(\n",
    "        bins_lower_sim_gde: np.array , # in meters\n",
    "        bins_geom_mean_sim_gde: np.array , # in meters\n",
    "        initial_mass_in_bins: np.array, # in kg\n",
    "        time_step_size: float = 1 , # in seconds\n",
    "        time_end: float = 3600 , # in seconds\n",
    "        c_inf: float = 1E6, # in molec/m^3\n",
    "        c_sat: float = 1E9, # in molec/m^3\n",
    "        diff_coefficient: float = 1E-9, # in m^2/s\n",
    "        rho_p: float = 1E3, # in kg/m^3\n",
    "        temperature_sim_gde: float = temperature_std, # in Kelvin\n",
    "        pressure_sim_gde: float = pressure_std, # in Pascals\n",
    "        coagulation: bool = False,\n",
    "        condensation: bool = False\n",
    "        ):\n",
    "    \n",
    "    bin_number_sim = len(bins_lower_sim_gde)\n",
    "    # This function simulates the growth of particles in a gas phase using the General Dynamic Equation (GDE)\n",
    "    total_time_steps: int = time_end // time_step_size # total number of time steps\n",
    "    # Create a dataframe to store the results for each time step\n",
    "    if condensation:\n",
    "        \n",
    "        mass_per_particle_in_bins_all = dp_to_mp_distribution(bins_geom_mean_sim_gde, rho_p = rho_p)\n",
    "        mass_growth_rate_all_bins = condensation_mass_growth_rate(\n",
    "                bins_geom_mean_sim_gde,\n",
    "                c_inf = c_inf,\n",
    "                c_sat = c_sat, \n",
    "                diff_coefficient_vapor= diff_coefficient,\n",
    "                rho_p= rho_p \n",
    "        ) # in kg # mass growth rate in each bin in one time step\n",
    "    if coagulation:\n",
    "        coag_kernel_sim_gde_all = coagulation_init(bins_geom_mean_sim_gde, temperature = temperature_sim_gde, rho_p = rho_p)\n",
    "    \n",
    "    # Create a dataframe to store the results for each time step\n",
    "    mass_per_particle_in_bins_sim = np.zeros((total_time_steps, bin_number_sim))\n",
    "    mass_per_particle_in_bins_sim[0, :] = initial_mass_in_bins\n",
    "    number_par_in_bins_all = np.zeros((total_time_steps, bin_number_sim))\n",
    "    number_par_in_bins_all[0, :] = mp_to_dp_distribution(initial_mass_in_bins,rho_p) # make sure\n",
    "    ic(number_par_in_bins_all[0, :])\n",
    "    # start the simulation\n",
    "    # loop through each time step\n",
    "    for time_step in range(1, total_time_steps):\n",
    "        # calculate the condensation and coagulation rates\n",
    "        # calculate the new mass in each bin\n",
    "        # store the results in the dataframe\n",
    "        # update the initial conditions for the next time step\n",
    "        # repeat the process for the next time step\n",
    "        \n",
    "        # Condensation\n",
    "        if condensation:\n",
    "            j_condensation_mass_growth_all_bins = condensation_mass_growth_rate(\n",
    "                bins_geom_mean_sim_gde,\n",
    "                c_inf = c_inf,\n",
    "                c_sat = c_sat,\n",
    "                diff_coefficient_vapor= diff_coefficient,\n",
    "                rho_p= rho_p \n",
    "            )\n",
    "            \n",
    "            mass_per_particle_final_in_bins =\\\n",
    "                (mass_per_particle_in_bins_sim[time_step - 1, :] \n",
    "                 + j_condensation_mass_growth_all_bins * time_step_size)\n",
    "            \n",
    "            ic(mass_per_particle_final_in_bins)\n",
    "            \n",
    "            number_particle_in_bins_temp = np.zeros(bin_number_sim)\n",
    "            for bin_i in range(bin_number_sim-1):\n",
    "                number_particle_in_bins_temp[bin_i+1] = (\n",
    "                        number_particle_in_bins_temp[bin_i+1] +\n",
    "                        number_par_in_bins_all[time_step -1,bin_i] * \n",
    "                        ((mass_per_particle_final_in_bins[bin_i] -  mass_per_particle_in_bins_all[bin_i]) / (mass_per_particle_in_bins_all[bin_i + 1] - mass_per_particle_in_bins_all[bin_i])))\n",
    "                \n",
    "                number_particle_in_bins_temp[bin_i] = (\n",
    "                        number_particle_in_bins_temp[bin_i] + \n",
    "                        number_par_in_bins_all[time_step -1,bin_i] * \n",
    "                        (1 - (mass_per_particle_final_in_bins[bin_i] -  mass_per_particle_in_bins_all[bin_i]) / (mass_per_particle_in_bins_all[bin_i + 1] - mass_per_particle_in_bins_all[bin_i])))\n",
    "                \n",
    "            # Update the mass in the last bin\n",
    "            number_particle_in_bins_temp[-1] = number_particle_in_bins_temp[-1] + number_par_in_bins_all[time_step -1,-1]\n",
    "            number_par_in_bins_all[time_step, :] = number_particle_in_bins_temp\n",
    "            ic(number_par_in_bins_all[time_step, :])\n",
    "\n",
    "        # Coagulation\n",
    "        if coagulation:\n",
    "            pass\n",
    "        \n",
    "        \n",
    "    \n",
    "    # return the results\n",
    "    print('Simulation is done')\n",
    "    return mass_per_particle_in_bins_sim\n",
    "    \n",
    "\n"
   ],
   "metadata": {
    "collapsed": false,
    "ExecuteTime": {
     "end_time": "2024-03-04T23:41:30.027773Z",
     "start_time": "2024-03-04T23:41:30.017926Z"
    }
   },
   "id": "97aaa4721d53e3e1",
   "execution_count": 79
  },
  {
   "cell_type": "code",
   "outputs": [],
   "source": [
    "# all diameters are in nm\n",
    "S_g = 1.7 # standard deviation of the lognormal distribution\n",
    "N = 1000 # number of particles in the distribution (cm^-3)\n",
    "D_pg = 200e-9 # geometric mean diameter (nm)\n",
    "\n",
    "bin_number = 40\n",
    "dp_min = 1E-9\n",
    "dp_max = 10.3E-6\n",
    "\n",
    "Dp = bins_generator_dp_g_mean(bins_number=bin_number, d_p_min=dp_min, d_p_max=dp_max)\n",
    "dN_dDp = N/(np.sqrt(2*np.pi)*np.log(S_g)*Dp)*np.exp(-(np.log(Dp/D_pg))**2/(2*(np.log(S_g))**2))\n",
    "N = dN_dDp * (bins_generator_dp_upper(bins_number=bin_number, d_p_min=dp_min, d_p_max=dp_max) -\n",
    "              bins_generator_dp_lower(bins_number=bin_number, d_p_min=dp_min, d_p_max=dp_max))"
   ],
   "metadata": {
    "collapsed": false,
    "ExecuteTime": {
     "end_time": "2024-03-04T23:53:19.353469Z",
     "start_time": "2024-03-04T23:53:19.347589Z"
    }
   },
   "id": "5d14a7cf2074d2f5",
   "execution_count": 83
  },
  {
   "cell_type": "code",
   "outputs": [
    {
     "data": {
      "text/plain": "[<matplotlib.lines.Line2D at 0x158cb1ee810>]"
     },
     "execution_count": 84,
     "metadata": {},
     "output_type": "execute_result"
    },
    {
     "data": {
      "text/plain": "<Figure size 640x480 with 1 Axes>",
      "image/png": "[encoded data removed]"
     },
     "metadata": {},
     "output_type": "display_data"
    }
   ],
   "source": [
    "# plot the distribution\n",
    "plt.plot(Dp, N)"
   ],
   "metadata": {
    "collapsed": false,
    "ExecuteTime": {
     "end_time": "2024-03-04T23:53:22.645385Z",
     "start_time": "2024-03-04T23:53:22.532678Z"
    }
   },
   "id": "8a8b99a6063a8584",
   "execution_count": 84
  },
  {
   "cell_type": "code",
   "outputs": [
    {
     "name": "stderr",
     "output_type": "stream",
     "text": [
      "ic| number_par_in_bins_all[0, :]: array([5.75882382e-05, 5.75882382e-05, 5.75882382e-05, 5.75882382e-05,\n",
      "                                         5.75882382e-05, 5.75882382e-05, 5.75882382e-05, 5.75882382e-05,\n",
      "                                         5.75882382e-05, 5.75882382e-05, 5.75882382e-05, 5.75882382e-05,\n",
      "                                         5.75882382e-05, 5.75882382e-05, 5.75882382e-05, 5.75882382e-05,\n",
      "                                         5.75882382e-05, 5.75882382e-05, 5.75882382e-05, 5.75882382e-05,\n",
      "                                         5.75882382e-05, 5.75882382e-05, 5.75882382e-05, 5.75882382e-05,\n",
      "                                         5.75882382e-05, 5.75882382e-05, 5.75882382e-05, 5.75882382e-05,\n",
      "                                         5.75882382e-05, 5.75882382e-05, 5.75882382e-05, 5.75882382e-05,\n",
      "                                         5.75882382e-05, 5.75882382e-05, 5.75882382e-05, 5.75882382e-05,\n",
      "                                         5.75882382e-05, 5.75882382e-05, 5.75882382e-05, 5.75882382e-05])\n",
      "ic| mass_per_particle_final_in_bins: array([ 6.95857655e-11,  5.17264338e-11,  2.33810083e-11, -2.16059696e-11,\n",
      "                                            -9.30011244e-11, -2.06297566e-10, -3.86064577e-10, -6.71245111e-10,\n",
      "                                            -1.12351707e-09, -1.84045044e-09, -2.97611634e-09, -4.77314838e-09,\n",
      "                                            -7.61211621e-09, -1.20864370e-08, -1.91136130e-08, -3.00953991e-08,\n",
      "                                            -4.71385693e-08, -7.33410883e-08, -1.13132426e-07, -1.72631775e-07,\n",
      "                                            -2.59964008e-07, -3.85473141e-07, -5.61822010e-07, -8.04063532e-07,\n",
      "                                            -1.12986371e-06, -1.56007815e-06, -2.11980935e-06, -2.83995986e-06,\n",
      "                                            -3.75923325e-06, -4.92655529e-06, -6.40396407e-06, -8.27010270e-06,\n",
      "                                            -1.06245182e-05, -1.35930251e-05, -1.73344464e-05, -2.20491110e-05,\n",
      "                                            -2.79895729e-05, -3.54741306e-05, -4.49038742e-05, -5.67841724e-05])\n",
      "ic| number_par_in_bins_all[time_step, :]: array([-5.41387970e+09,  3.40137021e+09,  1.55759912e+09,  6.65130158e+08,\n",
      "                                                  2.42287139e+08,  4.94521861e+07, -3.22041213e+07, -6.13135573e+07,\n",
      "                                                 -6.65678510e+07, -6.18160856e+07, -5.35877523e+07, -4.48335338e+07,\n",
      "                                                 -3.67789996e+07, -2.98380451e+07, -2.40588571e+07, -1.93383060e+07,\n",
      "                                                 -1.55223763e+07, -1.24512449e+07, -9.97822616e+06, -7.97708590e+06,\n",
      "                                                 -6.34463975e+06, -5.00133776e+06, -3.89012372e+06, -2.97295203e+06,\n",
      "                                                 -2.22496040e+06, -1.62772744e+06, -1.16384892e+06, -8.14350577e+05,\n",
      "                                                 -5.58840317e+05, -3.77131126e+05, -2.50971307e+05, -1.65120016e+05,\n",
      "                                                 -1.07645561e+05, -6.96677976e+04, -4.48306185e+04, -2.87182303e+04,\n",
      "                                                 -1.83317028e+04, -1.16692110e+04, -7.41196131e+03, -1.27845638e+04])\n",
      "ic| mass_per_particle_final_in_bins: array([-3.04142345e-11, -4.82735662e-11, -7.66189917e-11, -1.21605970e-10,\n",
      "                                            -1.93001124e-10, -3.06297566e-10, -4.86064577e-10, -7.71245111e-10,\n",
      "                                            -1.22351707e-09, -1.94045044e-09, -3.07611634e-09, -4.87314838e-09,\n",
      "                                            -7.71211621e-09, -1.21864370e-08, -1.92136130e-08, -3.01953991e-08,\n",
      "                                            -4.72385693e-08, -7.34410883e-08, -1.13232426e-07, -1.72731775e-07,\n",
      "                                            -2.60064008e-07, -3.85573141e-07, -5.61922010e-07, -8.04163532e-07,\n",
      "                                            -1.12996371e-06, -1.56017815e-06, -2.11990935e-06, -2.84005986e-06,\n",
      "                                            -3.75933325e-06, -4.92665529e-06, -6.40406407e-06, -8.27020270e-06,\n",
      "                                            -1.06246182e-05, -1.35931251e-05, -1.73345464e-05, -2.20492110e-05,\n",
      "                                            -2.79896729e-05, -3.54742306e-05, -4.49039742e-05, -5.67842724e-05])\n",
      "ic| number_par_in_bins_all[time_step, :]: array([-2.22453832e+23,  3.33385335e+23, -7.06114638e+22, -2.66544748e+22,\n",
      "                                                 -9.71468765e+21, -3.31089177e+21, -9.70721759e+20, -1.68910365e+20,\n",
      "                                                  6.92928014e+19,  1.13402908e+20,  9.91333696e+19,  7.34487274e+19,\n",
      "                                                  5.06406961e+19,  3.36414345e+19,  2.18880032e+19,  1.40688464e+19,\n",
      "                                                  8.97758916e+18,  5.70305859e+18,  3.61102042e+18,  2.27808384e+18,\n",
      "                                                  1.42856425e+18,  8.86166398e+17,  5.39817167e+17,  3.20095683e+17,\n",
      "                                                  1.83199856e+17,  1.00559266e+17,  5.27760537e+16,  2.64920877e+16,\n",
      "                                                  1.27582193e+16,  5.92273332e+15,  2.66488264e+15,  1.16843254e+15,\n",
      "                                                  5.01685966e+14,  2.11834384e+14,  8.82703873e+13,  3.64010185e+13,\n",
      "                                                  1.48890275e+13,  6.05118553e+12,  2.44701487e+12,  1.64545584e+12])\n",
      "ic| mass_per_particle_final_in_bins: array([-3.04142345e-11, -4.82735662e-11, -7.66189917e-11, -1.21605970e-10,\n",
      "                                            -1.93001124e-10, -3.06297566e-10, -4.86064577e-10, -7.71245111e-10,\n",
      "                                            -1.22351707e-09, -1.94045044e-09, -3.07611634e-09, -4.87314838e-09,\n",
      "                                            -7.71211621e-09, -1.21864370e-08, -1.92136130e-08, -3.01953991e-08,\n",
      "                                            -4.72385693e-08, -7.34410883e-08, -1.13232426e-07, -1.72731775e-07,\n",
      "                                            -2.60064008e-07, -3.85573141e-07, -5.61922010e-07, -8.04163532e-07,\n",
      "                                            -1.12996371e-06, -1.56017815e-06, -2.11990935e-06, -2.84005986e-06,\n",
      "                                            -3.75933325e-06, -4.92665529e-06, -6.40406407e-06, -8.27020270e-06,\n",
      "                                            -1.06246182e-05, -1.35931251e-05, -1.73345464e-05, -2.20492110e-05,\n",
      "                                            -2.79896729e-05, -3.54742306e-05, -4.49039742e-05, -5.67842724e-05])\n",
      "ic| number_par_in_bins_all[time_step, :]: array([-9.14052586e+36,  2.00134782e+37, -1.27008019e+37,  1.28021481e+36,\n",
      "                                                  3.89221414e+35,  1.15565556e+35,  3.28785041e+34,  8.59287954e+33,\n",
      "                                                  1.82443128e+33,  1.33483550e+32, -1.78506785e+32, -1.66433687e+32,\n",
      "                                                 -1.07459617e+32, -6.13079010e+31, -3.29940335e+31, -1.71974131e+31,\n",
      "                                                 -8.79136546e+30, -4.43561251e+30, -2.21534105e+30, -1.09616496e+30,\n",
      "                                                 -5.36806812e+29, -2.59321960e+29, -1.22791586e+29, -5.64343549e+28,\n",
      "                                                 -2.48723495e+28, -1.03902447e+28, -4.07994496e+27, -1.50088676e+27,\n",
      "                                                 -5.18070089e+26, -1.68678232e+26, -5.21850775e+25, -1.54642922e+25,\n",
      "                                                 -4.42343965e+24, -1.22976733e+24, -3.34234129e+23, -8.92319483e+22,\n",
      "                                                 -2.34908154e+22, -6.11649642e+21, -1.57895398e+21, -5.43237444e+20])\n",
      "ic| mass_per_particle_final_in_bins: array([-3.04142345e-11, -4.82735662e-11, -7.66189917e-11, -1.21605970e-10,\n",
      "                                            -1.93001124e-10, -3.06297566e-10, -4.86064577e-10, -7.71245111e-10,\n",
      "                                            -1.22351707e-09, -1.94045044e-09, -3.07611634e-09, -4.87314838e-09,\n",
      "                                            -7.71211621e-09, -1.21864370e-08, -1.92136130e-08, -3.01953991e-08,\n",
      "                                            -4.72385693e-08, -7.34410883e-08, -1.13232426e-07, -1.72731775e-07,\n",
      "                                            -2.60064008e-07, -3.85573141e-07, -5.61922010e-07, -8.04163532e-07,\n",
      "                                            -1.12996371e-06, -1.56017815e-06, -2.11990935e-06, -2.84005986e-06,\n",
      "                                            -3.75933325e-06, -4.92665529e-06, -6.40406407e-06, -8.27020270e-06,\n",
      "                                            -1.06246182e-05, -1.35931251e-05, -1.73345464e-05, -2.20492110e-05,\n",
      "                                            -2.79896729e-05, -3.54742306e-05, -4.49039742e-05, -5.67842724e-05])\n",
      "ic| number_par_in_bins_all[time_step, :]: array([-3.75580012e+50,  1.02829497e+51, -9.81488143e+50,  3.55076095e+50,\n",
      "                                                 -1.99560351e+49, -4.85128338e+48, -1.15792631e+48, -2.67639299e+47,\n",
      "                                                 -5.82290795e+46, -1.11103585e+46, -1.40999285e+45,  1.89639754e+44,\n",
      "                                                  2.62083593e+44,  1.50392988e+44,  7.10748830e+43,  3.09272030e+43,\n",
      "                                                  1.28770605e+43,  5.21577445e+42,  2.07011829e+42,  8.07051005e+41,\n",
      "                                                  3.08913583e+41,  1.15802834e+41,  4.23215594e+40,  1.49656893e+40,\n",
      "                                                  5.06338288e+39,  1.61636737e+39,  4.80395192e+38,  1.31735094e+38,\n",
      "                                                  3.32412843e+37,  7.74393703e+36,  1.67815884e+36,  3.41602238e+35,\n",
      "                                                  6.59885974e+34,  1.22140101e+34,  2.18453983e+33,  3.80237828e+32,\n",
      "                                                  6.47819923e+31,  1.08533010e+31,  1.79456852e+30,  3.50527877e+29])\n",
      "ic| mass_per_particle_final_in_bins: array([-3.04142345e-11, -4.82735662e-11, -7.66189917e-11, -1.21605970e-10,\n",
      "                                            -1.93001124e-10, -3.06297566e-10, -4.86064577e-10, -7.71245111e-10,\n",
      "                                            -1.22351707e-09, -1.94045044e-09, -3.07611634e-09, -4.87314838e-09,\n",
      "                                            -7.71211621e-09, -1.21864370e-08, -1.92136130e-08, -3.01953991e-08,\n",
      "                                            -4.72385693e-08, -7.34410883e-08, -1.13232426e-07, -1.72731775e-07,\n",
      "                                            -2.60064008e-07, -3.85573141e-07, -5.61922010e-07, -8.04163532e-07,\n",
      "                                            -1.12996371e-06, -1.56017815e-06, -2.11990935e-06, -2.84005986e-06,\n",
      "                                            -3.75933325e-06, -4.92665529e-06, -6.40406407e-06, -8.27020270e-06,\n",
      "                                            -1.06246182e-05, -1.35931251e-05, -1.73345464e-05, -2.20492110e-05,\n",
      "                                            -2.79896729e-05, -3.54742306e-05, -4.49039742e-05, -5.67842724e-05])\n",
      "ic| number_par_in_bins_all[time_step, :]: array([-1.54324103e+64,  4.89689849e+64, -5.89433943e+64,  "
     ]
    },
    {
     "ename": "KeyboardInterrupt",
     "evalue": "",
     "output_type": "error",
     "traceback": [
      "\u001B[1;31m---------------------------------------------------------------------------\u001B[0m",
      "\u001B[1;31mKeyboardInterrupt\u001B[0m                         Traceback (most recent call last)",
      "Cell \u001B[1;32mIn[85], line 1\u001B[0m\n\u001B[1;32m----> 1\u001B[0m result \u001B[38;5;241m=\u001B[39m \u001B[43msimulation_general_dynamic_equation\u001B[49m\u001B[43m(\u001B[49m\n\u001B[0;32m      2\u001B[0m \u001B[43m            \u001B[49m\u001B[43mbins_lower_sim_gde\u001B[49m\u001B[43m \u001B[49m\u001B[38;5;241;43m=\u001B[39;49m\u001B[43m \u001B[49m\u001B[43mbins_generator_dp_lower\u001B[49m\u001B[43m(\u001B[49m\u001B[43mbins_number\u001B[49m\u001B[38;5;241;43m=\u001B[39;49m\u001B[43mbin_number\u001B[49m\u001B[43m,\u001B[49m\u001B[43m \u001B[49m\u001B[43md_p_min\u001B[49m\u001B[38;5;241;43m=\u001B[39;49m\u001B[43mdp_min\u001B[49m\u001B[43m,\u001B[49m\u001B[43m \u001B[49m\u001B[43md_p_max\u001B[49m\u001B[38;5;241;43m=\u001B[39;49m\u001B[43mdp_max\u001B[49m\u001B[43m)\u001B[49m\u001B[43m,\u001B[49m\n\u001B[0;32m      3\u001B[0m \u001B[43m            \u001B[49m\u001B[43mbins_geom_mean_sim_gde\u001B[49m\u001B[43m \u001B[49m\u001B[38;5;241;43m=\u001B[39;49m\u001B[43m \u001B[49m\u001B[43mbins_generator_dp_g_mean\u001B[49m\u001B[43m(\u001B[49m\u001B[43mbins_number\u001B[49m\u001B[38;5;241;43m=\u001B[39;49m\u001B[43mbin_number\u001B[49m\u001B[43m,\u001B[49m\u001B[43m \u001B[49m\u001B[43md_p_min\u001B[49m\u001B[38;5;241;43m=\u001B[39;49m\u001B[43mdp_min\u001B[49m\u001B[43m,\u001B[49m\u001B[43m \u001B[49m\u001B[43md_p_max\u001B[49m\u001B[38;5;241;43m=\u001B[39;49m\u001B[43mdp_max\u001B[49m\u001B[43m)\u001B[49m\u001B[43m,\u001B[49m\n\u001B[0;32m      4\u001B[0m \u001B[43m            \u001B[49m\u001B[43minitial_mass_in_bins\u001B[49m\u001B[38;5;241;43m=\u001B[39;49m\u001B[43mnp\u001B[49m\u001B[38;5;241;43m.\u001B[39;49m\u001B[43mones\u001B[49m\u001B[43m(\u001B[49m\u001B[43mbin_number\u001B[49m\u001B[43m)\u001B[49m\u001B[38;5;241;43m*\u001B[39;49m\u001B[38;5;241;43m1e-10\u001B[39;49m\u001B[43m,\u001B[49m\u001B[43m \u001B[49m\u001B[38;5;66;43;03m# in kg\u001B[39;49;00m\n\u001B[0;32m      5\u001B[0m \u001B[43m            \u001B[49m\u001B[43mtime_step_size\u001B[49m\u001B[38;5;241;43m=\u001B[39;49m\u001B[38;5;241;43m1\u001B[39;49m\u001B[43m,\u001B[49m\u001B[43m \u001B[49m\u001B[38;5;66;43;03m# in seconds\u001B[39;49;00m\n\u001B[0;32m      6\u001B[0m \u001B[43m            \u001B[49m\u001B[43mtime_end\u001B[49m\u001B[38;5;241;43m=\u001B[39;49m\u001B[38;5;241;43m3600\u001B[39;49m\u001B[43m,\u001B[49m\u001B[43m \u001B[49m\u001B[38;5;66;43;03m# in seconds\u001B[39;49;00m\n\u001B[0;32m      7\u001B[0m \u001B[43m            \u001B[49m\u001B[43mc_inf\u001B[49m\u001B[38;5;241;43m=\u001B[39;49m\u001B[38;5;241;43m1E6\u001B[39;49m\u001B[43m,\u001B[49m\u001B[43m \u001B[49m\u001B[38;5;66;43;03m# in molec/m^3\u001B[39;49;00m\n\u001B[0;32m      8\u001B[0m \u001B[43m            \u001B[49m\u001B[43mc_sat\u001B[49m\u001B[38;5;241;43m=\u001B[39;49m\u001B[38;5;241;43m1E9\u001B[39;49m\u001B[43m,\u001B[49m\u001B[43m \u001B[49m\u001B[38;5;66;43;03m# in molec/m^3\u001B[39;49;00m\n\u001B[0;32m      9\u001B[0m \u001B[43m            \u001B[49m\u001B[43mdiff_coefficient\u001B[49m\u001B[38;5;241;43m=\u001B[39;49m\u001B[38;5;241;43m1E-9\u001B[39;49m\u001B[43m,\u001B[49m\u001B[43m \u001B[49m\u001B[38;5;66;43;03m# in m^2/s\u001B[39;49;00m\n\u001B[0;32m     10\u001B[0m \u001B[43m            \u001B[49m\u001B[43mrho_p\u001B[49m\u001B[38;5;241;43m=\u001B[39;49m\u001B[38;5;241;43m1E3\u001B[39;49m\u001B[43m,\u001B[49m\u001B[43m \u001B[49m\u001B[38;5;66;43;03m# in kg/m^3\u001B[39;49;00m\n\u001B[0;32m     11\u001B[0m \u001B[43m            \u001B[49m\u001B[43mtemperature_sim_gde\u001B[49m\u001B[43m \u001B[49m\u001B[38;5;241;43m=\u001B[39;49m\u001B[38;5;241;43m273.15\u001B[39;49m\u001B[43m \u001B[49m\u001B[38;5;241;43m+\u001B[39;49m\u001B[43m \u001B[49m\u001B[38;5;241;43m25\u001B[39;49m\u001B[43m,\u001B[49m\u001B[43m \u001B[49m\n\u001B[0;32m     12\u001B[0m \u001B[43m            \u001B[49m\u001B[43mpressure_sim_gde\u001B[49m\u001B[38;5;241;43m=\u001B[39;49m\u001B[38;5;241;43m101325\u001B[39;49m\u001B[43m,\u001B[49m\u001B[43m \u001B[49m\n\u001B[0;32m     13\u001B[0m \u001B[43m            \u001B[49m\u001B[43mcoagulation\u001B[49m\u001B[38;5;241;43m=\u001B[39;49m\u001B[38;5;28;43;01mFalse\u001B[39;49;00m\u001B[43m,\u001B[49m\n\u001B[0;32m     14\u001B[0m \u001B[43m            \u001B[49m\u001B[43mcondensation\u001B[49m\u001B[38;5;241;43m=\u001B[39;49m\u001B[38;5;28;43;01mTrue\u001B[39;49;00m\n\u001B[0;32m     15\u001B[0m \u001B[43m            \u001B[49m\u001B[43m)\u001B[49m\n\u001B[0;32m     17\u001B[0m \u001B[38;5;28mprint\u001B[39m(result)\n",
      "Cell \u001B[1;32mIn[79], line 80\u001B[0m, in \u001B[0;36msimulation_general_dynamic_equation\u001B[1;34m(bins_lower_sim_gde, bins_geom_mean_sim_gde, initial_mass_in_bins, time_step_size, time_end, c_inf, c_sat, diff_coefficient, rho_p, temperature_sim_gde, pressure_sim_gde, coagulation, condensation)\u001B[0m\n\u001B[0;32m     78\u001B[0m     number_particle_in_bins_temp[\u001B[38;5;241m-\u001B[39m\u001B[38;5;241m1\u001B[39m] \u001B[38;5;241m=\u001B[39m number_particle_in_bins_temp[\u001B[38;5;241m-\u001B[39m\u001B[38;5;241m1\u001B[39m] \u001B[38;5;241m+\u001B[39m number_par_in_bins_all[time_step \u001B[38;5;241m-\u001B[39m\u001B[38;5;241m1\u001B[39m,\u001B[38;5;241m-\u001B[39m\u001B[38;5;241m1\u001B[39m]\n\u001B[0;32m     79\u001B[0m     number_par_in_bins_all[time_step, :] \u001B[38;5;241m=\u001B[39m number_particle_in_bins_temp\n\u001B[1;32m---> 80\u001B[0m     \u001B[43mic\u001B[49m\u001B[43m(\u001B[49m\u001B[43mnumber_par_in_bins_all\u001B[49m\u001B[43m[\u001B[49m\u001B[43mtime_step\u001B[49m\u001B[43m,\u001B[49m\u001B[43m \u001B[49m\u001B[43m:\u001B[49m\u001B[43m]\u001B[49m\u001B[43m)\u001B[49m\n\u001B[0;32m     82\u001B[0m \u001B[38;5;66;03m# Coagulation\u001B[39;00m\n\u001B[0;32m     83\u001B[0m \u001B[38;5;28;01mif\u001B[39;00m coagulation:\n",
      "File \u001B[1;32m~\\anaconda3\\Lib\\site-packages\\icecream\\icecream.py:212\u001B[0m, in \u001B[0;36mIceCreamDebugger.__call__\u001B[1;34m(self, *args)\u001B[0m\n\u001B[0;32m    210\u001B[0m         prefix \u001B[38;5;241m=\u001B[39m callOrValue(\u001B[38;5;28mself\u001B[39m\u001B[38;5;241m.\u001B[39mprefix)\n\u001B[0;32m    211\u001B[0m         out \u001B[38;5;241m=\u001B[39m prefix \u001B[38;5;241m+\u001B[39m \u001B[38;5;124m'\u001B[39m\u001B[38;5;124mError: \u001B[39m\u001B[38;5;124m'\u001B[39m \u001B[38;5;241m+\u001B[39m err\u001B[38;5;241m.\u001B[39minfoMessage\n\u001B[1;32m--> 212\u001B[0m     \u001B[38;5;28;43mself\u001B[39;49m\u001B[38;5;241;43m.\u001B[39;49m\u001B[43moutputFunction\u001B[49m\u001B[43m(\u001B[49m\u001B[43mout\u001B[49m\u001B[43m)\u001B[49m\n\u001B[0;32m    214\u001B[0m \u001B[38;5;28;01mif\u001B[39;00m \u001B[38;5;129;01mnot\u001B[39;00m args:  \u001B[38;5;66;03m# E.g. ic().\u001B[39;00m\n\u001B[0;32m    215\u001B[0m     passthrough \u001B[38;5;241m=\u001B[39m \u001B[38;5;28;01mNone\u001B[39;00m\n",
      "File \u001B[1;32m~\\anaconda3\\Lib\\site-packages\\icecream\\icecream.py:83\u001B[0m, in \u001B[0;36mcolorizedStderrPrint\u001B[1;34m(s)\u001B[0m\n\u001B[0;32m     81\u001B[0m colored \u001B[38;5;241m=\u001B[39m colorize(s)\n\u001B[0;32m     82\u001B[0m \u001B[38;5;28;01mwith\u001B[39;00m supportTerminalColorsInWindows():\n\u001B[1;32m---> 83\u001B[0m     \u001B[43mstderrPrint\u001B[49m\u001B[43m(\u001B[49m\u001B[43mcolored\u001B[49m\u001B[43m)\u001B[49m\n",
      "File \u001B[1;32m~\\anaconda3\\Lib\\site-packages\\icecream\\icecream.py:69\u001B[0m, in \u001B[0;36mstderrPrint\u001B[1;34m(*args)\u001B[0m\n\u001B[0;32m     68\u001B[0m \u001B[38;5;28;01mdef\u001B[39;00m \u001B[38;5;21mstderrPrint\u001B[39m(\u001B[38;5;241m*\u001B[39margs):\n\u001B[1;32m---> 69\u001B[0m     \u001B[38;5;28;43mprint\u001B[39;49m\u001B[43m(\u001B[49m\u001B[38;5;241;43m*\u001B[39;49m\u001B[43margs\u001B[49m\u001B[43m,\u001B[49m\u001B[43m \u001B[49m\u001B[43mfile\u001B[49m\u001B[38;5;241;43m=\u001B[39;49m\u001B[43msys\u001B[49m\u001B[38;5;241;43m.\u001B[39;49m\u001B[43mstderr\u001B[49m\u001B[43m)\u001B[49m\n",
      "File \u001B[1;32m~\\AppData\\Roaming\\Python\\Python311\\site-packages\\colorama\\ansitowin32.py:47\u001B[0m, in \u001B[0;36mStreamWrapper.write\u001B[1;34m(self, text)\u001B[0m\n\u001B[0;32m     46\u001B[0m \u001B[38;5;28;01mdef\u001B[39;00m \u001B[38;5;21mwrite\u001B[39m(\u001B[38;5;28mself\u001B[39m, text):\n\u001B[1;32m---> 47\u001B[0m     \u001B[38;5;28;43mself\u001B[39;49m\u001B[38;5;241;43m.\u001B[39;49m\u001B[43m__convertor\u001B[49m\u001B[38;5;241;43m.\u001B[39;49m\u001B[43mwrite\u001B[49m\u001B[43m(\u001B[49m\u001B[43mtext\u001B[49m\u001B[43m)\u001B[49m\n",
      "File \u001B[1;32m~\\AppData\\Roaming\\Python\\Python311\\site-packages\\colorama\\ansitowin32.py:177\u001B[0m, in \u001B[0;36mAnsiToWin32.write\u001B[1;34m(self, text)\u001B[0m\n\u001B[0;32m    175\u001B[0m \u001B[38;5;28;01mdef\u001B[39;00m \u001B[38;5;21mwrite\u001B[39m(\u001B[38;5;28mself\u001B[39m, text):\n\u001B[0;32m    176\u001B[0m     \u001B[38;5;28;01mif\u001B[39;00m \u001B[38;5;28mself\u001B[39m\u001B[38;5;241m.\u001B[39mstrip \u001B[38;5;129;01mor\u001B[39;00m \u001B[38;5;28mself\u001B[39m\u001B[38;5;241m.\u001B[39mconvert:\n\u001B[1;32m--> 177\u001B[0m         \u001B[38;5;28;43mself\u001B[39;49m\u001B[38;5;241;43m.\u001B[39;49m\u001B[43mwrite_and_convert\u001B[49m\u001B[43m(\u001B[49m\u001B[43mtext\u001B[49m\u001B[43m)\u001B[49m\n\u001B[0;32m    178\u001B[0m     \u001B[38;5;28;01melse\u001B[39;00m:\n\u001B[0;32m    179\u001B[0m         \u001B[38;5;28mself\u001B[39m\u001B[38;5;241m.\u001B[39mwrapped\u001B[38;5;241m.\u001B[39mwrite(text)\n",
      "File \u001B[1;32m~\\AppData\\Roaming\\Python\\Python311\\site-packages\\colorama\\ansitowin32.py:202\u001B[0m, in \u001B[0;36mAnsiToWin32.write_and_convert\u001B[1;34m(self, text)\u001B[0m\n\u001B[0;32m    200\u001B[0m \u001B[38;5;28;01mfor\u001B[39;00m match \u001B[38;5;129;01min\u001B[39;00m \u001B[38;5;28mself\u001B[39m\u001B[38;5;241m.\u001B[39mANSI_CSI_RE\u001B[38;5;241m.\u001B[39mfinditer(text):\n\u001B[0;32m    201\u001B[0m     start, end \u001B[38;5;241m=\u001B[39m match\u001B[38;5;241m.\u001B[39mspan()\n\u001B[1;32m--> 202\u001B[0m     \u001B[38;5;28;43mself\u001B[39;49m\u001B[38;5;241;43m.\u001B[39;49m\u001B[43mwrite_plain_text\u001B[49m\u001B[43m(\u001B[49m\u001B[43mtext\u001B[49m\u001B[43m,\u001B[49m\u001B[43m \u001B[49m\u001B[43mcursor\u001B[49m\u001B[43m,\u001B[49m\u001B[43m \u001B[49m\u001B[43mstart\u001B[49m\u001B[43m)\u001B[49m\n\u001B[0;32m    203\u001B[0m     \u001B[38;5;28mself\u001B[39m\u001B[38;5;241m.\u001B[39mconvert_ansi(\u001B[38;5;241m*\u001B[39mmatch\u001B[38;5;241m.\u001B[39mgroups())\n\u001B[0;32m    204\u001B[0m     cursor \u001B[38;5;241m=\u001B[39m end\n",
      "File \u001B[1;32m~\\AppData\\Roaming\\Python\\Python311\\site-packages\\colorama\\ansitowin32.py:210\u001B[0m, in \u001B[0;36mAnsiToWin32.write_plain_text\u001B[1;34m(self, text, start, end)\u001B[0m\n\u001B[0;32m    208\u001B[0m \u001B[38;5;28;01mdef\u001B[39;00m \u001B[38;5;21mwrite_plain_text\u001B[39m(\u001B[38;5;28mself\u001B[39m, text, start, end):\n\u001B[0;32m    209\u001B[0m     \u001B[38;5;28;01mif\u001B[39;00m start \u001B[38;5;241m<\u001B[39m end:\n\u001B[1;32m--> 210\u001B[0m         \u001B[38;5;28;43mself\u001B[39;49m\u001B[38;5;241;43m.\u001B[39;49m\u001B[43mwrapped\u001B[49m\u001B[38;5;241;43m.\u001B[39;49m\u001B[43mwrite\u001B[49m\u001B[43m(\u001B[49m\u001B[43mtext\u001B[49m\u001B[43m[\u001B[49m\u001B[43mstart\u001B[49m\u001B[43m:\u001B[49m\u001B[43mend\u001B[49m\u001B[43m]\u001B[49m\u001B[43m)\u001B[49m\n\u001B[0;32m    211\u001B[0m         \u001B[38;5;28mself\u001B[39m\u001B[38;5;241m.\u001B[39mwrapped\u001B[38;5;241m.\u001B[39mflush()\n",
      "File \u001B[1;32m~\\AppData\\Roaming\\Python\\Python311\\site-packages\\colorama\\ansitowin32.py:47\u001B[0m, in \u001B[0;36mStreamWrapper.write\u001B[1;34m(self, text)\u001B[0m\n\u001B[0;32m     46\u001B[0m \u001B[38;5;28;01mdef\u001B[39;00m \u001B[38;5;21mwrite\u001B[39m(\u001B[38;5;28mself\u001B[39m, text):\n\u001B[1;32m---> 47\u001B[0m     \u001B[38;5;28;43mself\u001B[39;49m\u001B[38;5;241;43m.\u001B[39;49m\u001B[43m__convertor\u001B[49m\u001B[38;5;241;43m.\u001B[39;49m\u001B[43mwrite\u001B[49m\u001B[43m(\u001B[49m\u001B[43mtext\u001B[49m\u001B[43m)\u001B[49m\n",
      "File \u001B[1;32m~\\AppData\\Roaming\\Python\\Python311\\site-packages\\colorama\\ansitowin32.py:177\u001B[0m, in \u001B[0;36mAnsiToWin32.write\u001B[1;34m(self, text)\u001B[0m\n\u001B[0;32m    175\u001B[0m \u001B[38;5;28;01mdef\u001B[39;00m \u001B[38;5;21mwrite\u001B[39m(\u001B[38;5;28mself\u001B[39m, text):\n\u001B[0;32m    176\u001B[0m     \u001B[38;5;28;01mif\u001B[39;00m \u001B[38;5;28mself\u001B[39m\u001B[38;5;241m.\u001B[39mstrip \u001B[38;5;129;01mor\u001B[39;00m \u001B[38;5;28mself\u001B[39m\u001B[38;5;241m.\u001B[39mconvert:\n\u001B[1;32m--> 177\u001B[0m         \u001B[38;5;28;43mself\u001B[39;49m\u001B[38;5;241;43m.\u001B[39;49m\u001B[43mwrite_and_convert\u001B[49m\u001B[43m(\u001B[49m\u001B[43mtext\u001B[49m\u001B[43m)\u001B[49m\n\u001B[0;32m    178\u001B[0m     \u001B[38;5;28;01melse\u001B[39;00m:\n\u001B[0;32m    179\u001B[0m         \u001B[38;5;28mself\u001B[39m\u001B[38;5;241m.\u001B[39mwrapped\u001B[38;5;241m.\u001B[39mwrite(text)\n",
      "File \u001B[1;32m~\\AppData\\Roaming\\Python\\Python311\\site-packages\\colorama\\ansitowin32.py:205\u001B[0m, in \u001B[0;36mAnsiToWin32.write_and_convert\u001B[1;34m(self, text)\u001B[0m\n\u001B[0;32m    203\u001B[0m     \u001B[38;5;28mself\u001B[39m\u001B[38;5;241m.\u001B[39mconvert_ansi(\u001B[38;5;241m*\u001B[39mmatch\u001B[38;5;241m.\u001B[39mgroups())\n\u001B[0;32m    204\u001B[0m     cursor \u001B[38;5;241m=\u001B[39m end\n\u001B[1;32m--> 205\u001B[0m \u001B[38;5;28;43mself\u001B[39;49m\u001B[38;5;241;43m.\u001B[39;49m\u001B[43mwrite_plain_text\u001B[49m\u001B[43m(\u001B[49m\u001B[43mtext\u001B[49m\u001B[43m,\u001B[49m\u001B[43m \u001B[49m\u001B[43mcursor\u001B[49m\u001B[43m,\u001B[49m\u001B[43m \u001B[49m\u001B[38;5;28;43mlen\u001B[39;49m\u001B[43m(\u001B[49m\u001B[43mtext\u001B[49m\u001B[43m)\u001B[49m\u001B[43m)\u001B[49m\n",
      "File \u001B[1;32m~\\AppData\\Roaming\\Python\\Python311\\site-packages\\colorama\\ansitowin32.py:210\u001B[0m, in \u001B[0;36mAnsiToWin32.write_plain_text\u001B[1;34m(self, text, start, end)\u001B[0m\n\u001B[0;32m    208\u001B[0m \u001B[38;5;28;01mdef\u001B[39;00m \u001B[38;5;21mwrite_plain_text\u001B[39m(\u001B[38;5;28mself\u001B[39m, text, start, end):\n\u001B[0;32m    209\u001B[0m     \u001B[38;5;28;01mif\u001B[39;00m start \u001B[38;5;241m<\u001B[39m end:\n\u001B[1;32m--> 210\u001B[0m         \u001B[38;5;28;43mself\u001B[39;49m\u001B[38;5;241;43m.\u001B[39;49m\u001B[43mwrapped\u001B[49m\u001B[38;5;241;43m.\u001B[39;49m\u001B[43mwrite\u001B[49m\u001B[43m(\u001B[49m\u001B[43mtext\u001B[49m\u001B[43m[\u001B[49m\u001B[43mstart\u001B[49m\u001B[43m:\u001B[49m\u001B[43mend\u001B[49m\u001B[43m]\u001B[49m\u001B[43m)\u001B[49m\n\u001B[0;32m    211\u001B[0m         \u001B[38;5;28mself\u001B[39m\u001B[38;5;241m.\u001B[39mwrapped\u001B[38;5;241m.\u001B[39mflush()\n",
      "File \u001B[1;32m~\\AppData\\Roaming\\Python\\Python311\\site-packages\\colorama\\ansitowin32.py:47\u001B[0m, in \u001B[0;36mStreamWrapper.write\u001B[1;34m(self, text)\u001B[0m\n\u001B[0;32m     46\u001B[0m \u001B[38;5;28;01mdef\u001B[39;00m \u001B[38;5;21mwrite\u001B[39m(\u001B[38;5;28mself\u001B[39m, text):\n\u001B[1;32m---> 47\u001B[0m     \u001B[38;5;28;43mself\u001B[39;49m\u001B[38;5;241;43m.\u001B[39;49m\u001B[43m__convertor\u001B[49m\u001B[38;5;241;43m.\u001B[39;49m\u001B[43mwrite\u001B[49m\u001B[43m(\u001B[49m\u001B[43mtext\u001B[49m\u001B[43m)\u001B[49m\n",
      "File \u001B[1;32m~\\AppData\\Roaming\\Python\\Python311\\site-packages\\colorama\\ansitowin32.py:177\u001B[0m, in \u001B[0;36mAnsiToWin32.write\u001B[1;34m(self, text)\u001B[0m\n\u001B[0;32m    175\u001B[0m \u001B[38;5;28;01mdef\u001B[39;00m \u001B[38;5;21mwrite\u001B[39m(\u001B[38;5;28mself\u001B[39m, text):\n\u001B[0;32m    176\u001B[0m     \u001B[38;5;28;01mif\u001B[39;00m \u001B[38;5;28mself\u001B[39m\u001B[38;5;241m.\u001B[39mstrip \u001B[38;5;129;01mor\u001B[39;00m \u001B[38;5;28mself\u001B[39m\u001B[38;5;241m.\u001B[39mconvert:\n\u001B[1;32m--> 177\u001B[0m         \u001B[38;5;28;43mself\u001B[39;49m\u001B[38;5;241;43m.\u001B[39;49m\u001B[43mwrite_and_convert\u001B[49m\u001B[43m(\u001B[49m\u001B[43mtext\u001B[49m\u001B[43m)\u001B[49m\n\u001B[0;32m    178\u001B[0m     \u001B[38;5;28;01melse\u001B[39;00m:\n\u001B[0;32m    179\u001B[0m         \u001B[38;5;28mself\u001B[39m\u001B[38;5;241m.\u001B[39mwrapped\u001B[38;5;241m.\u001B[39mwrite(text)\n",
      "File \u001B[1;32m~\\AppData\\Roaming\\Python\\Python311\\site-packages\\colorama\\ansitowin32.py:205\u001B[0m, in \u001B[0;36mAnsiToWin32.write_and_convert\u001B[1;34m(self, text)\u001B[0m\n\u001B[0;32m    203\u001B[0m     \u001B[38;5;28mself\u001B[39m\u001B[38;5;241m.\u001B[39mconvert_ansi(\u001B[38;5;241m*\u001B[39mmatch\u001B[38;5;241m.\u001B[39mgroups())\n\u001B[0;32m    204\u001B[0m     cursor \u001B[38;5;241m=\u001B[39m end\n\u001B[1;32m--> 205\u001B[0m \u001B[38;5;28;43mself\u001B[39;49m\u001B[38;5;241;43m.\u001B[39;49m\u001B[43mwrite_plain_text\u001B[49m\u001B[43m(\u001B[49m\u001B[43mtext\u001B[49m\u001B[43m,\u001B[49m\u001B[43m \u001B[49m\u001B[43mcursor\u001B[49m\u001B[43m,\u001B[49m\u001B[43m \u001B[49m\u001B[38;5;28;43mlen\u001B[39;49m\u001B[43m(\u001B[49m\u001B[43mtext\u001B[49m\u001B[43m)\u001B[49m\u001B[43m)\u001B[49m\n",
      "File \u001B[1;32m~\\AppData\\Roaming\\Python\\Python311\\site-packages\\colorama\\ansitowin32.py:211\u001B[0m, in \u001B[0;36mAnsiToWin32.write_plain_text\u001B[1;34m(self, text, start, end)\u001B[0m\n\u001B[0;32m    209\u001B[0m \u001B[38;5;28;01mif\u001B[39;00m start \u001B[38;5;241m<\u001B[39m end:\n\u001B[0;32m    210\u001B[0m     \u001B[38;5;28mself\u001B[39m\u001B[38;5;241m.\u001B[39mwrapped\u001B[38;5;241m.\u001B[39mwrite(text[start:end])\n\u001B[1;32m--> 211\u001B[0m     \u001B[38;5;28;43mself\u001B[39;49m\u001B[38;5;241;43m.\u001B[39;49m\u001B[43mwrapped\u001B[49m\u001B[38;5;241;43m.\u001B[39;49m\u001B[43mflush\u001B[49m\u001B[43m(\u001B[49m\u001B[43m)\u001B[49m\n",
      "File \u001B[1;32m~\\anaconda3\\Lib\\site-packages\\ipykernel\\iostream.py:559\u001B[0m, in \u001B[0;36mOutStream.flush\u001B[1;34m(self)\u001B[0m\n\u001B[0;32m    548\u001B[0m \u001B[38;5;250m\u001B[39m\u001B[38;5;124;03m\"\"\"trigger actual zmq send\u001B[39;00m\n\u001B[0;32m    549\u001B[0m \n\u001B[0;32m    550\u001B[0m \u001B[38;5;124;03msend will happen in the background thread\u001B[39;00m\n\u001B[0;32m    551\u001B[0m \u001B[38;5;124;03m\"\"\"\u001B[39;00m\n\u001B[0;32m    552\u001B[0m \u001B[38;5;28;01mif\u001B[39;00m (\n\u001B[0;32m    553\u001B[0m     \u001B[38;5;28mself\u001B[39m\u001B[38;5;241m.\u001B[39mpub_thread\n\u001B[0;32m    554\u001B[0m     \u001B[38;5;129;01mand\u001B[39;00m \u001B[38;5;28mself\u001B[39m\u001B[38;5;241m.\u001B[39mpub_thread\u001B[38;5;241m.\u001B[39mthread \u001B[38;5;129;01mis\u001B[39;00m \u001B[38;5;129;01mnot\u001B[39;00m \u001B[38;5;28;01mNone\u001B[39;00m\n\u001B[1;32m   (...)\u001B[0m\n\u001B[0;32m    557\u001B[0m ):\n\u001B[0;32m    558\u001B[0m     \u001B[38;5;66;03m# request flush on the background thread\u001B[39;00m\n\u001B[1;32m--> 559\u001B[0m     \u001B[38;5;28;43mself\u001B[39;49m\u001B[38;5;241;43m.\u001B[39;49m\u001B[43mpub_thread\u001B[49m\u001B[38;5;241;43m.\u001B[39;49m\u001B[43mschedule\u001B[49m\u001B[43m(\u001B[49m\u001B[38;5;28;43mself\u001B[39;49m\u001B[38;5;241;43m.\u001B[39;49m\u001B[43m_flush\u001B[49m\u001B[43m)\u001B[49m\n\u001B[0;32m    560\u001B[0m     \u001B[38;5;66;03m# wait for flush to actually get through, if we can.\u001B[39;00m\n\u001B[0;32m    561\u001B[0m     evt \u001B[38;5;241m=\u001B[39m threading\u001B[38;5;241m.\u001B[39mEvent()\n",
      "File \u001B[1;32m~\\anaconda3\\Lib\\site-packages\\ipykernel\\iostream.py:251\u001B[0m, in \u001B[0;36mIOPubThread.schedule\u001B[1;34m(self, f)\u001B[0m\n\u001B[0;32m    249\u001B[0m     \u001B[38;5;28mself\u001B[39m\u001B[38;5;241m.\u001B[39m_events\u001B[38;5;241m.\u001B[39mappend(f)\n\u001B[0;32m    250\u001B[0m     \u001B[38;5;66;03m# wake event thread (message content is ignored)\u001B[39;00m\n\u001B[1;32m--> 251\u001B[0m     \u001B[38;5;28;43mself\u001B[39;49m\u001B[38;5;241;43m.\u001B[39;49m\u001B[43m_event_pipe\u001B[49m\u001B[38;5;241;43m.\u001B[39;49m\u001B[43msend\u001B[49m\u001B[43m(\u001B[49m\u001B[38;5;124;43mb\u001B[39;49m\u001B[38;5;124;43m\"\u001B[39;49m\u001B[38;5;124;43m\"\u001B[39;49m\u001B[43m)\u001B[49m\n\u001B[0;32m    252\u001B[0m \u001B[38;5;28;01melse\u001B[39;00m:\n\u001B[0;32m    253\u001B[0m     f()\n",
      "File \u001B[1;32m~\\AppData\\Roaming\\Python\\Python311\\site-packages\\zmq\\sugar\\socket.py:688\u001B[0m, in \u001B[0;36mSocket.send\u001B[1;34m(self, data, flags, copy, track, routing_id, group)\u001B[0m\n\u001B[0;32m    681\u001B[0m         data \u001B[38;5;241m=\u001B[39m zmq\u001B[38;5;241m.\u001B[39mFrame(\n\u001B[0;32m    682\u001B[0m             data,\n\u001B[0;32m    683\u001B[0m             track\u001B[38;5;241m=\u001B[39mtrack,\n\u001B[0;32m    684\u001B[0m             copy\u001B[38;5;241m=\u001B[39mcopy \u001B[38;5;129;01mor\u001B[39;00m \u001B[38;5;28;01mNone\u001B[39;00m,\n\u001B[0;32m    685\u001B[0m             copy_threshold\u001B[38;5;241m=\u001B[39m\u001B[38;5;28mself\u001B[39m\u001B[38;5;241m.\u001B[39mcopy_threshold,\n\u001B[0;32m    686\u001B[0m         )\n\u001B[0;32m    687\u001B[0m     data\u001B[38;5;241m.\u001B[39mgroup \u001B[38;5;241m=\u001B[39m group\n\u001B[1;32m--> 688\u001B[0m \u001B[38;5;28;01mreturn\u001B[39;00m \u001B[38;5;28;43msuper\u001B[39;49m\u001B[43m(\u001B[49m\u001B[43m)\u001B[49m\u001B[38;5;241;43m.\u001B[39;49m\u001B[43msend\u001B[49m\u001B[43m(\u001B[49m\u001B[43mdata\u001B[49m\u001B[43m,\u001B[49m\u001B[43m \u001B[49m\u001B[43mflags\u001B[49m\u001B[38;5;241;43m=\u001B[39;49m\u001B[43mflags\u001B[49m\u001B[43m,\u001B[49m\u001B[43m \u001B[49m\u001B[43mcopy\u001B[49m\u001B[38;5;241;43m=\u001B[39;49m\u001B[43mcopy\u001B[49m\u001B[43m,\u001B[49m\u001B[43m \u001B[49m\u001B[43mtrack\u001B[49m\u001B[38;5;241;43m=\u001B[39;49m\u001B[43mtrack\u001B[49m\u001B[43m)\u001B[49m\n",
      "File \u001B[1;32mzmq\\backend\\cython\\socket.pyx:742\u001B[0m, in \u001B[0;36mzmq.backend.cython.socket.Socket.send\u001B[1;34m()\u001B[0m\n",
      "File \u001B[1;32mzmq\\backend\\cython\\socket.pyx:789\u001B[0m, in \u001B[0;36mzmq.backend.cython.socket.Socket.send\u001B[1;34m()\u001B[0m\n",
      "File \u001B[1;32mzmq\\backend\\cython\\socket.pyx:250\u001B[0m, in \u001B[0;36mzmq.backend.cython.socket._send_copy\u001B[1;34m()\u001B[0m\n",
      "File \u001B[1;32m~\\AppData\\Roaming\\Python\\Python311\\site-packages\\zmq\\backend\\cython\\checkrc.pxd:13\u001B[0m, in \u001B[0;36mzmq.backend.cython.checkrc._check_rc\u001B[1;34m()\u001B[0m\n",
      "\u001B[1;31mKeyboardInterrupt\u001B[0m: "
     ]
    }
   ],
   "source": [
    "\n",
    "\n",
    "result = simulation_general_dynamic_equation(\n",
    "            bins_lower_sim_gde = bins_generator_dp_lower(bins_number=bin_number, d_p_min=dp_min, d_p_max=dp_max),\n",
    "            bins_geom_mean_sim_gde = bins_generator_dp_g_mean(bins_number=bin_number, d_p_min=dp_min, d_p_max=dp_max),\n",
    "            initial_mass_in_bins=np.ones(bin_number)*1e-10, # in kg\n",
    "            time_step_size=1, # in seconds\n",
    "            time_end=3600, # in seconds\n",
    "            c_inf=1E6, # in molec/m^3\n",
    "            c_sat=1E9, # in molec/m^3\n",
    "            diff_coefficient=1E-9, # in m^2/s\n",
    "            rho_p=1E3, # in kg/m^3\n",
    "            temperature_sim_gde =273.15 + 25, \n",
    "            pressure_sim_gde=101325, \n",
    "            coagulation=False,\n",
    "            condensation=True\n",
    "            )\n",
    "\n",
    "print(result)"
   ],
   "metadata": {
    "collapsed": false,
    "ExecuteTime": {
     "end_time": "2024-03-04T23:53:25.829869Z",
     "start_time": "2024-03-04T23:53:23.781677Z"
    }
   },
   "id": "572b3ce790e28d27",
   "execution_count": 85
  },
  {
   "cell_type": "code",
   "outputs": [],
   "source": [
    "result"
   ],
   "metadata": {
    "collapsed": false,
    "ExecuteTime": {
     "end_time": "2024-03-04T23:40:33.315341Z",
     "start_time": "2024-03-04T23:40:33.315341Z"
    }
   },
   "id": "fcaf68ae0e4aa3cc",
   "execution_count": null
  },
  {
   "cell_type": "code",
   "outputs": [],
   "source": [
    "\n",
    "\n",
    "bins_lower = bins_generator_dp_lower(bin_number, dp_min, dp_max)\n",
    "bins_upper = bins_generator_dp_upper(bin_number, dp_min, dp_max)\n",
    "bins_geom_mean_sim_gde = bins_generator_dp_g_mean(bin_number, dp_min, dp_max)"
   ],
   "metadata": {
    "collapsed": false
   },
   "id": "81761cd5e528e3b4",
   "execution_count": null
  }
 ],
 "metadata": {
  "kernelspec": {
   "display_name": "Python 3",
   "language": "python",
   "name": "python3"
  },
  "language_info": {
   "codemirror_mode": {
    "name": "ipython",
    "version": 2
   },
   "file_extension": ".py",
   "mimetype": "text/x-python",
   "name": "python",
   "nbconvert_exporter": "python",
   "pygments_lexer": "ipython2",
   "version": "2.7.6"
  }
 },
 "nbformat": 4,
 "nbformat_minor": 5
}
