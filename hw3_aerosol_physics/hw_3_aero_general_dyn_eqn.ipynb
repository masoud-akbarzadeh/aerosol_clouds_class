{
 "cells": [
  {
   "cell_type": "code",
   "execution_count": 5,
   "id": "initial_id",
   "metadata": {
    "collapsed": true,
    "ExecuteTime": {
     "end_time": "2024-03-04T19:39:53.127526Z",
     "start_time": "2024-03-04T19:39:53.123271Z"
    }
   },
   "outputs": [],
   "source": [
    "import aerosol_module as am # This is a module that I wrote for this class\n",
    "import numpy as np\n",
    "import pandas as pd\n",
    "from scipy import constants as const\n",
    "from pyfluids import Fluid, FluidsList, Input\n",
    "import matplotlib.pyplot as plt\n",
    "from icecream import ic"
   ]
  },
  {
   "cell_type": "code",
   "outputs": [],
   "source": [
    "# For testing the module functions\n",
    "if __name__ == '__main__': # This is to test the module functions\n",
    "    print(\"This is a module that contains the functions that are could be useful for my projects\")\n",
    "\n",
    "\n",
    "# importing libraries"
   ],
   "metadata": {
    "collapsed": false
   },
   "id": "e76c1ddc3cf84063"
  },
  {
   "cell_type": "code",
   "outputs": [],
   "source": [
    "import numpy as np\n",
    "from pyfluids import Fluid, FluidsList, Input\n",
    "from scipy import constants as const\n",
    "import pandas as pd\n",
    "\n",
    "\n",
    "# Global constants"
   ],
   "metadata": {
    "collapsed": false
   },
   "id": "968b8c28ca71e51d"
  },
  {
   "cell_type": "code",
   "outputs": [],
   "source": [
    "h = const.Planck  # J s Planck constant\n",
    "r_gas_c = const.R  # J/(mol K) molar gas constant \n",
    "k_Boltzmann = const.Boltzmann  # J/K Boltzmann constant\n",
    "g = const.g  # m/s^2 acceleration due to gravity\n",
    "n_avo = const.Avogadro  # 1/mol Avogadro's number\n",
    "\n",
    "\n",
    "# Default air standard properties"
   ],
   "metadata": {
    "collapsed": false
   },
   "id": "fe761e153dcbefb9"
  },
  {
   "cell_type": "code",
   "outputs": [],
   "source": [
    "pressure_std = 101325  # Pa\n",
    "temperature_std = 273.15 + 25  # K #??????? need to make sure this is the right temperature\n",
    "air_std = Fluid(FluidsList.Air).with_state(Input.pressure(pressure_std), Input.temperature(temperature_std - 273.15))\n",
    "\n",
    "\n",
    "# Functions"
   ],
   "metadata": {
    "collapsed": false
   },
   "id": "953677f748a3fee8"
  },
  {
   "cell_type": "code",
   "outputs": [],
   "source": [
    "\n",
    "\n",
    "def c_cunningham(d_p, lamda=65E-9):\n",
    "    # defining the function\n",
    "    # Cunningham correction factor\n",
    "    # Dp is the particle diameter in meters\n",
    "    # lamda is the mean free path of the gas in meters\n",
    "    # C is the Cunningham correction factor\n",
    "    kn = 2 * lamda / d_p\n",
    "    return 1 + kn * (1.257 + 0.4 * np.exp(-1.1 / kn))\n"
   ],
   "metadata": {
    "collapsed": false
   },
   "id": "ea17cb18336d4901"
  },
  {
   "cell_type": "code",
   "outputs": [],
   "source": [
    "\n",
    "\n",
    "def mean_free_path(temperature: float, pressure: float):\n",
    "    # mean free path of air calculator\n",
    "    # T is the temperature in Kelvin\n",
    "    # P is the pressure in Pascals\n",
    "    # lamda is the mean free path of the gas in meters\n",
    "    R = 8.314  # J/(mol K) gas constant\n",
    "    M = 0.0289647  # kg/mol molar mass of air\n",
    "    air = Fluid(FluidsList.Air).with_state(Input.pressure(pressure), Input.temperature(temperature - 273.15))\n",
    "    viscosity = air.dynamic_viscosity  # Pa s dynamic viscosity\n",
    "    return 2 * viscosity / (pressure * np.sqrt(8 * M / (np.pi * R * temperature)))\n"
   ],
   "metadata": {
    "collapsed": false
   },
   "id": "49b68a1a8212b15"
  },
  {
   "cell_type": "code",
   "outputs": [],
   "source": [
    "\n",
    "\n",
    "def reynolds_number(d_p: float, velocity: float, fluid_density=air_std.density, \n",
    "                    dynamic_viscosity=air_std.dynamic_viscosity):\n",
    "    # Reynolds number calculator\n",
    "    # Dp is the particle diameter in meters\n",
    "    # rho_f is the density of the fluid in kg/m^3\n",
    "    # g is the acceleration due to gravity in m/s^2\n",
    "    # C is the Cunningham correction factor\n",
    "    # Re is the Reynolds number\n",
    "    return (d_p * fluid_density * velocity) / dynamic_viscosity\n"
   ],
   "metadata": {
    "collapsed": false
   },
   "id": "f7a1513f22bf8287"
  },
  {
   "cell_type": "code",
   "outputs": [],
   "source": [
    "\n",
    "\n",
    "def settling_velocity(d_p, rho_p: float, temperature: float, pressure: float):\n",
    "    # Check if Dp_input is an array or a single value\n",
    "    if np.isscalar(d_p):\n",
    "        d_p_array = np.array([d_p])  # Convert to array for uniform processing\n",
    "    else:\n",
    "        d_p_array = d_p  # Use the array as is\n",
    "\n",
    "    velocities = []  # Empty list to store calculated velocities\n",
    "    for d_p in d_p_array:  # Process each Dp individually\n",
    "        g = 9.81  # m/s^2\n",
    "        l_mfp = mean_free_path(temperature, pressure)\n",
    "        c_cun = c_cunningham(d_p, l_mfp)\n",
    "        air = Fluid(FluidsList.Air).with_state(Input.pressure(pressure), Input.temperature(temperature - 273.15))\n",
    "        mu_f = air.dynamic_viscosity\n",
    "        rho_f = air.density\n",
    "        s_velocity = c_cun * (rho_p * g * d_p ** 2) / (18 * mu_f)  # Stokes settling velocity\n",
    "        Re = reynolds_number(d_p, s_velocity, fluid_density=rho_f, dynamic_viscosity=mu_f)\n",
    "        if Re < 1:\n",
    "            velocities.append(s_velocity)\n",
    "        else:\n",
    "            # Adjusted iterative approach for Re > 1, similar to before\n",
    "            m_p = np.pi * rho_p * d_p ** 3 / 6\n",
    "            for i in range(100):\n",
    "                # c_d = 24 / Re * (1 + 0.15 * Re**(0.687))  # Updated drag coefficient expression\n",
    "                c_d = 24 / Re * (1 + 3 / 16 * 0.43 * Re)\n",
    "                # s_velocity = np.sqrt((4 * m_p * g) / (3 * np.pi * c_d * rho_f * Dp**2))\n",
    "                s_velocity = np.sqrt((m_p * g) / (1 / 8 * np.pi * c_d * rho_f * d_p ** 2))\n",
    "                Re_new = reynolds_number(d_p, s_velocity, fluid_density=rho_f, dynamic_viscosity=mu_f)\n",
    "                if abs(Re_new - Re) < 0.01:\n",
    "                    break  # Exit the loop if the change in Reynolds number is small enough\n",
    "                else:\n",
    "                    Re = Re_new\n",
    "            velocities.append(s_velocity)\n",
    "\n",
    "    velocities_array = np.array(velocities)  # Convert list to array\n",
    "\n",
    "    if np.isscalar(d_p):\n",
    "        return velocities_array[0]  # Return a single value if input was scalar\n",
    "    else:\n",
    "        return velocities_array  # Return array if input was array\n"
   ],
   "metadata": {
    "collapsed": false
   },
   "id": "9725383f6e6b1870"
  },
  {
   "cell_type": "code",
   "outputs": [],
   "source": [
    "\n",
    "\n",
    "def cond_dia_growth_rate(d_p, c_inf, c_sat, diff_coefficient, rho_p=1E3):\n",
    "    # condensation diameter growth rate\n",
    "    # Dp is the particle diameter in meters\n",
    "    b_factor = beta_corr_cond(d_p)\n",
    "    d_dp_dt = b_factor * 4 * diff_coefficient * (c_inf - c_sat) / (rho_p * d_p)\n",
    "    return d_dp_dt\n",
    "    # # if np.isscalar(d_p):\n",
    "    # #     d_p_array = np.array([d_p])  # Convert to array for uniform processing\n",
    "    # # else:\n",
    "    # #     d_p_array = d_p  # Use the array as is\n",
    "    # # dia_growth_rate = []  # Empty list to store calculated velocities\n",
    "    #\n",
    "    # return dia_growth_rate\n"
   ],
   "metadata": {
    "collapsed": false
   },
   "id": "67c9d9a6681ec088"
  },
  {
   "cell_type": "code",
   "outputs": [],
   "source": [
    "\n",
    "\n",
    "def cond_mass_growth_rate(d_p, c_inf, c_sat, diff_coefficient_vapor, rho_p=1E3):\n",
    "    # condensation mass growth rate\n",
    "    # Dp is the particle diameter in meters\n",
    "    # c_inf is the concentration of the condensing vapor in the bulk gas in molec/m^3\n",
    "    # c_sat is the saturation concentration of the condensing vapor in molec/m^3\n",
    "    # diff_coefficient is the diffusion coefficient of the condensing vapor in m^2/s\n",
    "    # rho_p is the density of the particle in kg/m^3 (default is 1E3 kg/m^3)\n",
    "    # m_p is the mass of the particle in kg\n",
    "    # particle mass\n",
    "    # J is the same as condensation mass growth rate\n",
    "    j_coag_calculated = 2 * np.pi * diff_coefficient_vapor * d_p * (c_inf - c_sat) * beta_corr_cond(d_p)  # kg/s\n",
    "    return j_coag_calculated\n"
   ],
   "metadata": {
    "collapsed": false
   },
   "id": "713ee588d030e210"
  },
  {
   "cell_type": "code",
   "outputs": [],
   "source": [
    "\n",
    "\n",
    "def beta_corr_cond(d_p, lamda=65E-9):\n",
    "    # Dahneke correction factor\n",
    "    # Dp is the particle diameter in meters\n",
    "    # B is the Darkener correction factor\n",
    "    # kn is the Knudsen number\n",
    "    # lamda is the mean free path of the gas in meters\n",
    "    kn = 2 * lamda / d_p\n",
    "    b_factor = (1 + kn) / (1 + 2 * kn * (1 + kn))\n",
    "    return b_factor\n"
   ],
   "metadata": {
    "collapsed": false
   },
   "id": "ef46e142b3363b6c"
  },
  {
   "cell_type": "code",
   "outputs": [],
   "source": [
    "\n",
    "\n",
    "def unit_conversion(conversion, variable=1):\n",
    "    switcher = {\n",
    "        # length\n",
    "        'cm3_to_m3': variable * 1E-6,\n",
    "        'm3_to_cm3': variable * 1E6,\n",
    "        # time\n",
    "        'hr_to_s': variable * 3600,\n",
    "        's_to_hr': variable * 1 / 3600,\n",
    "        # volume\n",
    "        'm3_to_L': variable * 1000,\n",
    "        'L_to_m3': variable * 1 / 1000,\n",
    "        # mass\n",
    "        'kg_to_g': variable * 1000,\n",
    "        'g_to_kg': variable * 1 / 1000,\n",
    "        'kg_to_ug': variable * 1E9,\n",
    "        'ug_to_kg': variable * 1E-9,\n",
    "\n",
    "        # pressure\n",
    "        'Pa_to_kPa': variable * 1E-3,\n",
    "        'kPa_to_Pa': variable * 1E3,\n",
    "        'atm_to_Pa': variable * 101325,\n",
    "        'Pa_to_atm': variable * 1 / 101325,\n",
    "        # temperature\n",
    "        'C_to_K': variable + 273.15,\n",
    "        'K_to_C': variable - 273.15,\n",
    "\n",
    "    }\n",
    "    return switcher.get(conversion, 'Invalid conversion')\n"
   ],
   "metadata": {
    "collapsed": false
   },
   "id": "870716b154a20"
  },
  {
   "cell_type": "code",
   "outputs": [],
   "source": [
    "\n",
    "\n",
    "def dp_to_mp_distribution(d_p, rho_p=1E3):\n",
    "    # Dp is the particle diameter in meters\n",
    "    # rho_p is the density of the particle in kg/m^3\n",
    "    # m_p is the mass of the particle in kg\n",
    "    m_p = np.pi * rho_p * d_p ** 3 / 6\n",
    "    return m_p\n"
   ],
   "metadata": {
    "collapsed": false
   },
   "id": "216e6e2bed942e65"
  },
  {
   "cell_type": "code",
   "outputs": [],
   "source": [
    "\n",
    "\n",
    "def vol_sphere(d_p):\n",
    "    # Dp is the particle diameter in meters\n",
    "    # V is the volume of the sphere in m^3\n",
    "    return (4 / 3) * np.pi * (d_p / 2) ** 3\n"
   ],
   "metadata": {
    "collapsed": false
   },
   "id": "ad704894d20dd350"
  },
  {
   "cell_type": "code",
   "outputs": [],
   "source": [
    "\n",
    "\n",
    "def surf_sphere(d_p):\n",
    "    # Dp is the particle diameter in meters\n",
    "    # A is the surface area of the sphere in m^2\n",
    "    return 4 * np.pi * (d_p / 2) ** 2\n"
   ],
   "metadata": {
    "collapsed": false
   },
   "id": "bea389cc69f25566"
  },
  {
   "cell_type": "code",
   "outputs": [],
   "source": [
    "\n",
    "\n",
    "def k_coag(d_p_1, d_p_2, temp=temperature_std, rho_1=1000, rho_2=1000):  #\n",
    "    # Source: Sienfeld, J. H., & Pandis, S. N. (2006). Atmospheric chemistry and physics:\n",
    "    # :from air pollution to climate change. John Wiley & Sons.\n",
    "    # 2nd Edition Table 13.1\n",
    "    # coagulation coefficient\n",
    "    # Dp1 is the diameter of particle 1 in meters\n",
    "    # Dp2 is the diameter of particle 2 in meters\n",
    "    # c1 is the concentration of particle 1 in molec/m^3\n",
    "    # c2 is the concentration of particle 2 in molec/m^3\n",
    "    # d_diff1 is the diffusion coefficient of particle 1 in m^2/s\n",
    "    # d_diff2 is the diffusion coefficient of particle 2 in m^2/s\n",
    "    # temp is the temperature in Kelvin\n",
    "    # rho_1 is the density of particle 1 in kg/m^3\n",
    "    # rho_2 is the density of particle 2 in kg/m^3\n",
    "    # k_bolt is the Boltzmann constant in J/K defined in the global constants\n",
    "\n",
    "    # Convert dp_1 and dp_2 to numpy arrays if they are not already\n",
    "    dp_1_np = np.array([d_p_1])\n",
    "    dp_2_np = np.array([d_p_2])\n",
    "\n",
    "    # k is the coagulation coefficient\n",
    "    # used the mass of a particle because the c_1 and c_2 are velocity of the particles\n",
    "    air_01 = Fluid(FluidsList.Air).with_state(Input.pressure(pressure_std), Input.temperature(temp - 273.15))\n",
    "    vis_air = air_01.dynamic_viscosity  # Pa s dynamic viscosity\n",
    "    d_diff1 = k_Boltzmann * temp * np.array([c_cunningham(dp) for dp in dp_1_np]) / (3 * np.pi * vis_air * dp_1_np)\n",
    "    d_diff2 = k_Boltzmann * temp * np.array([c_cunningham(dp) for dp in dp_2_np]) / (3 * np.pi * vis_air * dp_2_np)\n",
    "    m_1 = rho_1 * np.pi * dp_1_np ** 3 / 6  # mass of one particle in kg\n",
    "    m_2 = rho_2 * np.pi * dp_2_np ** 3 / 6  # mass of one particle in kg\n",
    "    c_1 = np.sqrt(8 * k_Boltzmann * temp / (np.pi * m_1))\n",
    "    c_2 = np.sqrt(8 * k_Boltzmann * temp / (np.pi * m_2))\n",
    "    l_1 = 8 * d_diff1 / (np.pi * c_1)\n",
    "    l_2 = 8 * d_diff2 / (np.pi * c_1)\n",
    "    g_1 = 1 / (3 * dp_1_np * l_1) * ((dp_1_np + l_1) ** 3 - (dp_1_np ** 2 + l_1 ** 2) ** (3 / 2)) - dp_1_np\n",
    "    g_2 = 1 / (3 * dp_2_np * l_2) * ((dp_2_np + l_2) ** 3 - (dp_2_np ** 2 + l_2 ** 2) ** (3 / 2)) - dp_2_np\n",
    "    denominator = (((dp_1_np + dp_2_np) / (dp_1_np + dp_2_np + 2 * np.sqrt(g_1 ** 2 + g_2 ** 2))) + 8 * (\n",
    "            d_diff1 + d_diff2) / (c_1 ** 2 + c_2 ** 2) ** 0.5 / (dp_1_np + dp_2_np))\n",
    "\n",
    "    k_coag_fuchs = 2 * np.pi * (dp_1_np + dp_2_np) * (d_diff1 + d_diff2) / denominator\n",
    "    return k_coag_fuchs\n"
   ],
   "metadata": {
    "collapsed": false
   },
   "id": "64f9920a0fe608fc"
  },
  {
   "cell_type": "code",
   "outputs": [],
   "source": [
    "def bins_generator_dp(bins_number: int, d_p_min: float, d_p_max: float):\n",
    "    # This function generates the lower limits of the bins for the particle diameter\n",
    "    # bins_number is the number of bins\n",
    "    # d_p_min is the minimum particle diameter in meters\n",
    "    # d_p_max is the maximum particle diameter in meters\n",
    "    bins_lower_generated = np.geomspace(1e-9, 10.3e-6, bin_number + 1)\n",
    "    bins_upper_generated = bins_lower_generated[1:]\n",
    "    bins_lower_generated = bins_lower_generated[:-1]\n",
    "    bins_g_mean_generated = np.sqrt(bins_lower * bins_upper)  # geometric mean\n",
    "    return bins_lower_generated, bins_upper_generated, bins_g_mean_generated\n",
    "\n",
    "def bins_generator_dp_lower(bins_number: int, d_p_min: float, d_p_max: float):\n",
    "    # This function generates the lower limits of the bins for the particle diameter\n",
    "    # bins_number is the number of bins\n",
    "    # d_p_min is the minimum particle diameter in meters\n",
    "    # d_p_max is the maximum particle diameter in meters\n",
    "    bins_lower_generated = bins_generator_dp(bins_number, d_p_min, d_p_max)[0]\n",
    "    return bins_lower_generated\n",
    "\n",
    "\n",
    "def bins_generator_dp_upper(bins_number: int, d_p_min: float, d_p_max: float):\n",
    "    # This function generates the upper limits of the bins for the particle diameter\n",
    "    # bins_number is the number of bins\n",
    "    # d_p_min is the minimum particle diameter in meters\n",
    "    # d_p_max is the maximum particle diameter in meters\n",
    "    bins_upper_generated = bins_generator_dp(bins_number, d_p_min, d_p_max)[1]\n",
    "    return bins_upper_generated\n",
    "\n",
    "def bins_generator_dp_g_mean(bins_number: int, d_p_min: float, d_p_max: float):\n",
    "    # This function generates the geometric mean of the bins for the particle diameter\n",
    "    # bins_number is the number of bins\n",
    "    # d_p_min is the minimum particle diameter in meters\n",
    "    # d_p_max is the maximum particle diameter in meters\n",
    "    bins_g_mean_generated = bins_generator_dp(bins_number, d_p_min, d_p_max)[2]\n",
    "    return bins_g_mean_generated"
   ],
   "metadata": {
    "collapsed": false,
    "ExecuteTime": {
     "end_time": "2024-03-04T20:17:32.135117Z",
     "start_time": "2024-03-04T20:17:32.129101Z"
    }
   },
   "id": "bac4972809e09aea",
   "execution_count": 33
  },
  {
   "cell_type": "code",
   "outputs": [],
   "source": [
    "def coagulation_init():\n",
    "    ...\n",
    "\n",
    "def condensation_init():\n",
    "    ...\n"
   ],
   "metadata": {
    "collapsed": false,
    "ExecuteTime": {
     "end_time": "2024-03-04T20:06:00.243441Z",
     "start_time": "2024-03-04T20:06:00.239850Z"
    }
   },
   "id": "272dde0f9e192b68",
   "execution_count": 16
  },
  {
   "cell_type": "code",
   "outputs": [],
   "source": [
    "def simulation_general_dynamic_equation(\n",
    "        bins_lower_sim_gde = [] , # in meters\n",
    "        bins_g_mean_sim_gde = [] , # in meters\n",
    "        time_step_size: float = 1 , # in seconds\n",
    "        time_end: float = 3600 , # in seconds\n",
    "        initial_conditions = {'c_inf': 1E6, 'c_sat': 1E9, 'diff_coefficient': 1E-9, 'rho_p': 1E3},\n",
    "        temperature: float = temperature_std, # in Kelvin\n",
    "        pressure: float = pressure_std, # in Pascals\n",
    "        coagulation: bool = False,\n",
    "        condensation: bool = False\n",
    "        ):\n",
    "    \n",
    "    # This function simulates the growth of particles in a gas phase using the General Dynamic Equation (GDE)\n",
    "    total_time_steps: int = time_end // time_step_size # total number of time steps\n",
    "    # Create a dataframe to store the results for each time step\n",
    "    if condensation:\n",
    "        condensation_init()\n",
    "    if coagulation:\n",
    "        coagulation_init()\n",
    "    \n",
    "    # Create a dataframe to store the results for each time step\n",
    "    mass_in_bins_df = pd.DataFrame(columns = bins_g_mean)\n",
    "    mass_particle_in_bins_in_sim = np.empty((total_time_steps, len(bins_lower)))\n",
    "    # start the simulation\n",
    "    # loop through each time step\n",
    "    for time_step_number in range(total_time_steps):\n",
    "        # calculate the condensation and coagulation rates\n",
    "        # calculate the new mass in each bin\n",
    "        # store the results in the dataframe\n",
    "        # update the initial conditions for the next time step\n",
    "        # repeat the process for the next time step\n",
    "        \n",
    "        # Condensation\n",
    "        if condensation:\n",
    "            cond_mass_growth_rate(bins_g_mean, c_inf, c_sat, diff_coefficient_vapor, rho_p=1E3)\n",
    "            pass\n",
    "        # Coagulation\n",
    "        if coagulation:\n",
    "            pass\n",
    "        \n",
    "        \n",
    "    \n",
    "    # return the results\n",
    "    print('Simulation is done')\n",
    "    return mass_particle_in_bins_in_sim\n",
    "    \n",
    "    "
   ],
   "metadata": {
    "collapsed": false,
    "ExecuteTime": {
     "end_time": "2024-03-04T20:23:10.341124Z",
     "start_time": "2024-03-04T20:23:10.335717Z"
    }
   },
   "id": "97aaa4721d53e3e1",
   "execution_count": 50
  },
  {
   "cell_type": "code",
   "outputs": [
    {
     "name": "stdout",
     "output_type": "stream",
     "text": [
      "Simulation is done\n"
     ]
    }
   ],
   "source": [
    "result = simulation_general_dynamic_equation(\n",
    "            bins_generator_dp_lower(bins_number=40, d_p_min=1E-9, d_p_max=10.3E-6), \n",
    "            time_step_size=1, \n",
    "            time_end=3600, \n",
    "            initial_conditions={'c_inf': 1E6, 'c_sat': 1E9, 'diff_coefficient': 1E-9, 'rho_p': 1E3},\n",
    "            temperature=273.15 + 25, \n",
    "            pressure=101325, \n",
    "            coagulation=True,\n",
    "            condensation=True\n",
    "            )"
   ],
   "metadata": {
    "collapsed": false,
    "ExecuteTime": {
     "end_time": "2024-03-04T20:23:10.974525Z",
     "start_time": "2024-03-04T20:23:10.966876Z"
    }
   },
   "id": "572b3ce790e28d27",
   "execution_count": 51
  },
  {
   "cell_type": "code",
   "outputs": [
    {
     "name": "stdout",
     "output_type": "stream",
     "text": [
      "[[0. 0. 0. ... 0. 0. 0.]\n",
      " [0. 0. 0. ... 0. 0. 0.]\n",
      " [0. 0. 0. ... 0. 0. 0.]\n",
      " ...\n",
      " [0. 0. 0. ... 0. 0. 0.]\n",
      " [0. 0. 0. ... 0. 0. 0.]\n",
      " [0. 0. 0. ... 0. 0. 0.]]\n"
     ]
    },
    {
     "data": {
      "text/plain": "array([0., 0., 0., 0., 0., 0., 0., 0., 0., 0., 0., 0., 0., 0., 0., 0., 0.,\n       0., 0., 0., 0., 0., 0., 0., 0., 0., 0., 0., 0., 0., 0., 0., 0., 0.,\n       0., 0., 0., 0., 0., 0.])"
     },
     "execution_count": 53,
     "metadata": {},
     "output_type": "execute_result"
    }
   ],
   "source": [
    "# Testing the functions\n",
    "print(result)\n",
    "result[-1]"
   ],
   "metadata": {
    "collapsed": false,
    "ExecuteTime": {
     "end_time": "2024-03-04T20:23:56.103929Z",
     "start_time": "2024-03-04T20:23:56.099586Z"
    }
   },
   "id": "b4ebc29668cb3c2",
   "execution_count": 53
  },
  {
   "cell_type": "code",
   "outputs": [
    {
     "name": "stdout",
     "output_type": "stream",
     "text": [
      "[1.00000000e-09 1.25985606e-09 1.58723730e-09 1.99969054e-09\n",
      " 2.51932225e-09 3.17398341e-09 3.99876225e-09 5.03786487e-09\n",
      " 6.34698461e-09 7.99628704e-09 1.00741707e-08 1.26920051e-08\n",
      " 1.59900995e-08 2.01452239e-08 2.53800825e-08 3.19752508e-08\n",
      " 4.02842136e-08 5.07523108e-08 6.39406065e-08 8.05559608e-08\n",
      " 1.01488916e-07 1.27861426e-07 1.61086993e-07 2.02946424e-07\n",
      " 2.55683283e-07 3.22124135e-07 4.05830045e-07 5.11287443e-07\n",
      " 6.44148585e-07 8.11534501e-07 1.02241666e-06 1.28809783e-06\n",
      " 1.62281786e-06 2.04451693e-06 2.57579705e-06 3.24513353e-06\n",
      " 4.08840115e-06 5.15079699e-06 6.48926282e-06 8.17553711e-06]\n"
     ]
    }
   ],
   "source": [
    "x = bins_generator_dp_lower(bins_number=40, d_p_min=1E-9, d_p_max=10.3E-6)\n",
    "print(x)"
   ],
   "metadata": {
    "collapsed": false,
    "ExecuteTime": {
     "end_time": "2024-03-04T20:17:40.744787Z",
     "start_time": "2024-03-04T20:17:40.739826Z"
    }
   },
   "id": "fbaba6e72a07804e",
   "execution_count": 35
  },
  {
   "cell_type": "code",
   "outputs": [
    {
     "name": "stderr",
     "output_type": "stream",
     "text": [
      "ic| bins_lower: array([1.00000000e-09, 1.25985606e-09, 1.58723730e-09, 1.99969054e-09,\n",
      "                       2.51932225e-09, 3.17398341e-09, 3.99876225e-09, 5.03786487e-09,\n",
      "                       6.34698461e-09, 7.99628704e-09, 1.00741707e-08, 1.26920051e-08,\n",
      "                       1.59900995e-08, 2.01452239e-08, 2.53800825e-08, 3.19752508e-08,\n",
      "                       4.02842136e-08, 5.07523108e-08, 6.39406065e-08, 8.05559608e-08,\n",
      "                       1.01488916e-07, 1.27861426e-07, 1.61086993e-07, 2.02946424e-07,\n",
      "                       2.55683283e-07, 3.22124135e-07, 4.05830045e-07, 5.11287443e-07,\n",
      "                       6.44148585e-07, 8.11534501e-07, 1.02241666e-06, 1.28809783e-06,\n",
      "                       1.62281786e-06, 2.04451693e-06, 2.57579705e-06, 3.24513353e-06,\n",
      "                       4.08840115e-06, 5.15079699e-06, 6.48926282e-06, 8.17553711e-06])\n",
      "    bins_upper: array([1.25985606e-09, 1.58723730e-09, 1.99969054e-09, 2.51932225e-09,\n",
      "                       3.17398341e-09, 3.99876225e-09, 5.03786487e-09, 6.34698461e-09,\n",
      "                       7.99628704e-09, 1.00741707e-08, 1.26920051e-08, 1.59900995e-08,\n",
      "                       2.01452239e-08, 2.53800825e-08, 3.19752508e-08, 4.02842136e-08,\n",
      "                       5.07523108e-08, 6.39406065e-08, 8.05559608e-08, 1.01488916e-07,\n",
      "                       1.27861426e-07, 1.61086993e-07, 2.02946424e-07, 2.55683283e-07,\n",
      "                       3.22124135e-07, 4.05830045e-07, 5.11287443e-07, 6.44148585e-07,\n",
      "                       8.11534501e-07, 1.02241666e-06, 1.28809783e-06, 1.62281786e-06,\n",
      "                       2.04451693e-06, 2.57579705e-06, 3.24513353e-06, 4.08840115e-06,\n",
      "                       5.15079699e-06, 6.48926282e-06, 8.17553711e-06, 1.03000000e-05])\n",
      "    bins_g_mean: array([1.12243310e-09, 1.41410415e-09, 1.78156768e-09, 2.24451885e-09,\n",
      "                        2.82777068e-09, 3.56258404e-09, 4.48834311e-09, 5.65466628e-09,\n",
      "                        7.12406561e-09, 8.97529725e-09, 1.13075827e-08, 1.42459266e-08,\n",
      "                        1.79478170e-08, 2.26116661e-08, 2.84874446e-08, 3.58900798e-08,\n",
      "                        4.52163347e-08, 5.69660735e-08, 7.17690531e-08, 9.04186768e-08,\n",
      "                        1.13914518e-07, 1.43515897e-07, 1.80809372e-07, 2.27793784e-07,\n",
      "                        2.86987380e-07, 3.61562791e-07, 4.55517075e-07, 5.73885949e-07,\n",
      "                        7.23013693e-07, 9.10893186e-07, 1.14759430e-06, 1.44580364e-06,\n",
      "                        1.82150449e-06, 2.29483347e-06, 2.89115986e-06, 3.64244529e-06,\n",
      "                        4.58895678e-06, 5.78142503e-06, 7.28376338e-06, 9.17649346e-06])\n"
     ]
    },
    {
     "data": {
      "text/plain": "(array([1.00000000e-09, 1.25985606e-09, 1.58723730e-09, 1.99969054e-09,\n        2.51932225e-09, 3.17398341e-09, 3.99876225e-09, 5.03786487e-09,\n        6.34698461e-09, 7.99628704e-09, 1.00741707e-08, 1.26920051e-08,\n        1.59900995e-08, 2.01452239e-08, 2.53800825e-08, 3.19752508e-08,\n        4.02842136e-08, 5.07523108e-08, 6.39406065e-08, 8.05559608e-08,\n        1.01488916e-07, 1.27861426e-07, 1.61086993e-07, 2.02946424e-07,\n        2.55683283e-07, 3.22124135e-07, 4.05830045e-07, 5.11287443e-07,\n        6.44148585e-07, 8.11534501e-07, 1.02241666e-06, 1.28809783e-06,\n        1.62281786e-06, 2.04451693e-06, 2.57579705e-06, 3.24513353e-06,\n        4.08840115e-06, 5.15079699e-06, 6.48926282e-06, 8.17553711e-06]),\n array([1.25985606e-09, 1.58723730e-09, 1.99969054e-09, 2.51932225e-09,\n        3.17398341e-09, 3.99876225e-09, 5.03786487e-09, 6.34698461e-09,\n        7.99628704e-09, 1.00741707e-08, 1.26920051e-08, 1.59900995e-08,\n        2.01452239e-08, 2.53800825e-08, 3.19752508e-08, 4.02842136e-08,\n        5.07523108e-08, 6.39406065e-08, 8.05559608e-08, 1.01488916e-07,\n        1.27861426e-07, 1.61086993e-07, 2.02946424e-07, 2.55683283e-07,\n        3.22124135e-07, 4.05830045e-07, 5.11287443e-07, 6.44148585e-07,\n        8.11534501e-07, 1.02241666e-06, 1.28809783e-06, 1.62281786e-06,\n        2.04451693e-06, 2.57579705e-06, 3.24513353e-06, 4.08840115e-06,\n        5.15079699e-06, 6.48926282e-06, 8.17553711e-06, 1.03000000e-05]),\n array([1.12243310e-09, 1.41410415e-09, 1.78156768e-09, 2.24451885e-09,\n        2.82777068e-09, 3.56258404e-09, 4.48834311e-09, 5.65466628e-09,\n        7.12406561e-09, 8.97529725e-09, 1.13075827e-08, 1.42459266e-08,\n        1.79478170e-08, 2.26116661e-08, 2.84874446e-08, 3.58900798e-08,\n        4.52163347e-08, 5.69660735e-08, 7.17690531e-08, 9.04186768e-08,\n        1.13914518e-07, 1.43515897e-07, 1.80809372e-07, 2.27793784e-07,\n        2.86987380e-07, 3.61562791e-07, 4.55517075e-07, 5.73885949e-07,\n        7.23013693e-07, 9.10893186e-07, 1.14759430e-06, 1.44580364e-06,\n        1.82150449e-06, 2.29483347e-06, 2.89115986e-06, 3.64244529e-06,\n        4.58895678e-06, 5.78142503e-06, 7.28376338e-06, 9.17649346e-06]))"
     },
     "execution_count": 6,
     "metadata": {},
     "output_type": "execute_result"
    }
   ],
   "source": [
    "bin_number = 40\n",
    "dp_min = 1E-9\n",
    "dp_max = 10.3E-6\n",
    "\n",
    "bins_lower = bins_generator_dp_lower(bin_number, dp_min, dp_max)\n",
    "bins_upper = bins_generator_dp_upper(bin_number, dp_min, dp_max)\n",
    "bins_g_mean = bins_generator_dp_g_mean(bin_number, dp_min, dp_max)"
   ],
   "metadata": {
    "collapsed": false,
    "ExecuteTime": {
     "end_time": "2024-03-04T19:40:00.570574Z",
     "start_time": "2024-03-04T19:39:59.560149Z"
    }
   },
   "id": "81761cd5e528e3b4",
   "execution_count": 6
  },
  {
   "cell_type": "code",
   "outputs": [
    {
     "data": {
      "text/plain": "int"
     },
     "execution_count": 23,
     "metadata": {},
     "output_type": "execute_result"
    }
   ],
   "source": [],
   "metadata": {
    "collapsed": false,
    "ExecuteTime": {
     "end_time": "2024-03-04T20:09:07.822749Z",
     "start_time": "2024-03-04T20:09:07.818746Z"
    }
   },
   "id": "f511b198348a0578",
   "execution_count": 23
  },
  {
   "cell_type": "code",
   "outputs": [],
   "source": [],
   "metadata": {
    "collapsed": false
   },
   "id": "abcb4e172367a73f"
  }
 ],
 "metadata": {
  "kernelspec": {
   "display_name": "Python 3",
   "language": "python",
   "name": "python3"
  },
  "language_info": {
   "codemirror_mode": {
    "name": "ipython",
    "version": 2
   },
   "file_extension": ".py",
   "mimetype": "text/x-python",
   "name": "python",
   "nbconvert_exporter": "python",
   "pygments_lexer": "ipython2",
   "version": "2.7.6"
  }
 },
 "nbformat": 4,
 "nbformat_minor": 5
}
