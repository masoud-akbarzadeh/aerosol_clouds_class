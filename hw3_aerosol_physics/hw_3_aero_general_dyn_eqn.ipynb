{
 "cells": [
  {
   "cell_type": "raw",
   "source": [],
   "metadata": {
    "collapsed": false
   },
   "id": "bdd8d656e1bb24e2"
  },
  {
   "cell_type": "code",
   "outputs": [],
   "source": [
    "import numpy as np\n",
    "import pandas as pd\n",
    "from scipy import constants as const\n",
    "from pyfluids import Fluid, FluidsList, Input\n",
    "import matplotlib.pyplot as plt\n",
    "from icecream import ic"
   ],
   "metadata": {
    "collapsed": false,
    "ExecuteTime": {
     "end_time": "2024-03-17T23:44:54.107690Z",
     "start_time": "2024-03-17T23:44:54.103851Z"
    }
   },
   "id": "3bdb508e4c3805cb",
   "execution_count": 100
  },
  {
   "cell_type": "code",
   "outputs": [
    {
     "name": "stdout",
     "output_type": "stream",
     "text": [
      "This is a module that contains the functions that are could be useful for my projects\n"
     ]
    }
   ],
   "source": [
    "# For testing the module functions\n",
    "if __name__ == '__main__': # This is to test the module functions\n",
    "    print(\"This is a module that contains the functions that are could be useful for my projects\")\n",
    "\n",
    "\n",
    "# importing libraries"
   ],
   "metadata": {
    "collapsed": false,
    "ExecuteTime": {
     "end_time": "2024-03-17T23:44:54.162200Z",
     "start_time": "2024-03-17T23:44:54.158586Z"
    }
   },
   "id": "e76c1ddc3cf84063",
   "execution_count": 101
  },
  {
   "cell_type": "code",
   "outputs": [],
   "source": [
    "import numpy as np\n",
    "from pyfluids import Fluid, FluidsList, Input\n",
    "from scipy import constants as const\n",
    "import pandas as pd\n",
    "\n",
    "\n",
    "# Global constants"
   ],
   "metadata": {
    "collapsed": false,
    "ExecuteTime": {
     "end_time": "2024-03-17T23:44:54.295955Z",
     "start_time": "2024-03-17T23:44:54.293064Z"
    }
   },
   "id": "968b8c28ca71e51d",
   "execution_count": 102
  },
  {
   "cell_type": "code",
   "outputs": [],
   "source": [
    "h = const.Planck  # J s Planck constant\n",
    "r_gas_c = const.R  # J/(mol K) molar gas constant \n",
    "k_Boltzmann = const.Boltzmann  # J/K Boltzmann constant\n",
    "g = const.g  # m/s^2 acceleration due to gravity\n",
    "n_avo = const.Avogadro  # 1/mol Avogadro's number\n",
    "\n",
    "\n",
    "# Default air standard properties"
   ],
   "metadata": {
    "collapsed": false,
    "ExecuteTime": {
     "end_time": "2024-03-17T23:44:54.325264Z",
     "start_time": "2024-03-17T23:44:54.321374Z"
    }
   },
   "id": "fe761e153dcbefb9",
   "execution_count": 103
  },
  {
   "cell_type": "code",
   "outputs": [],
   "source": [
    "pressure_std = 101325  # Pa\n",
    "temperature_std = 273.15 + 25  # K #??????? need to make sure this is the right temperature\n",
    "air_std = Fluid(FluidsList.Air).with_state(Input.pressure(pressure_std), Input.temperature(temperature_std - 273.15))\n",
    "rho_h2so4_std = 1770 # density of H2SO4 in kg/m^3 at 25 C\n",
    "# Functions"
   ],
   "metadata": {
    "collapsed": false,
    "ExecuteTime": {
     "end_time": "2024-03-17T23:44:54.340735Z",
     "start_time": "2024-03-17T23:44:54.336703Z"
    }
   },
   "id": "953677f748a3fee8",
   "execution_count": 104
  },
  {
   "cell_type": "code",
   "outputs": [],
   "source": [
    "\n",
    "\n",
    "def c_cunningham(d_p, lamda=65E-9):\n",
    "    # defining the function\n",
    "    # Cunningham correction factor\n",
    "    # Dp is the particle diameter in meters\n",
    "    # lamda is the mean free path of the gas in meters\n",
    "    # C is the Cunningham correction factor\n",
    "    kn = 2 * lamda / d_p\n",
    "    return 1 + kn * (1.257 + 0.4 * np.exp(-1.1 / kn))\n"
   ],
   "metadata": {
    "collapsed": false,
    "ExecuteTime": {
     "end_time": "2024-03-17T23:44:54.412107Z",
     "start_time": "2024-03-17T23:44:54.407957Z"
    }
   },
   "id": "ea17cb18336d4901",
   "execution_count": 105
  },
  {
   "cell_type": "code",
   "outputs": [],
   "source": [
    "\n",
    "\n",
    "def mean_free_path(temperature: float, pressure: float):\n",
    "    # mean free path of air calculator\n",
    "    # T is the temperature in Kelvin\n",
    "    # P is the pressure in Pascals\n",
    "    # lamda is the mean free path of the gas in meters\n",
    "    r_gas_constant = const.R  # J/(mol K) gas constant\n",
    "    M = 0.0289647  # kg/mol molar mass of air\n",
    "    air = Fluid(FluidsList.Air).with_state(Input.pressure(pressure), Input.temperature(temperature - 273.15))\n",
    "    viscosity = air.dynamic_viscosity  # Pa s dynamic viscosity\n",
    "    return 2 * viscosity / (pressure * np.sqrt(8 * M / (np.pi * r_gas_constant * temperature)))\n"
   ],
   "metadata": {
    "collapsed": false,
    "ExecuteTime": {
     "end_time": "2024-03-17T23:44:54.457526Z",
     "start_time": "2024-03-17T23:44:54.452125Z"
    }
   },
   "id": "49b68a1a8212b15",
   "execution_count": 106
  },
  {
   "cell_type": "code",
   "outputs": [],
   "source": [
    "\n",
    "\n",
    "def reynolds_number(d_p: float, velocity: float, fluid_density=air_std.density, \n",
    "                    dynamic_viscosity=air_std.dynamic_viscosity):\n",
    "    # Reynolds number calculator\n",
    "    # Dp is the particle diameter in meters\n",
    "    # rho_f is the density of the fluid in kg/m^3\n",
    "    # g is the acceleration due to gravity in m/s^2\n",
    "    # C is the Cunningham correction factor\n",
    "    # Re is the Reynolds number\n",
    "    return (d_p * fluid_density * velocity) / dynamic_viscosity\n"
   ],
   "metadata": {
    "collapsed": false,
    "ExecuteTime": {
     "end_time": "2024-03-17T23:44:54.477690Z",
     "start_time": "2024-03-17T23:44:54.472849Z"
    }
   },
   "id": "f7a1513f22bf8287",
   "execution_count": 107
  },
  {
   "cell_type": "code",
   "outputs": [],
   "source": [
    "\n",
    "\n",
    "def settling_velocity(d_p, rho_p: float, temperature: float, pressure: float):\n",
    "    # Check if Dp_input is an array or a single value\n",
    "    if np.isscalar(d_p):\n",
    "        d_p_array = np.array([d_p])  # Convert to array for uniform processing\n",
    "    else:\n",
    "        d_p_array = d_p  # Use the array as is\n",
    "\n",
    "    velocities = []  # Empty list to store calculated velocities\n",
    "    for d_p in d_p_array:  # Process each Dp individually\n",
    "        g = 9.81  # m/s^2\n",
    "        l_mfp = mean_free_path(temperature, pressure)\n",
    "        c_cun = c_cunningham(d_p, l_mfp)\n",
    "        air = Fluid(FluidsList.Air).with_state(Input.pressure(pressure), Input.temperature(temperature - 273.15))\n",
    "        mu_f = air.dynamic_viscosity\n",
    "        rho_f = air.density\n",
    "        s_velocity = c_cun * (rho_p * g * d_p ** 2) / (18 * mu_f)  # Stokes settling velocity\n",
    "        Re = reynolds_number(d_p, s_velocity, fluid_density=rho_f, dynamic_viscosity=mu_f)\n",
    "        if Re < 1:\n",
    "            velocities.append(s_velocity)\n",
    "        else:\n",
    "            # Adjusted iterative approach for Re > 1, similar to before\n",
    "            m_p = np.pi * rho_p * d_p ** 3 / 6\n",
    "            for i in range(100):\n",
    "                # c_d = 24 / Re * (1 + 0.15 * Re**(0.687))  # Updated drag coefficient expression\n",
    "                c_d = 24 / Re * (1 + 3 / 16 * 0.43 * Re)\n",
    "                # s_velocity = np.sqrt((4 * m_p * g) / (3 * np.pi * c_d * rho_f * Dp**2))\n",
    "                s_velocity = np.sqrt((m_p * g) / (1 / 8 * np.pi * c_d * rho_f * d_p ** 2))\n",
    "                Re_new = reynolds_number(d_p, s_velocity, fluid_density=rho_f, dynamic_viscosity=mu_f)\n",
    "                if abs(Re_new - Re) < 0.01:\n",
    "                    break  # Exit the loop if the change in Reynolds number is small enough\n",
    "                else:\n",
    "                    Re = Re_new\n",
    "            velocities.append(s_velocity)\n",
    "\n",
    "    velocities_array = np.array(velocities)  # Convert list to array\n",
    "\n",
    "    if np.isscalar(d_p):\n",
    "        return velocities_array[0]  # Return a single value if input was scalar\n",
    "    else:\n",
    "        return velocities_array  # Return array if input was array\n"
   ],
   "metadata": {
    "collapsed": false,
    "ExecuteTime": {
     "end_time": "2024-03-17T23:44:54.499407Z",
     "start_time": "2024-03-17T23:44:54.490316Z"
    }
   },
   "id": "9725383f6e6b1870",
   "execution_count": 108
  },
  {
   "cell_type": "code",
   "outputs": [],
   "source": [
    "\n",
    "\n",
    "def cond_dia_growth_rate(d_p, c_inf, c_sat, diff_coefficient, rho_p=1E3):\n",
    "    # condensation diameter growth rate\n",
    "    # Dp is the particle diameter in meters\n",
    "    b_factor = beta_corr_cond(d_p)\n",
    "    d_dp_dt = b_factor * 4 * diff_coefficient * (c_inf - c_sat) / (rho_p * d_p)\n",
    "    return d_dp_dt\n",
    "    # # if np.isscalar(d_p):\n",
    "    # #     d_p_array = np.array([d_p])  # Convert to array for uniform processing\n",
    "    # # else:\n",
    "    # #     d_p_array = d_p  # Use the array as is\n",
    "    # # dia_growth_rate = []  # Empty list to store calculated velocities\n",
    "    #\n",
    "    # return dia_growth_rate\n"
   ],
   "metadata": {
    "collapsed": false,
    "ExecuteTime": {
     "end_time": "2024-03-17T23:44:54.537114Z",
     "start_time": "2024-03-17T23:44:54.533213Z"
    }
   },
   "id": "67c9d9a6681ec088",
   "execution_count": 109
  },
  {
   "cell_type": "code",
   "outputs": [],
   "source": [
    "\n",
    "\n",
    "def condensation_mass_growth_rate(d_p, c_inf, c_sat, diff_coefficient_vapor, rho_p=1E3):\n",
    "    # condensation mass growth rate\n",
    "    # Dp is the particle diameter in meters\n",
    "    # c_inf is the concentration of the condensing vapor in the bulk gas in molec/m^3\n",
    "    # c_sat is the saturation concentration of the condensing vapor in molec/m^3\n",
    "    # diff_coefficient is the diffusion coefficient of the condensing vapor in m^2/s\n",
    "    # rho_p is the density of the particle in kg/m^3 (default is 1E3 kg/m^3)\n",
    "    # m_p is the mass of the particle in kg\n",
    "    # particle mass\n",
    "    # J is the same as condensation mass growth rate\n",
    "    j_cond_calculated = 2 * np.pi * diff_coefficient_vapor * d_p * (c_inf - c_sat) * beta_corr_cond(d_p)  # kg/s\n",
    "    return j_cond_calculated\n"
   ],
   "metadata": {
    "collapsed": false,
    "ExecuteTime": {
     "end_time": "2024-03-17T23:44:54.552929Z",
     "start_time": "2024-03-17T23:44:54.547780Z"
    }
   },
   "id": "713ee588d030e210",
   "execution_count": 110
  },
  {
   "cell_type": "code",
   "outputs": [],
   "source": [
    "\n",
    "\n",
    "def beta_corr_cond(d_p, lamda=65E-9):\n",
    "    # Dahneke correction factor\n",
    "    # Dp is the particle diameter in meters\n",
    "    # B is the Darkener correction factor\n",
    "    # kn is the Knudsen number\n",
    "    # lamda is the mean free path of the gas in meters\n",
    "    kn = 2 * lamda / d_p\n",
    "    b_factor = (1 + kn) / (1 + 2 * kn * (1 + kn))\n",
    "    return b_factor\n"
   ],
   "metadata": {
    "collapsed": false,
    "ExecuteTime": {
     "end_time": "2024-03-17T23:44:54.569430Z",
     "start_time": "2024-03-17T23:44:54.565774Z"
    }
   },
   "id": "ef46e142b3363b6c",
   "execution_count": 111
  },
  {
   "cell_type": "code",
   "outputs": [],
   "source": [
    "\n",
    "\n",
    "def unit_conversion(conversion, variable=1):\n",
    "    switcher = {\n",
    "        # Volume\n",
    "        'cm3_to_m3': variable * 1E-6,\n",
    "        'm3_to_cm3': variable * 1E6,\n",
    "        'm3_to_L': variable * 1000,\n",
    "        'L_to_m3': variable * 1 / 1000,\n",
    "        # time\n",
    "        'hr_to_s': variable * 3600,\n",
    "        's_to_hr': variable * 1 / 3600,\n",
    "\n",
    "        # mass\n",
    "        'kg_to_g': variable * 1000,\n",
    "        'g_to_kg': variable * 1 / 1000,\n",
    "        'kg_to_ug': variable * 1E9,\n",
    "        'ug_to_kg': variable * 1E-9,\n",
    "\n",
    "        # pressure\n",
    "        'Pa_to_kPa': variable * 1E-3,\n",
    "        'kPa_to_Pa': variable * 1E3,\n",
    "        'atm_to_Pa': variable * 101325,\n",
    "        'Pa_to_atm': variable * 1 / 101325,\n",
    "        # temperature\n",
    "        'C_to_K': variable + 273.15,\n",
    "        'K_to_C': variable - 273.15,\n",
    "\n",
    "    }\n",
    "    return switcher.get(conversion, 'Invalid conversion')\n"
   ],
   "metadata": {
    "collapsed": false,
    "ExecuteTime": {
     "end_time": "2024-03-17T23:44:54.598854Z",
     "start_time": "2024-03-17T23:44:54.593925Z"
    }
   },
   "id": "870716b154a20",
   "execution_count": 112
  },
  {
   "cell_type": "code",
   "outputs": [],
   "source": [
    "# Function to convert N to DN/DlogDp # need to check the formula\n",
    "def dn_ddp_to_dn_dlogdp(dn_ddp_input, bins_geom_mean_input):  \n",
    "    # Convert the number distribution to dN/dlogDp\n",
    "    dn_dlogdp_out = dn_ddp_input * bins_geom_mean_input * np.log(10) # dN/dlogDp\n",
    "    return dn_dlogdp_out\n",
    "\n",
    "def num_dis_to_mass_dis(number_in_bins_input, bins_geom_mean_input, rho_p_input=1E3): # Convert the number distribution to mass distribution\n",
    "    # Convert the number distribution to mass distribution\n",
    "    # binsGeomMeanInput is the geometric mean of the bins\n",
    "    # numberInBinsInput is the number of particles in each bin\n",
    "    # rho_p_input is the density of the particle in kg/m^3\n",
    "    # massInBins is the mass of particles in each bin\n",
    "    m_p = dp_to_mp(bins_geom_mean_input, rho_p_input=rho_p_input)\n",
    "    mass_in_bins_out = number_in_bins_input * m_p\n",
    "    return mass_in_bins_out\n",
    "\n",
    "def mass_dis_to_num_dis(mass_in_bins_input, bins_geom_mean_input, rho_p_input=1E3):\n",
    "    # Convert the mass distribution to number distribution\n",
    "    # binsGeomMeanInput is the geometric mean of the bins\n",
    "    # massInBinsInput is the mass of particles in each bin\n",
    "    # rho_p_input is the density of the particle in kg/m^3\n",
    "    # numberInBins is the number of particles in each bin\n",
    "    number_in_bins_out = mass_in_bins_input / dp_to_mp(bins_geom_mean_input, rho_p_input=rho_p_input)\n",
    "    return number_in_bins_out\n",
    "\n",
    "def dp_to_mp(d_p, rho_p_input=1E3): #calculate the mass of the particle from the diameter\n",
    "    # Dp is the particle diameter in meters\n",
    "    # rho_p_input is the density of the particle in kg/m^3\n",
    "    # m_p is the mass of the particle in kg\n",
    "    m_p = np.pi * rho_p_input * d_p ** 3 / 6\n",
    "    return m_p\n",
    "\n",
    "def mp_to_dp(m_p, rho_p_input=1E3): #calculate the diameter of the particle from the mass\n",
    "    d_p = (6 * m_p / (np.pi * rho_p_input)) ** (1 / 3)\n",
    "    return d_p"
   ],
   "metadata": {
    "collapsed": false,
    "ExecuteTime": {
     "end_time": "2024-03-17T23:44:54.617848Z",
     "start_time": "2024-03-17T23:44:54.612849Z"
    }
   },
   "id": "216e6e2bed942e65",
   "execution_count": 113
  },
  {
   "cell_type": "code",
   "outputs": [],
   "source": [
    "\n",
    "\n",
    "def vol_sphere(d_p):\n",
    "    # Dp is the particle diameter in meters\n",
    "    # V is the volume of the sphere in m^3\n",
    "    return (4 / 3) * np.pi * (d_p / 2) ** 3\n"
   ],
   "metadata": {
    "collapsed": false,
    "ExecuteTime": {
     "end_time": "2024-03-17T23:44:54.644930Z",
     "start_time": "2024-03-17T23:44:54.640078Z"
    }
   },
   "id": "ad704894d20dd350",
   "execution_count": 114
  },
  {
   "cell_type": "code",
   "outputs": [],
   "source": [
    "\n",
    "\n",
    "def surf_sphere(d_p):\n",
    "    # Dp is the particle diameter in meters\n",
    "    # A is the surface area of the sphere in m^2\n",
    "    return 4 * np.pi * (d_p / 2) ** 2\n"
   ],
   "metadata": {
    "collapsed": false,
    "ExecuteTime": {
     "end_time": "2024-03-17T23:44:54.656191Z",
     "start_time": "2024-03-17T23:44:54.652496Z"
    }
   },
   "id": "bea389cc69f25566",
   "execution_count": 115
  },
  {
   "cell_type": "code",
   "outputs": [],
   "source": [
    "\n",
    "\n",
    "def k_coag(d_p_1, d_p_2, temp=temperature_std, rho_1=1000, rho_2=1000):  #\n",
    "    # Source: Sienfeld, J. H., & Pandis, S. N. (2006). Atmospheric chemistry and physics:\n",
    "    # :from air pollution to climate change. John Wiley & Sons.\n",
    "    # 2nd Edition Table 13.1\n",
    "    # coagulation coefficient\n",
    "    # Dp1 is the diameter of particle 1 in meters\n",
    "    # Dp2 is the diameter of particle 2 in meters\n",
    "    # c1 is the concentration of particle 1 in molec/m^3\n",
    "    # c2 is the concentration of particle 2 in molec/m^3\n",
    "    # d_diff1 is the diffusion coefficient of particle 1 in m^2/s\n",
    "    # d_diff2 is the diffusion coefficient of particle 2 in m^2/s\n",
    "    # temp is the temperature in Kelvin\n",
    "    # rho_1 is the density of particle 1 in kg/m^3\n",
    "    # rho_2 is the density of particle 2 in kg/m^3\n",
    "    # k_bolt is the Boltzmann constant in J/K defined in the global constants\n",
    "\n",
    "    # Convert dp_1 and dp_2 to numpy arrays if they are not already\n",
    "    dp_1_np = np.array([d_p_1])\n",
    "    dp_2_np = np.array([d_p_2])\n",
    "\n",
    "    # k is the coagulation coefficient\n",
    "    # used the mass of a particle because the c_1 and c_2 are velocity of the particles\n",
    "    air_01 = Fluid(FluidsList.Air).with_state(Input.pressure(pressure_std), Input.temperature(temp - 273.15))\n",
    "    vis_air = air_01.dynamic_viscosity  # Pa s dynamic viscosity\n",
    "    d_diff1 = k_Boltzmann * temp * np.array([c_cunningham(dp) for dp in dp_1_np]) / (3 * np.pi * vis_air * dp_1_np)\n",
    "    d_diff2 = k_Boltzmann * temp * np.array([c_cunningham(dp) for dp in dp_2_np]) / (3 * np.pi * vis_air * dp_2_np)\n",
    "    m_1 = rho_1 * np.pi * dp_1_np ** 3 / 6  # mass of one particle in kg\n",
    "    m_2 = rho_2 * np.pi * dp_2_np ** 3 / 6  # mass of one particle in kg\n",
    "    c_1 = np.sqrt(8 * k_Boltzmann * temp / (np.pi * m_1))\n",
    "    c_2 = np.sqrt(8 * k_Boltzmann * temp / (np.pi * m_2))\n",
    "    l_1 = 8 * d_diff1 / (np.pi * c_1)\n",
    "    l_2 = 8 * d_diff2 / (np.pi * c_1)\n",
    "    g_1 = 1 / (3 * dp_1_np * l_1) * ((dp_1_np + l_1) ** 3 - (dp_1_np ** 2 + l_1 ** 2) ** (3 / 2)) - dp_1_np\n",
    "    g_2 = 1 / (3 * dp_2_np * l_2) * ((dp_2_np + l_2) ** 3 - (dp_2_np ** 2 + l_2 ** 2) ** (3 / 2)) - dp_2_np\n",
    "    denominator = (((dp_1_np + dp_2_np) / (dp_1_np + dp_2_np + 2 * np.sqrt(g_1 ** 2 + g_2 ** 2))) + 8 * (\n",
    "            d_diff1 + d_diff2) / (c_1 ** 2 + c_2 ** 2) ** 0.5 / (dp_1_np + dp_2_np))\n",
    "\n",
    "    k_coag_fuchs = 2 * np.pi * (dp_1_np + dp_2_np) * (d_diff1 + d_diff2) / denominator\n",
    "    return k_coag_fuchs\n"
   ],
   "metadata": {
    "collapsed": false,
    "ExecuteTime": {
     "end_time": "2024-03-17T23:44:54.678243Z",
     "start_time": "2024-03-17T23:44:54.669870Z"
    }
   },
   "id": "64f9920a0fe608fc",
   "execution_count": 116
  },
  {
   "cell_type": "code",
   "outputs": [],
   "source": [
    "def bins_generator_dp(bins_number_input : int, d_p_min_input : float, d_p_max_input: float):\n",
    "    # This function generates the lower limits of the bins for the particle diameter\n",
    "    # bins_number is the number of bins\n",
    "    # d_p_min is the minimum particle diameter in meters\n",
    "    # d_p_max is the maximum particle diameter in meters\n",
    "    bins_lower_generated = np.geomspace(d_p_min_input, d_p_max_input, bins_number_input + 1)\n",
    "    bins_upper_generated = bins_lower_generated[1:]\n",
    "    bins_lower_generated = bins_lower_generated[:-1]\n",
    "    bins_g_mean_generated = np.sqrt(bins_lower_generated * bins_upper_generated)  # geometric mean\n",
    "    return bins_lower_generated, bins_upper_generated, bins_g_mean_generated\n",
    "\n",
    "def bins_generator_dp_lower(bins_number: int, d_p_min: float, d_p_max: float):\n",
    "    # This function generates the lower limits of the bins for the particle diameter\n",
    "    # bins_number is the number of bins\n",
    "    # d_p_min is the minimum particle diameter in meters\n",
    "    # d_p_max is the maximum particle diameter in meters\n",
    "    bins_lower_generated = bins_generator_dp(bins_number, d_p_min, d_p_max)[0]\n",
    "    return bins_lower_generated\n",
    "\n",
    "\n",
    "def bins_generator_dp_upper(bins_number: int, d_p_min: float, d_p_max: float):\n",
    "    # This function generates the upper limits of the bins for the particle diameter\n",
    "    # bins_number is the number of bins\n",
    "    # d_p_min is the minimum particle diameter in meters\n",
    "    # d_p_max is the maximum particle diameter in meters\n",
    "    bins_upper_generated = bins_generator_dp(bins_number, d_p_min, d_p_max)[1]\n",
    "    return bins_upper_generated\n",
    "\n",
    "def bins_generator_dp_g_mean(bins_number: int, d_p_min: float, d_p_max: float):\n",
    "    # This function generates the geometric mean of the bins for the particle diameter\n",
    "    # bins_number is the number of bins\n",
    "    # d_p_min is the minimum particle diameter in meters\n",
    "    # d_p_max is the maximum particle diameter in meters\n",
    "    bins_g_mean_generated = bins_generator_dp(bins_number, d_p_min, d_p_max)[2]\n",
    "    return bins_g_mean_generated"
   ],
   "metadata": {
    "collapsed": false,
    "ExecuteTime": {
     "end_time": "2024-03-17T23:44:54.716668Z",
     "start_time": "2024-03-17T23:44:54.710229Z"
    }
   },
   "id": "bac4972809e09aea",
   "execution_count": 117
  },
  {
   "cell_type": "code",
   "outputs": [],
   "source": [
    "def coagulation_init():\n",
    "    ...\n",
    "\n",
    "def condensation_init():\n",
    "    ...\n"
   ],
   "metadata": {
    "collapsed": false,
    "ExecuteTime": {
     "end_time": "2024-03-17T23:44:54.732012Z",
     "start_time": "2024-03-17T23:44:54.727764Z"
    }
   },
   "id": "272dde0f9e192b68",
   "execution_count": 118
  },
  {
   "cell_type": "code",
   "outputs": [],
   "source": [
    "def simulation_general_dynamic_equation(\n",
    "        bins_lower_input: np.array , # in meters\n",
    "        bins_geom_mean_input: np.array , # in meters\n",
    "        initial_mass_in_bins_input: np.array, # in kg\n",
    "        time_step_size_input: float = 1 , # in seconds\n",
    "        time_end_input: float = 3600 , # in seconds\n",
    "        c_inf: float = 1E6, # in molec/m^3\n",
    "        c_sat: float = 1E9, # in molec/m^3\n",
    "        diff_coefficient: float = 1E-9, # in m^2/s\n",
    "        rho_p: float = 1E3, # in kg/m^3\n",
    "        temperature_sim_gde: float = temperature_std, # in Kelvin\n",
    "        pressure_sim_gde: float = pressure_std, # in Pascals\n",
    "        coagulation: bool = False,\n",
    "        condensation: bool = False\n",
    "        ):\n",
    "    \n",
    "    bin_number_sim = len(bins_lower_input)\n",
    "    # This function simulates the growth of particles in a gas phase using the General Dynamic Equation (GDE)\n",
    "    total_time_steps: int = time_end_input // time_step_size_input # total number of time steps\n",
    "    if condensation:\n",
    "        \n",
    "        mass_per_particle_in_bins_all = dp_to_mp(bins_geom_mean_input, rho_p = rho_p)\n",
    "        mass_growth_rate_all_bins = condensation_mass_growth_rate(\n",
    "                bins_geom_mean_input,\n",
    "                c_inf = c_inf,\n",
    "                c_sat = c_sat, \n",
    "                diff_coefficient_vapor= diff_coefficient,\n",
    "                rho_p= rho_p \n",
    "        ) # in kg # mass growth rate in each bin in one time step\n",
    "    if coagulation:\n",
    "        coag_kernel_sim_gde_all = coagulation_init(bins_geom_mean_input, temperature = temperature_sim_gde, rho_p = rho_p)\n",
    "    \n",
    "    # Create a dataframe to store the results for each time step\n",
    "    mass_per_particle_in_bins_sim = np.zeros((total_time_steps, bin_number_sim))\n",
    "    mass_per_particle_in_bins_sim[0, :] = initial_mass_in_bins_input\n",
    "    number_par_in_bins_all = np.zeros((total_time_steps, bin_number_sim))\n",
    "    number_par_in_bins_all[0, :] = mass_dis_to_num_dis(mass_per_particle_in_bins_sim[0, :], bins_geom_mean_input, rho_p= rho_p) # make sure\n",
    "    # number_par_in_bins_all[0, :] = mp_to_dp(initial_mass_in_bins_input, rho_p) # make sure\n",
    "    \n",
    "    print('Simulation is started:')\n",
    "    ic(number_par_in_bins_all[0, :])\n",
    "    # start the simulation\n",
    "    # loop through each time step\n",
    "    for time_step in range(1, total_time_steps):\n",
    "        # calculate the condensation and coagulation rates\n",
    "        # calculate the new mass in each bin\n",
    "        # store the results in the dataframe\n",
    "        # update the initial conditions for the next time step\n",
    "        # repeat the process for the next time step\n",
    "        \n",
    "        # Condensation\n",
    "        if condensation:\n",
    "            j_condensation_mass_growth_all_bins = condensation_mass_growth_rate(\n",
    "                bins_geom_mean_input,\n",
    "                c_inf = c_inf,\n",
    "                c_sat = c_sat,\n",
    "                diff_coefficient_vapor= diff_coefficient,\n",
    "                rho_p= rho_p \n",
    "            )\n",
    "            \n",
    "            mass_per_particle_final_in_bins =\\\n",
    "                (mass_per_particle_in_bins_sim[time_step - 1, :]\n",
    "                 + j_condensation_mass_growth_all_bins * time_step_size_input)\n",
    "            \n",
    "            ic(mass_per_particle_final_in_bins)\n",
    "            \n",
    "            number_particle_in_bins_temp = np.zeros(bin_number_sim)\n",
    "            for bin_i in range(bin_number_sim-1):\n",
    "                number_particle_in_bins_temp[bin_i+1] = (\n",
    "                        number_particle_in_bins_temp[bin_i+1] +\n",
    "                        number_par_in_bins_all[time_step -1,bin_i] * \n",
    "                        ((mass_per_particle_final_in_bins[bin_i] -  mass_per_particle_in_bins_all[bin_i]) / (mass_per_particle_in_bins_all[bin_i + 1] - mass_per_particle_in_bins_all[bin_i])))\n",
    "                \n",
    "                number_particle_in_bins_temp[bin_i] = (\n",
    "                        number_particle_in_bins_temp[bin_i] + \n",
    "                        number_par_in_bins_all[time_step -1,bin_i] * \n",
    "                        (1 - (mass_per_particle_final_in_bins[bin_i] -  mass_per_particle_in_bins_all[bin_i]) / (mass_per_particle_in_bins_all[bin_i + 1] - mass_per_particle_in_bins_all[bin_i])))\n",
    "                \n",
    "            # Update the mass in the last bin\n",
    "            number_particle_in_bins_temp[-1] = number_particle_in_bins_temp[-1] + number_par_in_bins_all[time_step -1,-1]\n",
    "            number_par_in_bins_all[time_step, :] = number_particle_in_bins_temp\n",
    "            ic(number_par_in_bins_all[time_step, :])\n",
    "            \n",
    "\n",
    "        # Coagulation\n",
    "        if coagulation:\n",
    "            pass\n",
    "        \n",
    "        \n",
    "    \n",
    "    # return the results\n",
    "    print('Simulation is done')\n",
    "    return mass_per_particle_in_bins_sim\n",
    "    \n",
    "\n"
   ],
   "metadata": {
    "collapsed": false,
    "ExecuteTime": {
     "end_time": "2024-03-17T23:44:54.756712Z",
     "start_time": "2024-03-17T23:44:54.746543Z"
    }
   },
   "id": "97aaa4721d53e3e1",
   "execution_count": 119
  },
  {
   "cell_type": "code",
   "outputs": [],
   "source": [
    "# Function to gives the number of particles in each bin\n",
    "# Using total number of particles, geometric mean diameter, and standard deviation\n",
    "def number_in_bins(total_number_input, dia_par_geom_input, st_dev_input, bins_g_mean_input):\n",
    "    # totalNumberInput is the total number of particles in the distribution\n",
    "    # diaPgInput is the geometric mean diameter of the distribution\n",
    "    # stdInput is the standard deviation of the distribution\n",
    "    # binsGMeanInput is the geometric mean of the bins\n",
    "    # numberInBins is the number of particles in each bin \n",
    "    # number of particles in the distribution\n",
    "    number_in_bins_out = total_number_input / (np.sqrt(2 * np.pi) * np.log(st_dev_input) * bins_g_mean_input) * np.exp(-(np.log(bins_g_mean_input / dia_par_geom_input)) ** 2 / (2 * (np.log(st_dev_input)) ** 2))\n",
    "    \n",
    "    return number_in_bins_out"
   ],
   "metadata": {
    "collapsed": false,
    "ExecuteTime": {
     "end_time": "2024-03-17T23:44:54.775046Z",
     "start_time": "2024-03-17T23:44:54.770530Z"
    }
   },
   "id": "513953332efc3059",
   "execution_count": 120
  },
  {
   "cell_type": "code",
   "outputs": [],
   "source": [
    "def plt_dn_dlog_dp(ax_in, dn_dlogdp_in, bins_geom_mean_in):\n",
    "    ax_in.plot(bins_geom_mean_in * 1E6, dn_dlogdp_in * 1E-6) # convert m^-3 to cm^-3\n",
    "    ax_in.set_xscale('log')\n",
    "    ax_in.set_xlabel(r'Particle diameter ($\\mu$ m)') # in micrometers\n",
    "    ax_in.set_ylabel('dN/dlogDp (cm$^{-3}$)')\n",
    "    return ax_in"
   ],
   "metadata": {
    "collapsed": false,
    "ExecuteTime": {
     "end_time": "2024-03-17T23:44:54.789771Z",
     "start_time": "2024-03-17T23:44:54.785046Z"
    }
   },
   "id": "2c03f6c6ec43c9bc",
   "execution_count": 121
  },
  {
   "cell_type": "code",
   "outputs": [],
   "source": [
    "# Urban aerosol distribution numbered as 1\n",
    "S_g_1 = 2 # standard deviation of the lognormal distribution\n",
    "N_1 = 30000 * 1e6 # number of particles in the distribution from (cm^-3) to (m^-3)\n",
    "D_pg_1 = 30e-9 # geometric mean diameter (nm) to (m)\n",
    "\n",
    "# Local pollution aerosol distribution numbered as 2\n",
    "S_g_2 = 2 # standard deviation of the lognormal distribution\n",
    "N_2 = 3000 * 1e6 # number of particles in the distribution from (cm^-3) to (m^-3)\n",
    "D_pg_2 = 200e-9 # geometric mean diameter (nm) to (m)\n",
    "\n",
    "bin_number = 40\n",
    "dp_min = 1E-9\n",
    "dp_max = 10.3E-6\n",
    "\n",
    "\n",
    "Dp = bins_generator_dp_g_mean(bins_number=bin_number, d_p_min=dp_min, d_p_max=dp_max)\n",
    "dN_dDp_1 = N_1 / (np.sqrt(2 * np.pi) * np.log(S_g_1) * Dp) * np.exp(-(np.log(Dp / D_pg_1)) ** 2 / (2 * (np.log(S_g_1)) ** 2))\n",
    "number_in_bins_1 = dN_dDp_1 * (bins_generator_dp_upper(bins_number=bin_number, d_p_min=dp_min, d_p_max=dp_max) -\n",
    "                bins_generator_dp_lower(bins_number=bin_number, d_p_min=dp_min, d_p_max=dp_max))\n",
    "mass_in_bins_1 = dp_to_mp(number_in_bins_1)\n",
    "\n"
   ],
   "metadata": {
    "collapsed": false,
    "ExecuteTime": {
     "end_time": "2024-03-17T23:44:54.803754Z",
     "start_time": "2024-03-17T23:44:54.798140Z"
    }
   },
   "id": "5d14a7cf2074d2f5",
   "execution_count": 122
  },
  {
   "cell_type": "code",
   "outputs": [],
   "source": [
    "# Urban aerosol distribution numbered as 1\n",
    "N1 = number_in_bins(N_1, D_pg_1, S_g_1, Dp)\n",
    "N2 = number_in_bins(N_2, D_pg_2, S_g_2, Dp)\n",
    "N_in_bins = number_in_bins(N_1, D_pg_1, S_g_1, Dp) + number_in_bins(N_2, D_pg_2, S_g_2, Dp)\n",
    "mass_in_bins = num_dis_to_mass_dis(N_in_bins, Dp)"
   ],
   "metadata": {
    "collapsed": false,
    "ExecuteTime": {
     "end_time": "2024-03-17T23:44:54.815344Z",
     "start_time": "2024-03-17T23:44:54.811126Z"
    }
   },
   "id": "f55b479a117a6be9",
   "execution_count": 123
  },
  {
   "cell_type": "code",
   "outputs": [
    {
     "data": {
      "text/plain": "<Figure size 640x480 with 1 Axes>",
      "image/png": "[encoded data removed]"
     },
     "metadata": {},
     "output_type": "display_data"
    }
   ],
   "source": [
    "# plot the distribution\n",
    "plt.plot(Dp, N_in_bins)\n",
    "plt.xscale('log')"
   ],
   "metadata": {
    "collapsed": false,
    "ExecuteTime": {
     "end_time": "2024-03-17T23:44:55.107313Z",
     "start_time": "2024-03-17T23:44:54.827132Z"
    }
   },
   "id": "510a561cf27b2acb",
   "execution_count": 124
  },
  {
   "cell_type": "code",
   "outputs": [
    {
     "data": {
      "text/plain": "<Figure size 640x480 with 1 Axes>",
      "image/png": "[encoded data removed]"
     },
     "metadata": {},
     "output_type": "display_data"
    }
   ],
   "source": [
    "# plot the distribution\n",
    "plt.plot(Dp, number_in_bins_1)\n",
    "plt.xscale('log')"
   ],
   "metadata": {
    "collapsed": false,
    "ExecuteTime": {
     "end_time": "2024-03-17T23:44:55.436337Z",
     "start_time": "2024-03-17T23:44:55.108639Z"
    }
   },
   "id": "8a8b99a6063a8584",
   "execution_count": 125
  },
  {
   "cell_type": "code",
   "outputs": [
    {
     "data": {
      "text/plain": "<Figure size 640x480 with 1 Axes>",
      "image/png": "[encoded data removed]"
     },
     "metadata": {},
     "output_type": "display_data"
    }
   ],
   "source": [
    "# plot the mass distribution\n",
    "plt.plot(Dp, mass_in_bins_1)\n",
    "plt.xscale('log')\n"
   ],
   "metadata": {
    "collapsed": false,
    "ExecuteTime": {
     "end_time": "2024-03-17T23:44:55.712666Z",
     "start_time": "2024-03-17T23:44:55.437610Z"
    }
   },
   "id": "8102da88e92ca150",
   "execution_count": 126
  },
  {
   "cell_type": "code",
   "outputs": [
    {
     "data": {
      "text/plain": "<Figure size 640x480 with 1 Axes>",
      "image/png": "[encoded data removed]"
     },
     "metadata": {},
     "output_type": "display_data"
    }
   ],
   "source": [
    "# plot DN/DlogDp\n",
    "dN_dlogDp = dn_ddp_to_dn_dlogdp(N_in_bins, Dp)\n",
    "plt.plot(Dp, dN_dlogDp * 1E-6) # convert m^-3 to cm^-3\n",
    "plt.xscale('log')"
   ],
   "metadata": {
    "collapsed": false,
    "ExecuteTime": {
     "end_time": "2024-03-17T23:44:55.995533Z",
     "start_time": "2024-03-17T23:44:55.713768Z"
    }
   },
   "id": "299f73a6335b6afb",
   "execution_count": 127
  },
  {
   "cell_type": "code",
   "outputs": [],
   "source": [
    "# \n",
    "bins_lower = bins_generator_dp_lower(bin_number, dp_min, dp_max)\n",
    "bins_upper = bins_generator_dp_upper(bin_number, dp_min, dp_max)\n",
    "bins_geom_mean = bins_generator_dp_g_mean(bin_number, dp_min, dp_max)"
   ],
   "metadata": {
    "collapsed": false,
    "ExecuteTime": {
     "end_time": "2024-03-17T23:44:56.000471Z",
     "start_time": "2024-03-17T23:44:55.996037Z"
    }
   },
   "id": "43ba9bf0563da393",
   "execution_count": 128
  },
  {
   "cell_type": "code",
   "outputs": [
    {
     "data": {
      "text/plain": "<Figure size 640x480 with 1 Axes>",
      "image/png": "[encoded data removed]"
     },
     "metadata": {},
     "output_type": "display_data"
    }
   ],
   "source": [
    "# Testing the plot function\n",
    "fig, ax = plt.subplots()\n",
    "ax = plt_dn_dlog_dp(ax, dN_dlogDp, bins_geom_mean)"
   ],
   "metadata": {
    "collapsed": false,
    "ExecuteTime": {
     "end_time": "2024-03-17T23:44:56.436815Z",
     "start_time": "2024-03-17T23:44:56.001557Z"
    }
   },
   "id": "d80de7245713a0b0",
   "execution_count": 129
  },
  {
   "cell_type": "code",
   "outputs": [
    {
     "name": "stderr",
     "output_type": "stream",
     "text": [
      "ic| number_par_in_bins_all[0, :]: array([1.14751191e+14, 4.18205232e+14, 1.36391821e+15, 3.98064831e+15,\n",
      "                                         1.03964705e+16, 2.42987941e+16, 5.08218325e+16, 9.51224498e+16,\n",
      "                                         1.59324877e+17, 2.38810757e+17, 3.20330710e+17, 3.84529152e+17,\n",
      "                                         4.13118706e+17, 3.97289634e+17, 3.42140965e+17, 2.64126202e+17,\n",
      "                                         1.83239398e+17, 1.14942762e+17, 6.61342371e+16, 3.59982967e+16,\n",
      "                                         1.95877083e+16, 1.13702321e+16, 7.21666136e+15, 4.80226785e+15,\n",
      "                                         3.13623472e+15, 1.91593048e+15, 1.06775879e+15, 5.36784841e+14,\n",
      "                                         2.42273074e+14, 9.79820571e+13, 3.54800286e+13, 1.14995328e+13,\n",
      "                                         3.33564704e+12, 8.65887501e+11, 2.01147867e+11, 4.18156062e+10,\n",
      "                                         7.77909234e+09, 1.29504973e+09, 1.92934867e+08, 2.57218177e+07])\n",
      "ic| mass_per_particle_final_in_bins: array([ 1.19972831e-10,  1.04771377e-09,  7.07109551e-09,  4.15937035e-08,\n",
      "                                             2.17673459e-07,  1.01793795e-06,  4.25824638e-06,  1.59387713e-05,\n",
      "                                             5.33862305e-05,  1.60017334e-04,  4.29216755e-04,  1.03031782e-03,\n",
      "                                             2.21350310e-03,  4.25672475e-03,  7.33054574e-03,  1.13163271e-02,\n",
      "                                             1.56991270e-02,  1.96924955e-02,  2.26572771e-02,  2.46618266e-02,\n",
      "                                             2.68341931e-02,  3.11484090e-02,  3.95334630e-02,  5.26062371e-02,\n",
      "                                             6.87007858e-02,  8.39256580e-02,  9.35296230e-02,  9.40233648e-02,\n",
      "                                             8.48588941e-02,  6.86261483e-02,  4.96895465e-02,  3.22009365e-02,\n",
      "                                             1.86722076e-02,  9.68451198e-03,  4.48775720e-03,  1.85074215e-03,\n",
      "                                             6.68705366e-04,  1.96459027e-04,  2.41915784e-05, -3.83636702e-05])\n",
      "ic| number_par_in_bins_all[time_step, :]: array([-1.05080285e+28, -1.56735937e+29, -1.67365766e+30, -1.39633581e+31,\n",
      "                                                 -9.22200171e+31, -4.82412227e+32, -1.99292682e+33, -6.46728015e+33,\n",
      "                                                 -1.63410488e+34, -3.16558480e+34, -4.55952520e+34, -4.52649485e+34,\n",
      "                                                 -2.28115606e+34,  1.28318400e+34,  4.07910917e+34,  4.73123095e+34,\n",
      "                                                  3.61970904e+34,  2.03710907e+34,  8.84080961e+33,  3.07879994e+33,\n",
      "                                                  9.12476062e+32,  2.54472770e+32,  7.72250159e+31,  2.90270196e+31,\n",
      "                                                  1.32297116e+31,  6.16699351e+30,  2.53142177e+30,  8.52217453e+29,\n",
      "                                                  2.29506643e+29,  4.91090454e+28,  8.34370618e+27,  1.12681362e+27,\n",
      "                                                  1.21122569e+26,  1.03747140e+25,  7.08624789e+23,  3.85887653e+22,\n",
      "                                                  1.67039232e+21,  5.66800283e+19,  1.40803584e+18,  1.30367687e+16])\n",
      "ic| mass_per_particle_final_in_bins: array([-3.04142345e-11, -4.82735662e-11, -7.66189917e-11, -1.21605970e-10,\n",
      "                                            -1.93001124e-10, -3.06297566e-10, -4.86064577e-10, -7.71245111e-10,\n",
      "                                            -1.22351707e-09"
     ]
    },
    {
     "name": "stdout",
     "output_type": "stream",
     "text": [
      "Simulation is started:\n"
     ]
    },
    {
     "name": "stderr",
     "output_type": "stream",
     "text": [
      ", -1.94045044e-09, -3.07611634e-09, -4.87314838e-09,\n",
      "                                            -7.71211621e-09, -1.21864370e-08, -1.92136130e-08, -3.01953991e-08,\n",
      "                                            -4.72385693e-08, -7.34410883e-08, -1.13232426e-07, -1.72731775e-07,\n",
      "                                            -2.60064008e-07, -3.85573141e-07, -5.61922010e-07, -8.04163532e-07,\n",
      "                                            -1.12996371e-06, -1.56017815e-06, -2.11990935e-06, -2.84005986e-06,\n",
      "                                            -3.75933325e-06, -4.92665529e-06, -6.40406407e-06, -8.27020270e-06,\n",
      "                                            -1.06246182e-05, -1.35931251e-05, -1.73345464e-05, -2.20492110e-05,\n",
      "                                            -2.79896729e-05, -3.54742306e-05, -4.49039742e-05, -5.67842724e-05])\n",
      "ic| number_par_in_bins_all[time_step, :]: array([-2.43937891e+41, -2.64405627e+42, -2.15890298e+43, -1.37606000e+44,\n",
      "                                                 -6.87517955e+44, -2.67759041e+45, -8.03631929e+45, -1.82117579e+46,\n",
      "                                                 -2.99102209e+46, -3.20151815e+46, -1.30062987e+46,  2.23572569e+46,\n",
      "                                                  4.95057014e+46,  4.74432605e+46,  2.19919308e+46, -3.23669968e+45,\n",
      "                                                 -1.33905125e+46, -1.12288844e+46, -5.81218498e+45, -2.14639786e+45,\n",
      "                                                 -6.03229138e+44, -1.37444445e+44, -2.79032078e+43, -5.79231252e+42,\n",
      "                                                 -1.44885646e+42, -4.62921054e+41, -1.58433017e+41, -4.74598650e+40,\n",
      "                                                 -1.13578364e+40, -2.11841336e+39, -3.07360192e+38, -3.48321740e+37,\n",
      "                                                 -3.09831766e+36, -2.17236663e+35, -1.20465578e+34, -5.29620627e+32,\n",
      "                                                 -1.84814645e+31, -5.10969535e+29, -1.10539451e+28, -1.76601153e+26])\n",
      "ic| mass_per_particle_final_in_bins: array([-3.04142345e-11, -4.82735662e-11, -7.66189917e-11, -1.21605970e-10,\n",
      "                                            -1.93001124e-10, -3.06297566e-10, -4.86064577e-10, -7.71245111e-10,\n",
      "                                            -1.22351707e-09, -1.94045044e-09, -3.07611634e-09, -4.87314838e-09,\n",
      "                                            -7.71211621e-09, -1.21864370e-08, -1.92136130e-08, -3.01953991e-08,\n",
      "                                            -4.72385693e-08, -7.34410883e-08, -1.13232426e-07, -1.72731775e-07,\n",
      "                                            -2.60064008e-07, -3.85573141e-07, -5.61922010e-07, -8.04163532e-07,\n",
      "                                            -1.12996371e-06, -1.56017815e-06, -2.11990935e-06, -2.84005986e-06,\n",
      "                                            -3.75933325e-06, -4.92665529e-06, -6.40406407e-06, -8.27020270e-06,\n",
      "                                            -1.06246182e-05, -1.35931251e-05, -1.73345464e-05, -2.20492110e-05,\n",
      "                                            -2.79896729e-05, -3.54742306e-05, -4.49039742e-05, -5.67842724e-05])\n",
      "ic| number_par_in_bins_all[time_step, :]: array([-5.66287907e+54, -4.30561269e+55, -2.67017724e+56, -1.28155787e+57,\n",
      "                                                 -4.73664401e+57, -1.32434546e+58, -2.70515462e+58, -3.72177430e+58,\n",
      "                                                 -2.54000493e+58,  1.65051434e+58,  6.28733440e+58,  7.05424027e+58,\n",
      "                                                  3.06039907e+58, -1.73002331e+58, -3.42503072e+58, -2.20094344e+58,\n",
      "                                                 -5.10351285e+57,  2.57041494e+57,  2.89333173e+57,  1.38025118e+57,\n",
      "                                                  4.26792447e+56,  9.51974013e+55,  1.64876343e+55,  2.43771919e+54,\n",
      "                                                  3.50578028e+53,  5.82663599e+52,  1.26573191e+52,  3.06567527e+51,\n",
      "                                                  6.47797077e+50,  1.07030591e+50,  1.34989677e+49,  1.30284587e+48,\n",
      "                                                  9.70009838e+46,  5.61537186e+45,  2.54404593e+44,  9.06574340e+42,\n",
      "                                                  2.55042586e+41,  5.67645474e+39,  9.98567647e+37,  1.38642739e+36])\n",
      "ic| mass_per_particle_final_in_bins: array([-3.04142345e-11, -4.82735662e-11, -7.66189917e-11, -1.21605970e-10,\n",
      "                                            -1.93001124e-10, -3.06297566e-10, -4.86064577e-10, -7.71245111e-10,\n",
      "                                            -1.22351707e-09, -1.94045044e-09, -3.07611634e-09, -4.87314838e-09,\n",
      "                                            -7.71211621e-09, -1.21864370e-08, -1.92136130e-08, -3.01953991e-08,\n",
      "                                            -4.72385693e-08, -7.34410883e-08, -1.13232426e-07, -1.72731775e-07,\n",
      "                                            -2.60064008e-07, -3.85573141e-07, -5.61922010e-07, -8.04163532e-07,\n",
      "                                            -1.12996371e-06, -1.56017815e-06, -2.11990935e-06, -2.84005986e-06,\n",
      "                                            -3.75933325e-06, -4.92665529e-06, -6.40406407e-06, -8.27020270e-06,\n",
      "                                            -1.06246182e-05, -1.35931251e-05, -1.73345464e-05, -2.20492110e-05,\n",
      "                                            -2.79896729e-05, -3.54742306e-05, -4.49039742e-05, -5.67842724e-05])\n",
      "ic| number_par_in_bins_all[time_step, :]: array([-1.31460510e+68, -6.61885580e+68, -3.11175313e+69, -1.09708907e+70,\n",
      "                                                 -2.87615794e+70, -5.31928935e+70, -6.01300642e+70, -1.43894485e+70,\n",
      "                                                  7.85765928e+70,  1.40585488e+71,  9.65730457e+70, -1.60486166e+70,\n",
      "                                                 -8.42730069e+70, -6.37466290e+70, -1.10407426e+70,  1.52075179e+70,\n",
      "                                                  1.27015598e+70,  3.91695560e+69, -1.45611880e+68, -6.08465404e+68,\n",
      "                                                 -2.67067301e+68, -6.76414981e+67, -1.17110221e+67, -1.51273697e+66,\n",
      "                                                 -1.60915557e+65, -1.60134792e+64, -1.76947233e+63, -2.56692318e+62,\n",
      "                                                 -4.27663378e+61, -6.20156599e+60, -6.91305709e+59, -5.78900715e+58,\n",
      "                                                 -3.66401646e+57, -1.77243571e+56, -6.62025006e+54, -1.92497969e+53,\n",
      "                                                 -4.38484094e+51, -7.86069947e+49, -1.11220487e+48, -1.25244112e+46])\n"
     ]
    },
    {
     "name": "stdout",
     "output_type": "stream",
     "text": [
      "Simulation is done\n",
      "[[1.50387065e-10 1.09598734e-09 7.14771450e-09 4.17153095e-08\n",
      "  2.17866460e-07 1.01824425e-06 4.25873245e-06 1.59395426e-05\n",
      "  5.33874540e-05 1.60019275e-04 4.29219831e-04 1.03032269e-03\n",
      "  2.21351081e-03 4.25673694e-03 7.33056495e-03 1.13163573e-02\n",
      "  1.56991742e-02 1.96925689e-02 2.26573903e-02 2.46619993e-02\n",
      "  2.68344532e-02 3.11487946e-02 3.95340249e-02 5.26070413e-02\n",
      "  6.87019158e-02 8.39272182e-02 9.35317429e-02 9.40262049e-02\n",
      "  8.48626534e-02 6.86310750e-02 4.96959505e-02 3.22092067e-02\n",
      "  1.86828322e-02 9.69810511e-03 4.50509175e-03 1.87279136e-03\n",
      "  6.96695039e-04 2.31933258e-04 6.90955525e-05 1.84206022e-05]\n",
      " [0.00000000e+00 0.00000000e+00 0.00000000e+00 0.00000000e+00\n",
      "  0.00000000e+00 0.00000000e+00 0.00000000e+00 0.00000000e+00\n",
      "  0.00000000e+00 0.00000000e+00 0.00000000e+00 0.00000000e+00\n",
      "  0.00000000e+00 0.00000000e+00 0.00000000e+00 0.00000000e+00\n",
      "  0.00000000e+00 0.00000000e+00 0.00000000e+00 0.00000000e+00\n",
      "  0.00000000e+00 0.00000000e+00 0.00000000e+00 0.00000000e+00\n",
      "  0.00000000e+00 0.00000000e+00 0.00000000e+00 0.00000000e+00\n",
      "  0.00000000e+00 0.00000000e+00 0.00000000e+00 0.00000000e+00\n",
      "  0.00000000e+00 0.00000000e+00 0.00000000e+00 0.00000000e+00\n",
      "  0.00000000e+00 0.00000000e+00 0.00000000e+00 0.00000000e+00]\n",
      " [0.00000000e+00 0.00000000e+00 0.00000000e+00 0.00000000e+00\n",
      "  0.00000000e+00 0.00000000e+00 0.00000000e+00 0.00000000e+00\n",
      "  0.00000000e+00 0.00000000e+00 0.00000000e+00 0.00000000e+00\n",
      "  0.00000000e+00 0.00000000e+00 0.00000000e+00 0.00000000e+00\n",
      "  0.00000000e+00 0.00000000e+00 0.00000000e+00 0.00000000e+00\n",
      "  0.00000000e+00 0.00000000e+00 0.00000000e+00 0.00000000e+00\n",
      "  0.00000000e+00 0.00000000e+00 0.00000000e+00 0.00000000e+00\n",
      "  0.00000000e+00 0.00000000e+00 0.00000000e+00 0.00000000e+00\n",
      "  0.00000000e+00 0.00000000e+00 0.00000000e+00 0.00000000e+00\n",
      "  0.00000000e+00 0.00000000e+00 0.00000000e+00 0.00000000e+00]\n",
      " [0.00000000e+00 0.00000000e+00 0.00000000e+00 0.00000000e+00\n",
      "  0.00000000e+00 0.00000000e+00 0.00000000e+00 0.00000000e+00\n",
      "  0.00000000e+00 0.00000000e+00 0.00000000e+00 0.00000000e+00\n",
      "  0.00000000e+00 0.00000000e+00 0.00000000e+00 0.00000000e+00\n",
      "  0.00000000e+00 0.00000000e+00 0.00000000e+00 0.00000000e+00\n",
      "  0.00000000e+00 0.00000000e+00 0.00000000e+00 0.00000000e+00\n",
      "  0.00000000e+00 0.00000000e+00 0.00000000e+00 0.00000000e+00\n",
      "  0.00000000e+00 0.00000000e+00 0.00000000e+00 0.00000000e+00\n",
      "  0.00000000e+00 0.00000000e+00 0.00000000e+00 0.00000000e+00\n",
      "  0.00000000e+00 0.00000000e+00 0.00000000e+00 0.00000000e+00]\n",
      " [0.00000000e+00 0.00000000e+00 0.00000000e+00 0.00000000e+00\n",
      "  0.00000000e+00 0.00000000e+00 0.00000000e+00 0.00000000e+00\n",
      "  0.00000000e+00 0.00000000e+00 0.00000000e+00 0.00000000e+00\n",
      "  0.00000000e+00 0.00000000e+00 0.00000000e+00 0.00000000e+00\n",
      "  0.00000000e+00 0.00000000e+00 0.00000000e+00 0.00000000e+00\n",
      "  0.00000000e+00 0.00000000e+00 0.00000000e+00 0.00000000e+00\n",
      "  0.00000000e+00 0.00000000e+00 0.00000000e+00 0.00000000e+00\n",
      "  0.00000000e+00 0.00000000e+00 0.00000000e+00 0.00000000e+00\n",
      "  0.00000000e+00 0.00000000e+00 0.00000000e+00 0.00000000e+00\n",
      "  0.00000000e+00 0.00000000e+00 0.00000000e+00 0.00000000e+00]]\n"
     ]
    }
   ],
   "source": [
    "    \n",
    "\n",
    "result_mass_per_bins = simulation_general_dynamic_equation(\n",
    "            bins_lower_input= bins_generator_dp_lower(bins_number=bin_number, d_p_min=dp_min, d_p_max=dp_max),\n",
    "            bins_geom_mean_input= bins_generator_dp_g_mean(bins_number=bin_number, d_p_min=dp_min, d_p_max=dp_max),\n",
    "            initial_mass_in_bins_input= mass_in_bins, # in kg\n",
    "            time_step_size_input=1, # in seconds\n",
    "            time_end_input=5, # in seconds\n",
    "            c_inf=1E6, # in molec/m^3\n",
    "            c_sat=1E9, # in molec/m^3\n",
    "            diff_coefficient=1E-9, # in m^2/s\n",
    "            rho_p= rho_h2so4_std, # in kg/m^3\n",
    "            temperature_sim_gde =273.15 + 25, \n",
    "            pressure_sim_gde=101325, \n",
    "            coagulation=False,\n",
    "            condensation=True\n",
    "            )\n",
    "\n",
    "print(result_mass_per_bins)"
   ],
   "metadata": {
    "collapsed": false,
    "ExecuteTime": {
     "end_time": "2024-03-17T23:44:57.056571Z",
     "start_time": "2024-03-17T23:44:56.438202Z"
    }
   },
   "id": "572b3ce790e28d27",
   "execution_count": 130
  },
  {
   "cell_type": "code",
   "outputs": [
    {
     "data": {
      "text/plain": "array([[1.50387065e-10, 1.09598734e-09, 7.14771450e-09, 4.17153095e-08,\n        2.17866460e-07, 1.01824425e-06, 4.25873245e-06, 1.59395426e-05,\n        5.33874540e-05, 1.60019275e-04, 4.29219831e-04, 1.03032269e-03,\n        2.21351081e-03, 4.25673694e-03, 7.33056495e-03, 1.13163573e-02,\n        1.56991742e-02, 1.96925689e-02, 2.26573903e-02, 2.46619993e-02,\n        2.68344532e-02, 3.11487946e-02, 3.95340249e-02, 5.26070413e-02,\n        6.87019158e-02, 8.39272182e-02, 9.35317429e-02, 9.40262049e-02,\n        8.48626534e-02, 6.86310750e-02, 4.96959505e-02, 3.22092067e-02,\n        1.86828322e-02, 9.69810511e-03, 4.50509175e-03, 1.87279136e-03,\n        6.96695039e-04, 2.31933258e-04, 6.90955525e-05, 1.84206022e-05],\n       [0.00000000e+00, 0.00000000e+00, 0.00000000e+00, 0.00000000e+00,\n        0.00000000e+00, 0.00000000e+00, 0.00000000e+00, 0.00000000e+00,\n        0.00000000e+00, 0.00000000e+00, 0.00000000e+00, 0.00000000e+00,\n        0.00000000e+00, 0.00000000e+00, 0.00000000e+00, 0.00000000e+00,\n        0.00000000e+00, 0.00000000e+00, 0.00000000e+00, 0.00000000e+00,\n        0.00000000e+00, 0.00000000e+00, 0.00000000e+00, 0.00000000e+00,\n        0.00000000e+00, 0.00000000e+00, 0.00000000e+00, 0.00000000e+00,\n        0.00000000e+00, 0.00000000e+00, 0.00000000e+00, 0.00000000e+00,\n        0.00000000e+00, 0.00000000e+00, 0.00000000e+00, 0.00000000e+00,\n        0.00000000e+00, 0.00000000e+00, 0.00000000e+00, 0.00000000e+00],\n       [0.00000000e+00, 0.00000000e+00, 0.00000000e+00, 0.00000000e+00,\n        0.00000000e+00, 0.00000000e+00, 0.00000000e+00, 0.00000000e+00,\n        0.00000000e+00, 0.00000000e+00, 0.00000000e+00, 0.00000000e+00,\n        0.00000000e+00, 0.00000000e+00, 0.00000000e+00, 0.00000000e+00,\n        0.00000000e+00, 0.00000000e+00, 0.00000000e+00, 0.00000000e+00,\n        0.00000000e+00, 0.00000000e+00, 0.00000000e+00, 0.00000000e+00,\n        0.00000000e+00, 0.00000000e+00, 0.00000000e+00, 0.00000000e+00,\n        0.00000000e+00, 0.00000000e+00, 0.00000000e+00, 0.00000000e+00,\n        0.00000000e+00, 0.00000000e+00, 0.00000000e+00, 0.00000000e+00,\n        0.00000000e+00, 0.00000000e+00, 0.00000000e+00, 0.00000000e+00],\n       [0.00000000e+00, 0.00000000e+00, 0.00000000e+00, 0.00000000e+00,\n        0.00000000e+00, 0.00000000e+00, 0.00000000e+00, 0.00000000e+00,\n        0.00000000e+00, 0.00000000e+00, 0.00000000e+00, 0.00000000e+00,\n        0.00000000e+00, 0.00000000e+00, 0.00000000e+00, 0.00000000e+00,\n        0.00000000e+00, 0.00000000e+00, 0.00000000e+00, 0.00000000e+00,\n        0.00000000e+00, 0.00000000e+00, 0.00000000e+00, 0.00000000e+00,\n        0.00000000e+00, 0.00000000e+00, 0.00000000e+00, 0.00000000e+00,\n        0.00000000e+00, 0.00000000e+00, 0.00000000e+00, 0.00000000e+00,\n        0.00000000e+00, 0.00000000e+00, 0.00000000e+00, 0.00000000e+00,\n        0.00000000e+00, 0.00000000e+00, 0.00000000e+00, 0.00000000e+00],\n       [0.00000000e+00, 0.00000000e+00, 0.00000000e+00, 0.00000000e+00,\n        0.00000000e+00, 0.00000000e+00, 0.00000000e+00, 0.00000000e+00,\n        0.00000000e+00, 0.00000000e+00, 0.00000000e+00, 0.00000000e+00,\n        0.00000000e+00, 0.00000000e+00, 0.00000000e+00, 0.00000000e+00,\n        0.00000000e+00, 0.00000000e+00, 0.00000000e+00, 0.00000000e+00,\n        0.00000000e+00, 0.00000000e+00, 0.00000000e+00, 0.00000000e+00,\n        0.00000000e+00, 0.00000000e+00, 0.00000000e+00, 0.00000000e+00,\n        0.00000000e+00, 0.00000000e+00, 0.00000000e+00, 0.00000000e+00,\n        0.00000000e+00, 0.00000000e+00, 0.00000000e+00, 0.00000000e+00,\n        0.00000000e+00, 0.00000000e+00, 0.00000000e+00, 0.00000000e+00]])"
     },
     "execution_count": 131,
     "metadata": {},
     "output_type": "execute_result"
    }
   ],
   "source": [
    "result_mass_per_bins"
   ],
   "metadata": {
    "collapsed": false
   },
   "id": "fcaf68ae0e4aa3cc",
   "execution_count": 131
  },
  {
   "cell_type": "code",
   "outputs": [
    {
     "name": "stdout",
     "output_type": "stream",
     "text": [
      "[2.03109607e+14 7.40223260e+14 2.41413524e+15 7.04574752e+15\n",
      " 1.84017527e+16 4.30088655e+16 8.99546436e+16 1.68366736e+17\n",
      " 2.82005031e+17 4.22695041e+17 5.66985356e+17 6.80616598e+17\n",
      " 7.31220109e+17 7.03202652e+17 6.05589507e+17 4.67503378e+17\n",
      " 3.24333734e+17 2.03448688e+17 1.17057600e+17 6.37169851e+16\n",
      " 3.46702437e+16 2.01253109e+16 1.27734906e+16 8.50001410e+15\n",
      " 5.55113546e+15 3.39119696e+15 1.88993305e+15 9.50109168e+14\n",
      " 4.28823342e+14 1.73428241e+14 6.27996507e+13 2.03541731e+13\n",
      " 5.90409526e+12 1.53262088e+12 3.56031725e+11 7.40136229e+10\n",
      " 1.37689934e+10 2.29223802e+09 3.41494714e+08 4.55276174e+07]\n"
     ]
    }
   ],
   "source": [
    "print(N_in_bins)"
   ],
   "metadata": {
    "collapsed": false
   },
   "id": "397e44ac8c385bd9",
   "execution_count": 132
  },
  {
   "cell_type": "code",
   "outputs": [],
   "source": [
    "result_num_per_bins = mass_dis_to_num_dis(result_mass_per_bins, bins_geom_mean, rho_p= rho_h2so4_std)\n",
    "result_dn_dlogDp = dn_ddp_to_dn_dlogdp(result_num_per_bins, bins_geom_mean)"
   ],
   "metadata": {
    "collapsed": false,
    "ExecuteTime": {
     "end_time": "2024-03-17T23:46:10.395646Z",
     "start_time": "2024-03-17T23:46:10.391864Z"
    }
   },
   "id": "1e28617fc9de84a3",
   "execution_count": 135
  },
  {
   "cell_type": "code",
   "outputs": [
    {
     "data": {
      "text/plain": "<Axes: xlabel='Particle diameter ($\\\\mu$ m)', ylabel='dN/dlogDp (cm$^{-3}$)'>"
     },
     "execution_count": 144,
     "metadata": {},
     "output_type": "execute_result"
    },
    {
     "data": {
      "text/plain": "<Figure size 640x480 with 1 Axes>",
      "image/png": "[encoded data removed]"
     },
     "metadata": {},
     "output_type": "display_data"
    }
   ],
   "source": [
    "fig, ax = plt.subplots()\n",
    "plt_dn_dlog_dp(ax, 1.77*result_dn_dlogDp[0,:] , bins_geom_mean)\n",
    "plt_dn_dlog_dp(ax, dN_dlogDp, bins_geom_mean)"
   ],
   "metadata": {
    "collapsed": false,
    "ExecuteTime": {
     "end_time": "2024-03-18T01:03:36.304760Z",
     "start_time": "2024-03-18T01:03:35.986082Z"
    }
   },
   "id": "ba02c8cec4d10c5",
   "execution_count": 144
  },
  {
   "cell_type": "code",
   "outputs": [],
   "source": [],
   "metadata": {
    "collapsed": false
   },
   "id": "f7ac6fb37b77ac8d"
  }
 ],
 "metadata": {
  "kernelspec": {
   "display_name": "Python 3",
   "language": "python",
   "name": "python3"
  },
  "language_info": {
   "codemirror_mode": {
    "name": "ipython",
    "version": 2
   },
   "file_extension": ".py",
   "mimetype": "text/x-python",
   "name": "python",
   "nbconvert_exporter": "python",
   "pygments_lexer": "ipython2",
   "version": "2.7.6"
  }
 },
 "nbformat": 4,
 "nbformat_minor": 5
}
