{
 "cells": [
  {
   "cell_type": "markdown",
   "id": "37e17365febe9ffb",
   "metadata": {},
   "source": [
    "# Condensation and Coagulation\n",
    "Homework 2 for the course Aerosols physics and chemistry"
   ]
  },
  {
   "cell_type": "markdown",
   "id": "4b2dbf547403e751",
   "metadata": {},
   "source": [
    "# Libraries"
   ]
  },
  {
   "cell_type": "code",
   "execution_count": 44,
   "id": "initial_id",
   "metadata": {
    "collapsed": true,
    "ExecuteTime": {
     "end_time": "2024-02-20T20:12:05.964502800Z",
     "start_time": "2024-02-20T20:12:05.953398400Z"
    }
   },
   "outputs": [],
   "source": [
    "#importing libraries\n",
    "import numpy as np\n",
    "import matplotlib.pyplot as plt\n",
    "import matplotlib as mpl\n",
    "from pyfluids import Fluid, FluidsList, Input\n",
    "\n",
    "from scipy import constants as const\n",
    "\n",
    "mpl.rcParams[\"figure.dpi\"] = 100"
   ]
  },
  {
   "cell_type": "markdown",
   "source": [
    "# Global constants"
   ],
   "metadata": {
    "collapsed": false
   },
   "id": "5f8b4f708367b985"
  },
  {
   "cell_type": "code",
   "outputs": [],
   "source": [
    "h = const.Planck  # J s Planck constant\n",
    "r_gas_c = const.R  # J/(mol K) molar gas constant \n",
    "k_boltz = const.Boltzmann  # J/K Boltzmann constant\n",
    "g = const.g  # m/s^2 acceleration due to gravity\n",
    "n_avo = const.Avogadro  # 1/mol Avogadro's number"
   ],
   "metadata": {
    "collapsed": false,
    "ExecuteTime": {
     "end_time": "2024-02-20T20:12:06.908539900Z",
     "start_time": "2024-02-20T20:12:06.902678900Z"
    }
   },
   "id": "76b3b2c8aba0de34",
   "execution_count": 45
  },
  {
   "cell_type": "markdown",
   "id": "89e43ef230da55d4",
   "metadata": {},
   "source": [
    "# Function Definitions"
   ]
  },
  {
   "cell_type": "code",
   "execution_count": 46,
   "id": "acff704aed4384d8",
   "metadata": {
    "ExecuteTime": {
     "end_time": "2024-02-20T20:12:09.507436400Z",
     "start_time": "2024-02-20T20:12:09.495799800Z"
    }
   },
   "outputs": [],
   "source": [
    "# Default air standard properties\n",
    "pressure_std = 101325 # Pa\n",
    "temperature_std = 273.15 + 25 # K #??????? need to make sure this is the right temperature\n",
    "air_std = Fluid(FluidsList.Air).with_state(Input.pressure(pressure_std), Input.temperature(temperature_std-273.15))\n",
    "\n",
    "\n",
    "def c_cunningham(d_p, lamda = 65E-9):\n",
    "    #defining the function\n",
    "    #Cunningham correction factor\n",
    "    #Dp is the particle diameter in meters\n",
    "    #lamda is the mean free path of the gas in meters\n",
    "    #C is the Cunningham correction factor\n",
    "    kn = 2 * lamda / d_p\n",
    "    return 1 + kn * (1.257 + 0.4 * np.exp(-1.1 / kn))\n",
    "    \n",
    "\n",
    "def mean_free_path(temperature, pressure):\n",
    "# mean free path of air calculator\n",
    "#T is the temperature in Kelvin\n",
    "#P is the pressure in Pascals\n",
    "#lamda is the mean free path of the gas in meters\n",
    "    R = 8.314 # J/(mol K) gas constant\n",
    "    M = 0.0289647 # kg/mol molar mass of air\n",
    "    air = Fluid(FluidsList.Air).with_state(Input.pressure(pressure), Input.temperature(temperature - 273.15))\n",
    "    viscosity = air.dynamic_viscosity # Pa s dynamic viscosity\n",
    "    return 2 * viscosity / (pressure * np.sqrt(8 * M / (np.pi * R * temperature)))\n",
    "\n",
    "\n",
    "def reynolds_number(d_p, velocity, fluid_density = air_std.density, dynamic_viscosity = air_std.dynamic_viscosity):\n",
    "    #Reynolds number calculator\n",
    "    #Dp is the particle diameter in meters\n",
    "    #rho_f is the density of the fluid in kg/m^3\n",
    "    #g is the acceleration due to gravity in m/s^2\n",
    "    #C is the Cunningham correction factor\n",
    "    #Re is the Reynolds number\n",
    "    return (d_p * fluid_density * velocity) / dynamic_viscosity\n",
    "\n",
    "def settling_velocity(d_p, rho_p, temperature, pressure):\n",
    "    # Check if Dp_input is an array or a single value\n",
    "    if np.isscalar(d_p):\n",
    "        d_p_array = np.array([d_p])  # Convert to array for uniform processing\n",
    "    else:\n",
    "        d_p_array = d_p  # Use the array as is\n",
    "\n",
    "    velocities = []  # Empty list to store calculated velocities\n",
    "    for d_p in d_p_array:  # Process each Dp individually\n",
    "        g = 9.81  # m/s^2\n",
    "        l_mfp = mean_free_path(temperature, pressure)\n",
    "        c_cun = c_cunningham(d_p, l_mfp)\n",
    "        air = Fluid(FluidsList.Air).with_state(Input.pressure(pressure), Input.temperature(temperature - 273.15))\n",
    "        mu_f = air.dynamic_viscosity\n",
    "        rho_f = air.density\n",
    "        s_velocity = c_cun * (rho_p * g * d_p**2) / (18 * mu_f)  # Stokes settling velocity\n",
    "        Re = reynolds_number(d_p, s_velocity, fluid_density=rho_f, dynamic_viscosity=mu_f)\n",
    "        if Re < 1:\n",
    "            velocities.append(s_velocity)\n",
    "        else:\n",
    "            # Adjusted iterative approach for Re > 1, similar to before\n",
    "            m_p = np.pi * rho_p * d_p**3 / 6\n",
    "            for i in range(100):\n",
    "                # c_d = 24 / Re * (1 + 0.15 * Re**(0.687))  # Updated drag coefficient expression\n",
    "                c_d = 24 / Re * (1 + 3/16 * 0.43 * Re)\n",
    "                # s_velocity = np.sqrt((4 * m_p * g) / (3 * np.pi * c_d * rho_f * Dp**2))\n",
    "                s_velocity = np.sqrt((m_p * g) / (1/8 * np.pi * c_d * rho_f * d_p**2))\n",
    "                Re_new = reynolds_number(d_p, s_velocity, fluid_density=rho_f, dynamic_viscosity=mu_f)\n",
    "                if abs(Re_new - Re) < 0.01:\n",
    "                    break  # Exit the loop if the change in Reynolds number is small enough\n",
    "                else:\n",
    "                    Re = Re_new\n",
    "            velocities.append(s_velocity)\n",
    "\n",
    "    velocities_array = np.array(velocities)  # Convert list to array\n",
    "\n",
    "    if np.isscalar(d_p):\n",
    "        return velocities_array[0]  # Return a single value if input was scalar\n",
    "    else:\n",
    "        return velocities_array  # Return array if input was array\n",
    "    \n",
    "def cond_dia_growth_rate(d_p, c_inf, c_sat, diff_coefficient, rho_p = 1E3):\n",
    "    #condensation diameter growth rate\n",
    "    #Dp is the particle diameter in meters\n",
    "    b_factor = beta_corr_cond(d_p)\n",
    "    d_dp_dt = b_factor * 4 * diff_coefficient * (c_inf - c_sat) / (rho_p * d_p)\n",
    "    return d_dp_dt\n",
    "    # # if np.isscalar(d_p):\n",
    "    # #     d_p_array = np.array([d_p])  # Convert to array for uniform processing\n",
    "    # # else:   \n",
    "    # #     d_p_array = d_p  # Use the array as is\n",
    "    # # dia_growth_rate = []  # Empty list to store calculated velocities\n",
    "    # \n",
    "    # return dia_growth_rate\n",
    "\n",
    "def cond_mass_growth_rate(d_p, c_inf, c_sat, diff_coefficient, rho_p = 1E3): \n",
    "    #condensation mass growth rate\n",
    "    #Dp is the particle diameter in meters\n",
    "    #c_inf is the concentration of the condensing vapor in the bulk gas in molec/m^3\n",
    "    #c_sat is the saturation concentration of the condensing vapor in molec/m^3\n",
    "    #diff_coefficient is the diffusion coefficient of the condensing vapor in m^2/s\n",
    "    #rho_p is the density of the particle in kg/m^3 (default is 1E3 kg/m^3)\n",
    "    #m_p is the mass of the particle in kg\n",
    "    #particle mass\n",
    "    m_p = np.pi * rho_p * d_p**3 / 6\n",
    "    #mass growth rate\n",
    "    \n",
    "    return m_p * cond_dia_growth_rate(d_p, c_inf, c_sat, diff_coefficient)\n",
    "\n",
    "def beta_corr_cond(d_p, lamda = 65E-9):\n",
    "    #Dahneke correction factor\n",
    "    #Dp is the particle diameter in meters\n",
    "    #B is the Darkener correction factor\n",
    "    # kn is the Knudsen number\n",
    "    # lamda is the mean free path of the gas in meters\n",
    "    kn = 2 * lamda / d_p\n",
    "    b_factor = (1 + kn) / (1 + 2 * kn * (1 + kn))\n",
    "    return b_factor\n",
    "\n",
    "\n",
    "def unit_conversion(conversion, variable=1):\n",
    "    switcher = {\n",
    "        #length\n",
    "        'cm3_to_m3': variable * 1E-6,\n",
    "        'm3_to_cm3': variable * 1E6,\n",
    "        #time\n",
    "        'hr_to_s': variable * 3600,\n",
    "        's_to_hr': variable * 1/3600,\n",
    "        #volume\n",
    "        'm3_to_L': variable * 1000,\n",
    "        'L_to_m3': variable * 1/1000,\n",
    "        #mass\n",
    "        'kg_to_g': variable * 1000,\n",
    "        'g_to_kg': variable * 1/1000,\n",
    "        #pressure\n",
    "        'Pa_to_kPa': variable * 1E-3,\n",
    "        'kPa_to_Pa': variable * 1E3,\n",
    "        'atm_to_Pa': variable * 101325,\n",
    "        'Pa_to_atm': variable * 1/101325,\n",
    "        #temperature\n",
    "        'C_to_K': variable + 273.15,\n",
    "        'K_to_C': variable - 273.15,\n",
    "    }\n",
    "    return switcher.get(conversion, 'Invalid conversion')\n",
    "\n",
    "def dp_to_mp_distribution(d_p, rho_p = 1E3):\n",
    "    #Dp is the particle diameter in meters\n",
    "    #rho_p is the density of the particle in kg/m^3\n",
    "    #m_p is the mass of the particle in kg\n",
    "    m_p = np.pi * rho_p * d_p**3 / 6\n",
    "    return m_p\n",
    "\n"
   ]
  },
  {
   "cell_type": "markdown",
   "id": "bc67dcf1ded71cb0",
   "metadata": {},
   "source": [
    "# Other Functions - Coagulation"
   ]
  },
  {
   "cell_type": "code",
   "execution_count": null,
   "id": "a5b57005a3d4e9ce",
   "metadata": {},
   "outputs": [],
   "source": [
    "def k_coag(dp_1, dp_2, d_diff1, d_diff2, temp = temperature_std, rho_1 = 1000, rho_2 = 1000): #\n",
    "    \n",
    "    # Source: Sienfeld, J. H., & Pandis, S. N. (2006). Atmospheric chemistry and physics: from air pollution to climate change. John Wiley & Sons.\n",
    "    # 2nd Edition Table 13.1\n",
    "    #coagulation coefficient\n",
    "    #Dp1 is the diameter of particle 1 in meters\n",
    "    #Dp2 is the diameter of particle 2 in meters\n",
    "    #c1 is the concentration of particle 1 in molec/m^3\n",
    "    #c2 is the concentration of particle 2 in molec/m^3\n",
    "    #d_diff1 is the diffusion coefficient of particle 1 in m^2/s\n",
    "    #d_diff2 is the diffusion coefficient of particle 2 in m^2/s\n",
    "    #temp is the temperature in Kelvin\n",
    "    #rho_1 is the density of particle 1 in kg/m^3\n",
    "    #rho_2 is the density of particle 2 in kg/m^3\n",
    "    # k_bolt is the Boltzmann constant in J/K defined in the global constants\n",
    "    \n",
    "\n",
    "    #k is the coagulation coefficient\n",
    "    m_1 = rho_1 * np.pi / 6 * dp_1 * 3 # mass of one particle in kg\n",
    "    m_2 = rho_2 * np.pi / 6 * dp_2 * 3 # mass of one particle in kg\n",
    "    c_1 = np.sqrt(8 * k_boltz * temp / (np.pi * molar_mass))\n",
    "    l_1 = 8 * d_diff1 / (np.pi * c_1)\n",
    "    l_2 = 8 * d_diff2 / (np.pi * c_1)\n",
    "    g_1 = 1 / (3 * dp_1 * l_1) * ((dp_1 + l_1) ** 3 - (dp_1 ** 2 + l_1 ** 2) ** (3 / 2)) - dp_1\n",
    "    g_2 = 1 / (3 * dp_2 * l_2) * ((dp_2 + l_2) ** 3 - (dp_2 ** 2 + l_2 ** 2) ** (3 / 2)) - dp_2\n",
    "    denominator = (((dp_1 + dp_2) / (dp_1+dp_2+2*np.sqrt(g_1**2+g_2**2))) + 8*(d_diff1+ d_diff2)/(c_1**2+c_2**2)**0.5 / (dp_1+dp_2))\n",
    "    \n",
    "    k_coag_fuchs = 2 * np.pi * (dp_1 + dp_2) * (d_diff1 + d_diff2) / denominator\n",
    "                  # rest of the equation\n",
    "                  \n",
    "    return k_coag_fuchs"
   ]
  },
  {
   "cell_type": "markdown",
   "id": "f0a7d92d5c5e62be",
   "metadata": {},
   "source": [
    "# Bins definition"
   ]
  },
  {
   "cell_type": "code",
   "execution_count": 22,
   "id": "36a71becc2bc9286",
   "metadata": {
    "ExecuteTime": {
     "end_time": "2024-02-20T18:44:32.634317400Z",
     "start_time": "2024-02-20T18:44:32.623541800Z"
    }
   },
   "outputs": [],
   "source": [
    "#defining the bins\n",
    "bin_number = 40\n",
    "bins_lower = np.geomspace(1e-9, 10.3e-6, bin_number + 1)  #\n",
    "bins_upper = bins_lower[1:]\n",
    "bins_lower = bins_lower[:-1]\n",
    "bins_g_mean = np.sqrt(bins_lower * bins_upper)  # geometric mean\n",
    "bins_g_mean_mass = dp_to_mp_distribution(bins_g_mean)"
   ]
  },
  {
   "cell_type": "markdown",
   "id": "b5746d2f1eb5e5b4",
   "metadata": {},
   "source": [
    "# Problem 1\n",
    "Condensation of Sulfuric Acid (H2SO4) "
   ]
  },
  {
   "cell_type": "code",
   "execution_count": 36,
   "id": "c1468c558acc16a8",
   "metadata": {
    "ExecuteTime": {
     "end_time": "2024-02-20T19:24:38.730985100Z",
     "start_time": "2024-02-20T19:24:38.716151200Z"
    }
   },
   "outputs": [
    {
     "name": "stdout",
     "output_type": "stream",
     "text": [
      "2000000.0\n"
     ]
    }
   ],
   "source": [
    "# reaction rate of H2SO4 with water\n",
    "# H2SO4 + H2O -> H3O+ + HSO4-\n",
    "# k = 5E-7 cm^3/molec s \n",
    "x = 2 #m^3\n",
    "x_cm_3 = unit_conversion(x, 'm3_to_cm3')\n",
    "print(x_cm_3)"
   ]
  },
  {
   "cell_type": "code",
   "execution_count": 24,
   "id": "db3fe55090ff7bb",
   "metadata": {
    "ExecuteTime": {
     "end_time": "2024-02-20T18:44:32.641912400Z",
     "start_time": "2024-02-20T18:44:32.633254300Z"
    }
   },
   "outputs": [],
   "source": [
    "c_inf_h2so4 = 5E7 / const.centi ** 3 #molec/m^3\n",
    "c_sat_h2so4 = 0 #molec/m^3\n",
    "diff_h2so4 = 1E-5 #m^2/s\n"
   ]
  },
  {
   "cell_type": "code",
   "execution_count": 25,
   "id": "4de718f95a3d3229",
   "metadata": {
    "ExecuteTime": {
     "end_time": "2024-02-20T18:44:32.658261100Z",
     "start_time": "2024-02-20T18:44:32.637203700Z"
    }
   },
   "outputs": [],
   "source": [
    "dp_dt_cond = cond_dia_growth_rate(bins_g_mean, c_inf_h2so4, c_sat_h2so4, diff_h2so4, rho_p = 1E3)"
   ]
  },
  {
   "cell_type": "code",
   "execution_count": 26,
   "id": "6e4b3e808539d6ba",
   "metadata": {
    "ExecuteTime": {
     "end_time": "2024-02-20T18:44:33.020831800Z",
     "start_time": "2024-02-20T18:44:32.644178400Z"
    }
   },
   "outputs": [
    {
     "data": {
      "image/png": "[encoded data removed]",
      "text/plain": [
       "<Figure size 640x480 with 1 Axes>"
      ]
     },
     "metadata": {},
     "output_type": "display_data"
    }
   ],
   "source": [
    "# plot growth rate vs diameter\n",
    "fig, ax = plt.subplots()\n",
    "ax.plot(bins_g_mean / const.nano , dp_dt_cond)\n",
    "ax.set_xscale('log')\n",
    "ax.set_yscale('log')\n",
    "ax.set_xlabel('Particle Diameter (nm)')\n",
    "ax.set_ylabel('Growth Rate (m/s)')\n",
    "ax.set_title('Growth Rate vs Diameter')\n",
    "# change the font\n",
    "for item in ([ax.title, ax.xaxis.label, ax.yaxis.label] +\n",
    "             ax.get_xticklabels() + ax.get_yticklabels()):\n",
    "    item.set_fontsize(10)\n",
    "plt.show()\n",
    "\n"
   ]
  },
  {
   "cell_type": "code",
   "execution_count": 27,
   "id": "3005ea3ac74ad381",
   "metadata": {
    "ExecuteTime": {
     "end_time": "2024-02-20T18:44:33.318060300Z",
     "start_time": "2024-02-20T18:44:33.016546100Z"
    }
   },
   "outputs": [
    {
     "data": {
      "image/png": "[encoded data removed]",
      "text/plain": [
       "<Figure size 640x480 with 1 Axes>"
      ]
     },
     "metadata": {},
     "output_type": "display_data"
    }
   ],
   "source": [
    "# plot growth rate vs diameter\n",
    "fig, ax = plt.subplots()\n",
    "ax.plot(bins_g_mean / const.nano , dp_dt_cond)\n",
    "ax.scatter(bins_g_mean / const.nano , dp_dt_cond)\n",
    "ax.set_xscale('log')\n",
    "ax.set_yscale('log')\n",
    "ax.set_xlabel('Particle Diameter (nm)')\n",
    "ax.set_ylabel('Growth Rate (m/s)')\n",
    "ax.set_title('Growth Rate vs Diameter')\n",
    "plt.show()\n"
   ]
  },
  {
   "cell_type": "markdown",
   "id": "ecf5ce6ba6045bc",
   "metadata": {},
   "source": [
    "# Problem 1-part b"
   ]
  },
  {
   "cell_type": "code",
   "execution_count": 28,
   "id": "1fbe2bdf5f723b4a",
   "metadata": {
    "ExecuteTime": {
     "end_time": "2024-02-20T18:44:33.318060300Z",
     "start_time": "2024-02-20T18:44:33.313489200Z"
    }
   },
   "outputs": [],
   "source": [
    "#mass growth rate\n",
    "mass_growth_rate = cond_mass_growth_rate(bins_g_mean, c_inf_h2so4, c_sat_h2so4, diff_h2so4, rho_p = 1E3)\n"
   ]
  },
  {
   "cell_type": "code",
   "execution_count": 40,
   "id": "f853f2d157e97f5c",
   "metadata": {
    "ExecuteTime": {
     "end_time": "2024-02-20T19:27:25.469430800Z",
     "start_time": "2024-02-20T19:27:25.282923500Z"
    }
   },
   "outputs": [
    {
     "data": {
      "image/png": "[encoded data removed]",
      "text/plain": [
       "<Figure size 640x480 with 1 Axes>"
      ]
     },
     "metadata": {},
     "output_type": "display_data"
    }
   ],
   "source": [
    "# plot mass growth rate vs particle mass\n",
    "fig, ax = plt.subplots()\n",
    "ax.plot(bins_g_mean_mass, mass_growth_rate)\n",
    "ax.set_xscale('log')\n",
    "ax.set_yscale('log')\n",
    "ax.set_xlabel('Particle Mass (kg)')\n",
    "ax.set_ylabel('Growth Rate (kg/s)')\n",
    "ax.set_title('Growth Rate vs Mass')\n",
    "plt.show()"
   ]
  },
  {
   "cell_type": "markdown",
   "id": "84fb7c7f278ea868",
   "metadata": {},
   "source": [
    "# Problem 2\n",
    "Coagulation as a growth mechanism\n"
   ]
  },
  {
   "cell_type": "code",
   "execution_count": 30,
   "id": "5e962b47d5b0304",
   "metadata": {
    "ExecuteTime": {
     "end_time": "2024-02-20T18:44:33.515309400Z",
     "start_time": "2024-02-20T18:44:33.509758300Z"
    }
   },
   "outputs": [],
   "source": [
    "N1 = 3000 / const.centi ** 3 #molec/m^3\n",
    "dp1 = 10 * const.nano #m\n",
    "N2 = 400 / const.centi ** 3 #molec/m^3\n",
    "dp2 = 100 * const.nano #m"
   ]
  },
  {
   "cell_type": "code",
   "execution_count": 30,
   "id": "144afc32510f6031",
   "metadata": {
    "ExecuteTime": {
     "end_time": "2024-02-20T18:44:33.521574500Z",
     "start_time": "2024-02-20T18:44:33.513879900Z"
    }
   },
   "outputs": [],
   "source": []
  }
 ],
 "metadata": {
  "kernelspec": {
   "display_name": "Python 3 (ipykernel)",
   "language": "python",
   "name": "python3"
  },
  "language_info": {
   "codemirror_mode": {
    "name": "ipython",
    "version": 3
   },
   "file_extension": ".py",
   "mimetype": "text/x-python",
   "name": "python",
   "nbconvert_exporter": "python",
   "pygments_lexer": "ipython3",
   "version": "3.11.5"
  }
 },
 "nbformat": 4,
 "nbformat_minor": 5
}
